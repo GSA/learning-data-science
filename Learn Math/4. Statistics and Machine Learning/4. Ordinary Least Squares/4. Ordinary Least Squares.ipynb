{
 "cells": [
  {
   "cell_type": "code",
   "execution_count": 31,
   "metadata": {},
   "outputs": [],
   "source": [
    "%matplotlib inline\n",
    "import numpy as np\n",
    "import scipy\n",
    "import statsmodels.api as sm\n",
    "from statsmodels.stats.diagnostic import linear_rainbow\n",
    "import pandas as pd\n",
    "import matplotlib.pyplot as plt\n",
    "from scipy.stats import sem, t\n",
    "from scipy.stats.stats import pearsonr\n",
    "import sys\n",
    "import statsmodels.stats.api as sms\n",
    "from statsmodels.graphics.gofplots import ProbPlot\n",
    "from statsmodels.stats.outliers_influence import variance_inflation_factor\n",
    "import random\n",
    "import seaborn as sns\n",
    "from statsmodels.sandbox.regression.predstd import wls_prediction_std\n",
    "np.random.seed(123)"
   ]
  },
  {
   "cell_type": "markdown",
   "metadata": {},
   "source": [
    "# Ordinary Least Squares\n",
    "In statistics, **ordinary least squares (OLS)** is a type of linear least squares method for estimating the unknown parameters in a linear regression model. OLS chooses the parameters of a linear function of a set of explanatory variables by the principle of least squares: minimizing the sum of the squares of the differences between the observed dependent variable (values of the variable being predicted) in the given dataset and those predicted by the linear function.\n",
    "\n",
    "Geometrically, this is seen as the sum of the squared distances, parallel to the axis of the dependent variable, between each data point in the set and the corresponding point on the regression surface – the smaller the differences, the better the model fits the data. The resulting estimator can be expressed by a simple formula, especially in the case of a simple linear regression, in which there is a single regressor on the right side of the regression equation.\n",
    "\n",
    "With the [Gauss–Markov theorem](https://en.wikipedia.org/wiki/Gauss%E2%80%93Markov_theorem), a linear regression model in which the errors have expectation zero, are uncorrelated and have equal variances, the best linear unbiased estimator (BLUE) of the coefficients is given by the ordinary least squares (OLS) estimator, provided it exists. In other words, the OLS estimator is **consistent** when the regressors are exogenous, and **optimal** in the class of linear unbiased estimators when the errors are homoscedastic and serially uncorrelated. Under these conditions, the method of OLS provides minimum-variance mean-unbiased estimation when the errors have finite variances. Under the additional assumption that the errors are normally distributed, OLS is the maximum likelihood estimator."
   ]
  },
  {
   "cell_type": "markdown",
   "metadata": {},
   "source": [
    "### Create Artificial Data"
   ]
  },
  {
   "cell_type": "code",
   "execution_count": 2,
   "metadata": {},
   "outputs": [],
   "source": [
    "nsample = 200\n",
    "x = np.linspace(0, 10, nsample)\n",
    "X = np.column_stack((x, x**2))\n",
    "beta = np.array([1, 0.1, 10])\n",
    "e = np.random.normal(size=nsample)\n",
    "#data needs to have an intercept added\n",
    "X = sm.add_constant(X)\n",
    "y = np.dot(X, beta) + e"
   ]
  },
  {
   "cell_type": "markdown",
   "metadata": {},
   "source": [
    "### Specify the system using matrix notation"
   ]
  },
  {
   "cell_type": "markdown",
   "metadata": {},
   "source": [
    "Above, we created an [overdetermined system](https://en.wikipedia.org/wiki/Overdetermined_system) where there are more equations (i.e. rows) than unknowns (i.e. independent variables):\n",
    "\n",
    "$$\\sum_{j=1}^{p} X_{ij}\\beta_j = y_i,\\ (i=1, 2, \\dots, n)$$\n",
    "\n",
    "There are $n$ linear equations in $p$ unknown coefficients, $\\beta_1,\\beta_2,…,\\beta_p$, with $n > p$. (Note: for a linear model as above, not all of $\\mathbf X$ contains information on the data points. The first column is populated with ones, $X_{i1} = 1$, only the other columns contain actual data, so here $p = number of regressors + 1$.) This can be written in matrix form as:\n",
    "\n",
    "$$X\\beta=y$$\n",
    "\n",
    "where,\n",
    "\n",
    "$$\n",
    "\\mathbf {X}=\\begin{bmatrix}\n",
    "X_{11} & X_{12} & \\cdots & X_{1p} \\\\\n",
    "X_{21} & X_{22} & \\cdots & X_{2p} \\\\\n",
    "\\vdots & \\vdots & \\ddots & \\vdots \\\\\n",
    "X_{n1} & X_{n2} & \\cdots & X_{np}\n",
    "\\end{bmatrix} ,\n",
    "\\qquad \\boldsymbol \\beta = \\begin{bmatrix}\n",
    "\\beta_1 \\\\ \\beta_2 \\\\ \\vdots \\\\ \\beta_p \\end{bmatrix} ,\n",
    "\\qquad \\mathbf y = \\begin{bmatrix}\n",
    "y_1 \\\\ y_2 \\\\ \\vdots \\\\ y_n\n",
    "\\end{bmatrix}\n",
    "$$\n",
    "\n",
    "Such a system usually has no exact solution, so the goal is instead to find the coefficients **$\\beta$** which fit the equations \"best\", in the sense of solving the quadratic minimization problem:\n",
    "\n",
    "$$\n",
    "\\hat{\\boldsymbol{\\beta}} = \\underset{\\boldsymbol{\\beta}}{\\operatorname{arg\\,min}}\\,S(\\boldsymbol{\\beta})\n",
    "$$\n",
    "\n",
    "where the objective function $S$ is given by:\n",
    "\n",
    "$$\n",
    "S(\\boldsymbol{\\beta}) = \\sum_{i=1}^n \\bigl| y_i - \\sum_{j=1}^p X_{ij}\\beta_j\\bigr|^2 = \\bigl\\|\\mathbf y - \\mathbf X \\boldsymbol \\beta \\bigr\\|^2\n",
    "$$\n",
    "\n",
    "The justification for choosing this criterion depends on several assumptions, which derive from the [Gauss–Markov theorem](https://en.wikipedia.org/wiki/Gauss%E2%80%93Markov_theorem) (more on those assumptions later).\n",
    "\n",
    "When the assumptions are met, this minimization problem has a unique solution, provided that the $p$ columns of the matrix $\\mathbf X$ are **linearly independent**, given by solving the normal equations:\n",
    "\n",
    "$$(\\mathbf X^{\\rm T} \\mathbf X )\\hat{\\boldsymbol{\\beta}}= \\mathbf X^{\\rm T} \\mathbf y.$$\n",
    "\n",
    "The matrix $\\mathbf {X} ^{\\rm {T}}\\mathbf {X}$ is known as the [Gramian matrix](https://en.wikipedia.org/wiki/Gramian_matrix) of $ \\mathbf {X} $ and possesses several nice properties such as being a [positive semi-definite matrix](https://en.wikipedia.org/wiki/Definiteness_of_a_matrix#Negative-definite,_semidefinite_and_indefinite_matrices). The matrix $\\mathbf {X} ^{\\rm {T}}\\mathbf {y} $ is known as the [moment matrix](https://en.wikipedia.org/wiki/Moment_matrix) of regressand by regressors. Finally, $ {\\hat {\\boldsymbol {\\beta }}}$ is the coefficient vector of the least-squares hyperplane, expressed as:\n",
    "\n",
    "$$\n",
    "\\hat{\\boldsymbol{\\beta}}= (\\mathbf X^{\\rm T} \\mathbf X )^{-1} \\mathbf X^{\\rm T} \\mathbf y\n",
    "$$\n",
    "\n",
    "We can use numpy to calculate $\\hat{\\boldsymbol{\\beta}}$:"
   ]
  },
  {
   "cell_type": "code",
   "execution_count": 3,
   "metadata": {},
   "outputs": [
    {
     "data": {
      "text/plain": [
       "array([0.89972015, 0.19429952, 9.9890047 ])"
      ]
     },
     "execution_count": 3,
     "metadata": {},
     "output_type": "execute_result"
    }
   ],
   "source": [
    "X_T = np.transpose(X)\n",
    "B_hat = np.dot(np.dot(np.linalg.inv(np.dot(X_T, X)), X_T), y)\n",
    "B_hat"
   ]
  },
  {
   "cell_type": "markdown",
   "metadata": {},
   "source": [
    "Above, we used numpy to calculate $ \\hat{\\boldsymbol{\\beta}}= (\\mathbf X^{\\rm T} \\mathbf X )^{-1} \\mathbf X^{\\rm T} \\mathbf y $. The returned array contains the coefficients for our constant, $X_1$, and $X_2$, respectively."
   ]
  },
  {
   "cell_type": "markdown",
   "metadata": {},
   "source": [
    "## Estimation\n",
    "\n",
    "#### Calculating the fitted values\n",
    "\n",
    "After we have estimated $\\beta$, the fitted values (or predicted values) from the regression will be:\n",
    "\n",
    "$$\n",
    "\\hat{y} = X\\hat\\beta = Py\n",
    "$$\n",
    "\n",
    "where $P = X(X^{T}X)^{−1}X^T$ is the projection matrix onto the space $V$ spanned by the columns of $X$. This matrix $P$ is also sometimes called the hat matrix because it \"puts a hat\" onto the variable $y$. "
   ]
  },
  {
   "cell_type": "code",
   "execution_count": 4,
   "metadata": {},
   "outputs": [
    {
     "data": {
      "text/plain": [
       "array([0.89972015, 0.93470807, 1.02014423, 1.15602864, 1.34236129,\n",
       "       1.57914219, 1.86637133, 2.20404871, 2.59217434, 3.03074822])"
      ]
     },
     "execution_count": 4,
     "metadata": {},
     "output_type": "execute_result"
    }
   ],
   "source": [
    "P = np.dot(np.dot(np.dot(X, np.linalg.inv(np.dot(X_T, X))), X_T), y)\n",
    "P[:10]"
   ]
  },
  {
   "cell_type": "markdown",
   "metadata": {},
   "source": [
    "## Calculating Error and Goodness of Fit\n",
    "Suppose $b$ is a \"candidate\" value for the parameter vector $\\beta$. The quantity $y_i − x_{i}^{T}b$, called the residual for the i-th observation, measures the vertical distance between the data point $(x_i, y_i)$ and the hyperplane $y = x^{T}b$, and thus assesses the degree of fit between the actual data and the model. The **sum of squared residuals (SSR)** (also called the error sum of squares (ESS) or residual sum of squares (RSS)) is a measure of the overall model fit:\n",
    "\n",
    "$$\n",
    "S(b) = \\sum_{i=1}^n (y_i - x_i ^\\mathrm{T} b)^2 = (y-Xb)^\\mathrm{T}(y-Xb)\n",
    "$$\n",
    "\n",
    "The value of $b$ which minimizes this sum is called the OLS estimator for $\\beta$, which is what we calculated above. Now, let's calculate the SSR by hand:"
   ]
  },
  {
   "cell_type": "code",
   "execution_count": 5,
   "metadata": {},
   "outputs": [
    {
     "name": "stdout",
     "output_type": "stream",
     "text": [
      "219.71901589411047\n"
     ]
    }
   ],
   "source": [
    "ssr = np.dot(np.transpose(y - np.dot(X, B_hat)), y - np.dot(X, B_hat))\n",
    "print(ssr)"
   ]
  },
  {
   "cell_type": "markdown",
   "metadata": {},
   "source": [
    "Another matrix, closely related to $P$ above, is the annihilator matrix $M = I_n − P$ (note that $I_n$ is referring to an [identity matrix](https://en.wikipedia.org/wiki/Identity_matrix)). This is a projection matrix onto the space orthogonal to $V$. Both matrices $P$ and $M$ are symmetric and idempotent and relate to the data matrix $X$ via identities $1=PX = X$ and $MX=0$.\n",
    "\n",
    "Matrix $M$ creates the residuals from the regression:\n",
    "\n",
    "$$\n",
    "\\hat\\varepsilon = y - \\hat y = y - X\\hat\\beta = My = M(X\\beta+\\varepsilon) = (MX)\\beta + M\\varepsilon = M\\varepsilon\n",
    "$$\n",
    "\n",
    "Using these residuals we can estimate the value of $\\sigma^2$, called the [reduced chi-squared](https://en.wikipedia.org/wiki/Reduced_chi-squared_statistic):\n",
    "\n",
    "$$\n",
    "s^2 = \\frac{\\hat\\varepsilon ^\\mathrm{T} \\hat\\varepsilon}{n-p} = \\frac{(My)^\\mathrm{T} My}{n-p} = \\frac{y^\\mathrm{T} M^\\mathrm{T}My}{n-p}= \\frac{y ^\\mathrm{T} My}{n-p} = \\frac{S(\\hat\\beta)}{n-p},\\qquad\n",
    "    \\hat\\sigma^2 = \\frac{n-p}{n}\\;s^2\n",
    "$$\n",
    "\n",
    "The numerator, $n−p$, is the [statistical degrees of freedom](https://en.wikipedia.org/wiki/Degrees_of_freedom_(statistics)). The first quantity, $s^2$, is the OLS estimate for $\\sigma^2$, whereas the second, $\\hat\\sigma^2$, is the MLE estimate for $\\sigma^2$. The two estimators are quite similar in large samples; the first estimator is always [unbiased](https://en.wikipedia.org/wiki/Bias_of_an_estimator), while the second estimator is biased but has a smaller [mean squared error](https://en.wikipedia.org/wiki/Mean_squared_error). In practice $s^2$ is used more often, since it is more convenient for the hypothesis testing. The square root of $s^2$ is called the regression standard error, standard error of the regression, or standard error of the equation. The value of $s$ provides the absolute measure in the units of the dependent variables of the typical distance that the data points fall from the regression line. Below, we'll caluclate $s$:"
   ]
  },
  {
   "cell_type": "code",
   "execution_count": 6,
   "metadata": {},
   "outputs": [
    {
     "name": "stdout",
     "output_type": "stream",
     "text": [
      "1.0560894629610236\n"
     ]
    }
   ],
   "source": [
    "n = X.shape[0]\n",
    "p = X.shape[1]\n",
    "dof = n - p\n",
    "eps_hat = y - P\n",
    "eps_hat_T = np.transpose(eps_hat)\n",
    "s_2 = np.dot(eps_hat_T, eps_hat) / dof\n",
    "#regression standard error\n",
    "s = np.sqrt(s_2)\n",
    "print(s)"
   ]
  },
  {
   "cell_type": "markdown",
   "metadata": {},
   "source": [
    "It is common to assess the goodness-of-fit of the OLS regression by comparing how much the initial variation in the sample can be reduced by regressing onto $X$. The coefficient of determination $R^2$ is defined as a ratio of \"explained\" variance to the \"total\" variance of the dependent variable $y$:\n",
    "\n",
    "$$\n",
    "R^2 = \\frac{\\sum(\\hat y_i-\\overline{y})^2}{\\sum(y_i-\\overline{y})^2} = \\frac{y ^\\mathrm{T} P ^\\mathrm{T} LPy}{y ^\\mathrm{T} Ly} = 1 - \\frac{y ^\\mathrm{T} My}{y ^\\mathrm{T} Ly} = 1 - \\frac{\\rm SSR}{\\rm TSS}\n",
    "$$\n",
    "\n",
    "where TSS is the total sum of squares for the dependent variable, $L = I_n − 11^T/n$ ($1$ is an $n×1$ vector of ones) and L is a \"centering matrix\" which is equivalent to regression on a constant; it simply subtracts the mean from a variable. In order for $R^2$ to be meaningful, the matrix $X$ of data on regressors must contain a column vector of ones to represent the constant whose coefficient is the regression intercept. In that case, $R^2$ will always be a number between 0 and 1, with values close to 1 indicating a good degree of fit."
   ]
  },
  {
   "cell_type": "code",
   "execution_count": 7,
   "metadata": {},
   "outputs": [
    {
     "name": "stdout",
     "output_type": "stream",
     "text": [
      "17993561.903605234 17993781.62262119 0.9999877891695829\n"
     ]
    }
   ],
   "source": [
    "y_bar = np.mean(y)\n",
    "num = np.sum(np.square(P - y_bar))\n",
    "denom = np.sum(np.square(y - y_bar))\n",
    "r_2 = num / denom\n",
    "print(num, denom, r_2)"
   ]
  },
  {
   "cell_type": "markdown",
   "metadata": {},
   "source": [
    "#### Coefficient standard errors\n",
    "The variance-covariance matrix (or simply covariance matrix) of $\\hat {\\beta }$ is equal to:\n",
    "\n",
    "$$\n",
    "\\operatorname{Var}[\\, \\hat\\beta \\mid X \\,] = \\sigma^2(X ^T X)^{-1} = \\sigma^2 Q\n",
    "$$\n",
    "\n",
    "Once we calculate that, the standard error of each coefficient ${\\hat {\\beta }}_{j}$ is equal to square root of the j-th diagonal element of this matrix. The estimate of this standard error is obtained by replacing the unknown quantity $\\sigma^2$ with its estimate $s^2$. Let's do that below:"
   ]
  },
  {
   "cell_type": "code",
   "execution_count": 8,
   "metadata": {},
   "outputs": [
    {
     "name": "stderr",
     "output_type": "stream",
     "text": [
      "/Users/charlessmcallister/.local/share/virtualenvs/learning-data-science-Oygx0A85/lib/python3.7/site-packages/ipykernel_launcher.py:3: RuntimeWarning: invalid value encountered in sqrt\n",
      "  This is separate from the ipykernel package so we can avoid doing imports until\n"
     ]
    },
    {
     "data": {
      "text/plain": [
       "array([0.22180862, 0.10248138, 0.00991963])"
      ]
     },
     "execution_count": 8,
     "metadata": {},
     "output_type": "execute_result"
    }
   ],
   "source": [
    "Q = np.linalg.inv(np.dot(np.transpose(X), X))\n",
    "#RuntimeWarning will occur due to negative off-diagonal values\n",
    "covar = np.sqrt(np.dot(s_2, Q))\n",
    "std_errs = np.diagonal(covar)\n",
    "std_errs"
   ]
  },
  {
   "cell_type": "markdown",
   "metadata": {},
   "source": [
    "These standard errors estimates of the standard deviations of each coefficient, i.e. the amount each coefficient varies across observsations. It can be thought of as a measure of the precision with which the regression coefficient is measured. \n",
    "\n",
    "If a coefficient is large compared to its standard error, then it is probably different from 0. How large is too large? The $t$ statistic, which is the coefficient divided by its standard error, can be compared to [Student's t distribution](https://en.wikipedia.org/wiki/Student%27s_t-distribution) to determine a $p$ value, which is the number that you really need to be looking at. \n",
    "\n",
    "The Student's t distribution describes how the mean of a sample with a certain number of observations (your $n$) is expected to behave. If 95% of the t distribution is closer to the mean than the t-value on the coefficient you are looking at, then you have a P value of 5%. This is also reffered to a significance level of 5%. The p-value is the probability of seeing a result as extreme as the one you are getting (a t value as large as yours) in a collection of random data in which the variable had no effect.\n",
    "\n",
    "Below, we'll calculate the t-statisics and p-values for our coeffecients given those standard errors."
   ]
  },
  {
   "cell_type": "code",
   "execution_count": 9,
   "metadata": {},
   "outputs": [
    {
     "data": {
      "text/plain": [
       "array([   4.05629023,    1.89594953, 1006.99414871])"
      ]
     },
     "execution_count": 9,
     "metadata": {},
     "output_type": "execute_result"
    }
   ],
   "source": [
    "ts = B_hat / std_errs\n",
    "ts"
   ]
  },
  {
   "cell_type": "code",
   "execution_count": 10,
   "metadata": {},
   "outputs": [
    {
     "name": "stdout",
     "output_type": "stream",
     "text": [
      "stderr:   0.222 t-statistic =  4.056 pvalue = 0.0001\n",
      "stderr:   0.102 t-statistic =  1.896 pvalue = 0.0594\n",
      "stderr:   0.010 t-statistic = 1006.994 pvalue = 0.0000\n"
     ]
    }
   ],
   "source": [
    "for err, t_stat in zip(std_errs, ts):\n",
    "    pval = t.sf(np.abs(t_stat), n-1)*2  # two-sided p-value\n",
    "    print('stderr:  %6.3f t-statistic = %6.3f pvalue = %6.4f' % (err, t_stat, pval))\n",
    "    "
   ]
  },
  {
   "cell_type": "markdown",
   "metadata": {},
   "source": [
    "Finally, we can calucalte confidence intervals for these standard errors:"
   ]
  },
  {
   "cell_type": "code",
   "execution_count": 11,
   "metadata": {},
   "outputs": [
    {
     "name": "stdout",
     "output_type": "stream",
     "text": [
      "0.8997201520803788 0.22180862328896475 4.056290232270428\n",
      "0.19429952228927938 0.10248137902386163 1.8959495289777368\n",
      "9.98900469615945 0.009919625361275723 1006.9941487059149\n"
     ]
    }
   ],
   "source": [
    "for coef, err, t_stat in zip(B_hat, std_errs, ts):\n",
    "    print(coef, err, t_stat)"
   ]
  },
  {
   "cell_type": "code",
   "execution_count": 12,
   "metadata": {},
   "outputs": [
    {
     "name": "stdout",
     "output_type": "stream",
     "text": [
      "stderr:   0.222 t-statistic =  4.056 pvalue = 0.0001 lower_ci = 0.4623 upper_ci = 1.3371\n",
      "stderr:   0.102 t-statistic =  1.896 pvalue = 0.0594 lower_ci = -0.0078 upper_ci = 0.3964\n",
      "stderr:   0.010 t-statistic = 1006.994 pvalue = 0.0000 lower_ci = 9.9694 upper_ci = 10.0086\n"
     ]
    }
   ],
   "source": [
    "confidence = .95 #alpha = .05\n",
    "for coef, err, t_stat in zip(B_hat, std_errs, ts):\n",
    "    pval = t.sf(np.abs(t_stat), n-1)*2  # two-sided p-value\n",
    "    h = err * t.ppf((1 + confidence) / 2, n - 1)\n",
    "    start = coef - h\n",
    "    end = coef + h\n",
    "    print('stderr:  %6.3f t-statistic = %6.3f pvalue = %6.4f lower_ci = %6.4f upper_ci = %6.4f' % (err, \n",
    "                                                                                                   t_stat, \n",
    "                                                                                                   pval,\n",
    "                                                                                                   start,\n",
    "                                                                                                   end))"
   ]
  },
  {
   "cell_type": "markdown",
   "metadata": {},
   "source": [
    "## OLS with Statsmodels\n",
    "Now that we've calculated the OLS model by hand, let's use statsmodels."
   ]
  },
  {
   "cell_type": "code",
   "execution_count": 13,
   "metadata": {},
   "outputs": [
    {
     "name": "stdout",
     "output_type": "stream",
     "text": [
      "                            OLS Regression Results                            \n",
      "==============================================================================\n",
      "Dep. Variable:                      y   R-squared:                       1.000\n",
      "Model:                            OLS   Adj. R-squared:                  1.000\n",
      "Method:                 Least Squares   F-statistic:                 8.067e+06\n",
      "Date:                Fri, 19 Apr 2019   Prob (F-statistic):               0.00\n",
      "Time:                        07:46:29   Log-Likelihood:                -293.19\n",
      "No. Observations:                 200   AIC:                             592.4\n",
      "Df Residuals:                     197   BIC:                             602.3\n",
      "Df Model:                           2                                         \n",
      "Covariance Type:            nonrobust                                         \n",
      "==============================================================================\n",
      "                 coef    std err          t      P>|t|      [0.025      0.975]\n",
      "------------------------------------------------------------------------------\n",
      "const          0.8997      0.222      4.056      0.000       0.462       1.337\n",
      "x1             0.1943      0.102      1.896      0.059      -0.008       0.396\n",
      "x2             9.9890      0.010   1006.994      0.000       9.969      10.009\n",
      "==============================================================================\n",
      "Omnibus:                        0.456   Durbin-Watson:                   1.950\n",
      "Prob(Omnibus):                  0.796   Jarque-Bera (JB):                0.514\n",
      "Skew:                          -0.112   Prob(JB):                        0.774\n",
      "Kurtosis:                       2.894   Cond. No.                         145.\n",
      "==============================================================================\n",
      "\n",
      "Warnings:\n",
      "[1] Standard Errors assume that the covariance matrix of the errors is correctly specified.\n"
     ]
    }
   ],
   "source": [
    "model = sm.OLS(y, X)\n",
    "results = model.fit()\n",
    "print(results.summary())"
   ]
  },
  {
   "cell_type": "code",
   "execution_count": 14,
   "metadata": {},
   "outputs": [
    {
     "name": "stdout",
     "output_type": "stream",
     "text": [
      "[0.89972015 0.19429952 9.9890047 ]\n",
      "[0.89972015 0.19429952 9.9890047 ]\n"
     ]
    }
   ],
   "source": [
    "print(results.params)\n",
    "print(B_hat)"
   ]
  },
  {
   "cell_type": "code",
   "execution_count": 15,
   "metadata": {},
   "outputs": [
    {
     "name": "stdout",
     "output_type": "stream",
     "text": [
      "[0.22180862 0.10248138 0.00991963]\n",
      "[0.22180862 0.10248138 0.00991963]\n"
     ]
    }
   ],
   "source": [
    "print(results.bse)\n",
    "print(std_errs)"
   ]
  },
  {
   "cell_type": "code",
   "execution_count": 16,
   "metadata": {},
   "outputs": [
    {
     "name": "stdout",
     "output_type": "stream",
     "text": [
      "219.7190158941119\n",
      "219.71901589411047\n"
     ]
    }
   ],
   "source": [
    "print(results.ssr)\n",
    "print(ssr)"
   ]
  },
  {
   "cell_type": "markdown",
   "metadata": {},
   "source": [
    "As we can see, our calculations came out the same."
   ]
  },
  {
   "cell_type": "markdown",
   "metadata": {},
   "source": [
    "# OLS Assumptions\n",
    "In order for OLS estimates to be valid, we need to make at least 6 assumptions:\n",
    "\n",
    "1. OLS model is linear in its parameters.\n",
    "2. Error term has 0 population mean\n",
    "3. Error term is not correlated with Xs\n",
    "4. No serial correlation (really only an issue with time series data)\n",
    "5. No heteroskedasticity \n",
    "6. No perfect multicolinearity\n",
    "\n",
    "Sometimes a 7th optional assumption is added:\n",
    "\n",
    "7. Error term is normally distributed\n",
    "\n",
    "\n",
    "Violations of these assumptions can result in things like incorrect signs for your coefficient estimates or unreliable variances for your OLS estimates, leading to confidence intervals that are too wide or too narrow.\n",
    "\n",
    "That being said, we'll first cover the famous **Gauss-Markov Theorem**, which is where these assumptions come from. Then we'll discuss each assumption in turn.\n",
    "\n",
    "### The Gauss-Markov Theorem\n",
    "The Gauss-Markov Theorem is named after Carl Friedrich Gauss and Andrey Markov.\n",
    "\n",
    "Let the regression model be: $Y={ \\beta }_{ o }+{ \\beta }_{ i }{ X }_{ i }+\\varepsilon$\n",
    "\n",
    "Under the Gauss-Markov Theorem, the model specified above is the **Best Linear Unbiased Estimators (BLUE)** if, and only if, several assumptions are satisfied. BLUE merely means that the estimated $\\beta$ coefficients have the minimum variance of all linear and unbiased estimators of $\\beta$. This venn digram illustrates:\n",
    "\n",
    "<img src=\"assets/blue.png\" width=\"300\">"
   ]
  },
  {
   "cell_type": "markdown",
   "metadata": {},
   "source": [
    "### 1. The linear regression model is “linear in parameters.”\n",
    "Consider an equation of the form:\n",
    "\n",
    "$$\n",
    "y = \\beta_0 + \\beta_1x_1 + \\beta_2x_2 + \\epsilon\n",
    "$$\n",
    "\n",
    "where $x$'s are the variables and $\\beta$'s are the parameters. Here, $y$ is a linear function of $\\beta$'s (linear in parameters) and also a linear function of $x$'s (linear in variables). If you change the equation to\n",
    "\n",
    "$$\n",
    "y = \\beta_0 + \\beta_1x_1 + \\beta_2x_1^2 + \\epsilon\n",
    "$$\n",
    "\n",
    "Then, it is no longer linear in variables (because of the squared term) but it is still linear in parameters. And for (multiple) linear regression, that's all that matters because in the end, you are trying to find a set of $\n",
    "\\beta$'s that minimizes a loss function. For that, you need to solve a system of linear equations (like we did above).\n",
    " \n",
    "To get a better understanding of this, we'll simulate some data with a non-linear relationship between $x$ and $y$. Then we'll fit an OLS non-linear curve that's nevertheless linear in its parameters. "
   ]
  },
  {
   "cell_type": "code",
   "execution_count": 17,
   "metadata": {},
   "outputs": [
    {
     "name": "stdout",
     "output_type": "stream",
     "text": [
      "                            OLS Regression Results                            \n",
      "==============================================================================\n",
      "Dep. Variable:                      y   R-squared:                       0.947\n",
      "Model:                            OLS   Adj. R-squared:                  0.944\n",
      "Method:                 Least Squares   F-statistic:                     275.9\n",
      "Date:                Fri, 19 Apr 2019   Prob (F-statistic):           2.10e-29\n",
      "Time:                        07:46:38   Log-Likelihood:                -26.947\n",
      "No. Observations:                  50   AIC:                             61.89\n",
      "Df Residuals:                      46   BIC:                             69.54\n",
      "Df Model:                           3                                         \n",
      "Covariance Type:            nonrobust                                         \n",
      "==============================================================================\n",
      "                 coef    std err          t      P>|t|      [0.025      0.975]\n",
      "------------------------------------------------------------------------------\n",
      "x1             0.4698      0.023     20.666      0.000       0.424       0.516\n",
      "x2             0.5566      0.089      6.228      0.000       0.377       0.736\n",
      "x3            -0.0182      0.002     -9.138      0.000      -0.022      -0.014\n",
      "const          5.1359      0.147     34.845      0.000       4.839       5.433\n",
      "==============================================================================\n",
      "Omnibus:                        0.156   Durbin-Watson:                   1.983\n",
      "Prob(Omnibus):                  0.925   Jarque-Bera (JB):                0.349\n",
      "Skew:                          -0.079   Prob(JB):                        0.840\n",
      "Kurtosis:                       2.623   Cond. No.                         221.\n",
      "==============================================================================\n",
      "\n",
      "Warnings:\n",
      "[1] Standard Errors assume that the covariance matrix of the errors is correctly specified.\n"
     ]
    }
   ],
   "source": [
    "nsample = 50\n",
    "sig = 0.5\n",
    "x1 = np.linspace(0, 20, nsample)\n",
    "X1 = np.column_stack((x1, np.sin(x1), (x1-5)**2, np.ones(nsample)))\n",
    "beta = [0.5, 0.5, -0.02, 5.]\n",
    "\n",
    "y_true = np.dot(X1, beta)\n",
    "y1 = y_true + sig * np.random.normal(size=nsample)\n",
    "\n",
    "res = sm.OLS(y1, X1).fit()\n",
    "print(res.summary())"
   ]
  },
  {
   "cell_type": "markdown",
   "metadata": {},
   "source": [
    "Now we'll graphically compare the true relationship to the OLS predictions. This is commonly called a **residuals-vs-fitted plot**. This graph shows if there are any nonlinear patterns in the residuals, and thus in the data as well. One of the mathematical assumptions in building an OLS model is that the data can be fit by a line. If this assumption holds and our data can be fit by a linear model, then we should see a relatively flat line when looking at the residuals vs fitted.\n",
    "\n",
    "If the relationship is nonlinear, the residuals will have non-random patterns.\n",
    "\n",
    "Confidence intervals around the predictions are built using the `wls_prediction_std` command:"
   ]
  },
  {
   "cell_type": "code",
   "execution_count": 18,
   "metadata": {},
   "outputs": [
    {
     "data": {
      "image/png": "[encoded data removed]",
      "text/plain": [
       "<Figure size 576x432 with 1 Axes>"
      ]
     },
     "metadata": {
      "needs_background": "light"
     },
     "output_type": "display_data"
    }
   ],
   "source": [
    "prstd, iv_l, iv_u = wls_prediction_std(res)\n",
    "\n",
    "fig, ax = plt.subplots(figsize=(8,6))\n",
    "\n",
    "ax.plot(x1, y1, 'o', label=\"data\")\n",
    "ax.plot(x1, y_true, 'b-', label=\"True\")\n",
    "ax.plot(x1, res.fittedvalues, 'r--.', label=\"OLS\")\n",
    "ax.plot(x1, iv_u, 'r--')\n",
    "ax.plot(x1, iv_l, 'r--')\n",
    "ax.legend(loc='best');"
   ]
  },
  {
   "cell_type": "markdown",
   "metadata": {},
   "source": [
    "More formally, you can use the Rainbow Test for the Null hypothesis that the linear specification is correct:"
   ]
  },
  {
   "cell_type": "code",
   "execution_count": 19,
   "metadata": {},
   "outputs": [
    {
     "name": "stdout",
     "output_type": "stream",
     "text": [
      "[('t value', 0.9912127048425328), ('p value', 0.5131894359928766)]\n"
     ]
    }
   ],
   "source": [
    "name = ['t value', 'p value']\n",
    "test = linear_rainbow(res)\n",
    "print(list(zip(name, test)))"
   ]
  },
  {
   "cell_type": "markdown",
   "metadata": {},
   "source": [
    "### 2. Error term has zero population mean\n",
    "This is sometimes phrased as the errors having a [conditional mean](https://en.wikipedia.org/wiki/Conditional_expectation) of zero: \n",
    "\n",
    "$$\\operatorname{E}[\\,\\varepsilon\\mid X\\,] = 0$$ \n",
    "\n",
    "In other words, each observation should have random error with a mean of 0. This is of couse rarely the case, so that's why a constant term (the intercept) is added to the OLS model. It takes the amount of error that deviates from 0, lallowing us to say $\\operatorname{E}[\\,\\varepsilon\\mid X\\,] = 0$"
   ]
  },
  {
   "cell_type": "markdown",
   "metadata": {},
   "source": [
    "### 3. Error term is not correlated with Xs\n",
    "This is often referred to as **strict exogeneity**, meaning that your independent variables are determined outside of the model. If this assumption is violated, the real cause of changes in your dependent variable might end up in your error term and then inflate (or deflate) the coefficient for one (or more) of your coefficient estimates.\n",
    "\n",
    "As an example, take this simple OLS model:\n",
    "\n",
    "$$\n",
    "y = \\beta_0 + \\beta_{1}X_{i} + \\epsilon_i\n",
    "$$\n",
    "\n",
    "Suppose $X_i$ and $\\epsilon_i$ are positively correlated, i.e. when $X_i$ is large, $/epsilon_i$ tends to be large. In this case, your plotted line might look like this:\n",
    "\n",
    "<img src=\"assets/exog.png\" width=\"300\">\n",
    "\n",
    "Why would $X_i$ and $\\epsilon_i$ be positively correlated? And how could that cause your estimated coefficient for $X$ overshoot the true value? As an example, pretend our $y$ is quantity of hamburgers sold across the county and our $X$ is the price of those hamburgers. Our model would be:\n",
    "\n",
    "$$\n",
    "sales_i = \\beta_0 + \\beta_{1}price_{i} + \\epsilon_i\n",
    "$$\n",
    "\n",
    "The problem with this model is that it's omitted (at least one) very important variable:  **quality**. It's quality much more so than price that drives a person's decision to buy a 1 dollar burger from McDonalds as opposed to a 20 dollar burger from a fancy gastropub. By not including this variable in the model, its effect becomes a part of $\\epsilon_i$. Unfortuntely, price and quality are highly correlated. Therefore $x$ and $\\epsilon$ are highly correlated. This means the estimate of $\\beta_{1}$ will be too high, as you can see in the plot above. \n",
    "\n",
    "You can easily calculate the correlation between your error and Xs like this:"
   ]
  },
  {
   "cell_type": "code",
   "execution_count": 47,
   "metadata": {},
   "outputs": [
    {
     "name": "stdout",
     "output_type": "stream",
     "text": [
      "1 -2.1271246713672138e-13 1.0\n",
      "2 -2.164611624876811e-13 1.0\n"
     ]
    }
   ],
   "source": [
    "error_term = results.resid\n",
    "for col in range(X.shape[1]):\n",
    "    if col == 0:\n",
    "        continue\n",
    "    _X = X[:,col]\n",
    "    r, p_value = pearsonr(error_term, _X)\n",
    "    print(col, r, p_value)"
   ]
  },
  {
   "cell_type": "markdown",
   "metadata": {},
   "source": [
    "### 4. No serial correlation\n",
    "Serial correlation (also called autocorrelation) occurs when the error terms across observations are correlated with one another (i.e. $\\epsilon_1$ is correlated with $\\epsilon_2$). the errors are uncorrelated between observations: $E[\\epsilon_i \\epsilon_j \\mid X] = 0$ for $i ≠ j$. \n",
    "\n",
    "\n",
    "If errors are serially correlated like this, then the error in one period affects the error in the next. This is important to check for in time series data, panel data, cluster samples, hierarchical data, repeated measures data, longitudinal data, and other data with dependencies. In such cases generalized least squares provides a better alternative than the OLS. Another expression for autocorrelation is serial correlation."
   ]
  },
  {
   "cell_type": "markdown",
   "metadata": {},
   "source": [
    "### 5. Homoscedasticity\n",
    "The error should have a constant variance: \n",
    "$$E[{\\epsilon_i}^2\\mid X] = \\sigma^2$$ \n",
    "\n",
    "This means that the error term should have the same variance $\\sigma^2$ in each observation. When this requirement is violated we have heteroscedasticity (i.e. the variance of the error depends on $X$). In such cases a more efficient estimator could be weighted least squares. If the errors have infinite variance then the OLS estimates will also have infinite variance (although by the law of large numbers they will nonetheless tend toward the true values so long as the errors have zero mean). In this case, [robust estimation](https://en.wikipedia.org/wiki/Robust_regression) techniques are recommended.\n",
    "\n",
    "A good visual way to check for heteroscedasticity is with a Scale-Location plot."
   ]
  },
  {
   "cell_type": "code",
   "execution_count": 47,
   "metadata": {},
   "outputs": [],
   "source": [
    "# model values\n",
    "model_fitted_y = results.fittedvalues\n",
    "# model residuals\n",
    "model_residuals = results.resid\n",
    "# normalized residuals\n",
    "model_norm_residuals = results.get_influence().resid_studentized_internal\n",
    "# absolute squared normalized residuals\n",
    "model_norm_residuals_abs_sqrt = np.sqrt(np.abs(model_norm_residuals))\n",
    "# absolute residuals\n",
    "model_abs_resid = np.abs(model_residuals)\n",
    "# leverage, from statsmodels internals\n",
    "model_leverage = results.get_influence().hat_matrix_diag\n",
    "# cook's distance, from statsmodels internals\n",
    "model_cooks = results.get_influence().cooks_distance[0]"
   ]
  },
  {
   "cell_type": "code",
   "execution_count": 49,
   "metadata": {},
   "outputs": [
    {
     "data": {
      "image/png": "[encoded data removed]",
      "text/plain": [
       "<Figure size 432x288 with 1 Axes>"
      ]
     },
     "metadata": {
      "needs_background": "light"
     },
     "output_type": "display_data"
    }
   ],
   "source": [
    "# annotations\n",
    "abs_norm_resid = np.flip(np.argsort(np.abs(model_norm_residuals)), 0)\n",
    "abs_norm_resid_top_3 = abs_norm_resid[:3]\n",
    "\n",
    "\n",
    "plot_lm_3 = plt.figure()\n",
    "plt.scatter(model_fitted_y, model_norm_residuals_abs_sqrt, alpha=0.5);\n",
    "sns.regplot(model_fitted_y, model_norm_residuals_abs_sqrt,\n",
    "          scatter=False,\n",
    "          ci=False,\n",
    "          lowess=True,\n",
    "          line_kws={'color': 'red', 'lw': 1, 'alpha': 0.8});\n",
    "plot_lm_3.axes[0].set_title('Scale-Location')\n",
    "plot_lm_3.axes[0].set_xlabel('Fitted values')\n",
    "plot_lm_3.axes[0].set_ylabel('$\\sqrt{|Standardized Residuals|}$');\n",
    "\n",
    "# annotations\n",
    "abs_sq_norm_resid = np.flip(np.argsort(model_norm_residuals_abs_sqrt), 0)\n",
    "abs_sq_norm_resid_top_3 = abs_sq_norm_resid[:3]\n",
    "for i in abs_norm_resid_top_3:\n",
    "    plot_lm_3.axes[0].annotate(i,\n",
    "                             xy=(model_fitted_y[i],\n",
    "                                 model_norm_residuals_abs_sqrt[i]));"
   ]
  },
  {
   "cell_type": "markdown",
   "metadata": {},
   "source": [
    "The more horizontal the red line is, the more likely the data is homoscedastic. Heteroscedasticity typically has a sideways “V” shape.\n",
    "\n",
    "There are also some more formal tests you can run:\n",
    " - **Breush-Pagan test** -  tests whether the variance of the errors from a regression is dependent on the values of the independent variables. In that case, heteroskedasticity is present. If the test statistic has a p-value below an appropriate threshold (e.g. p < 0.05) then the null hypothesis of homoskedasticity is rejected and heteroskedasticity assumed.\n",
    " - **Goldfeld-Quandt test** - tests whether the variances of the errors of the regression model are not constant, but instead monotonically related to a pre-identified explanatory variable."
   ]
  },
  {
   "cell_type": "code",
   "execution_count": 50,
   "metadata": {},
   "outputs": [
    {
     "name": "stdout",
     "output_type": "stream",
     "text": [
      "('Lagrange multiplier statistic', 4.406698315033664)\n",
      "('p-value', 0.11043268186997897)\n",
      "('f-value', 2.219195546532248)\n",
      "('f p-value', 0.11140693859000016)\n"
     ]
    }
   ],
   "source": [
    "name = ['Lagrange multiplier statistic', 'p-value',\n",
    "        'f-value', 'f p-value']\n",
    "test = sms.het_breuschpagan(results.resid, results.model.exog)\n",
    "for i in list(zip(name, test)):\n",
    "    print(i)"
   ]
  },
  {
   "cell_type": "code",
   "execution_count": 51,
   "metadata": {},
   "outputs": [
    {
     "name": "stdout",
     "output_type": "stream",
     "text": [
      "('F statistic', 0.7240923028749447)\n",
      "('p-value', 0.9432070241790471)\n"
     ]
    }
   ],
   "source": [
    "name = ['F statistic', 'p-value']\n",
    "test = sms.het_goldfeldquandt(results.resid, results.model.exog)\n",
    "for i in list(zip(name, test)):\n",
    "    print(i)"
   ]
  },
  {
   "cell_type": "markdown",
   "metadata": {},
   "source": [
    "Although we don't see much evidence for heteroscedasticity above, the two most common methods of “fixing” heteroscedasticity is using a weighted least squares approach, or using a heteroscedastic-corrected covariance matrix (hccm)."
   ]
  },
  {
   "cell_type": "markdown",
   "metadata": {},
   "source": [
    "### 6. No perfect multicolinearity\n",
    "Two variables are perfectly colinear if one can be determined perfectly by the other. For example, $a$ and $b$ below are perfectly colinear:"
   ]
  },
  {
   "cell_type": "code",
   "execution_count": 53,
   "metadata": {},
   "outputs": [],
   "source": [
    "a = np.arange(10)\n",
    "b = a + 2"
   ]
  },
  {
   "cell_type": "markdown",
   "metadata": {},
   "source": [
    "If we were to fit a model using both of these variables, our estimate for either $\\beta$ would be meaningless. $\\beta_a$, for example, is the change in the dependent variable associated with a one unit change in $a$ *holding $b$ constant*. But if you hold $b$ constant, then $a$ doesn't change because they are perfectly colinear. Although the OLS will output an estimate for $\\beta_a$, it is in fact undefined. The solution in such a situation is to drop one of the colinear variables.\n",
    "\n",
    "#### A more formal definition\n",
    "The regressors in $X$ must all be [linearly independent](https://en.wikipedia.org/wiki/Linear_independence). Mathematically, this means that the matrix X must have full [column rank](https://en.wikipedia.org/wiki/Rank_(linear_algebra)#Main_definitions) almost surely: $\\Pr\\!\\big[\\,\\operatorname{rank}(X) = p\\,\\big] = 1$. Usually, it is also assumed that the regressors have finite moments up to at least the second moment. Then the matrix $Q_{xx} = E[X^TX/n]$ is finite and positive semi-definite. When this assumption is violated the regressors are called linearly dependent or perfectly multicollinear. In such case the value of the regression coefficient $\\beta$ cannot be learned, although prediction of $y$ values is still possible for new values of the regressors that lie in the same linearly dependent subspace.\n",
    "\n",
    "#### The effect of multicollinearity\n",
    "Severe multicollinearity is a problem because it can increase the variance of the coefficient estimates and make the estimates very sensitive to minor changes in the model. The result is that the coefficient estimates are unstable and difficult to interpret. Multicollinearity saps the statistical power of the analysis, can cause the coefficients to switch signs, and makes it more difficult to specify the correct model.\n",
    "\n",
    "In our OLS equation, the product $N=X^{T}X$ is a [normal matrix](https://en.wikipedia.org/wiki/Normal_matrix) and its inverse, $Q=N^{–1}$, is the cofactor matrix of $\\beta$, which is closely related to its covariance matrix, $C_\\beta$. Together, the matrix $(X^{T}X)^{–1}X^T = QX^{T}$ is called the [Moore–Penrose pseudoinverse](https://en.wikipedia.org/wiki/Moore%E2%80%93Penrose_inverse) matrix of $X$. This formulation highlights the point that estimation can be carried out if, and only if, there is no perfect multicollinearity between the explanatory variables (which would cause the normal matrix to have no inverse).\n",
    "\n",
    "To see how the presence of multicollinearity pans out, we'll try to calculate $Q$ after adding a linearly dependent column to our design matrix $X$."
   ]
  },
  {
   "cell_type": "code",
   "execution_count": 20,
   "metadata": {},
   "outputs": [],
   "source": [
    "#make the normal matrix with the data as-is\n",
    "normal_matrix = np.dot(X_T, X)"
   ]
  },
  {
   "cell_type": "markdown",
   "metadata": {},
   "source": [
    "Now, if we were to introduce a new column vector into our matrix $X$ that is perfectly colinear with another column vector in $X$, we'll see that we can no logner calculate the inverse of the $X^{T}X$"
   ]
  },
  {
   "cell_type": "code",
   "execution_count": 21,
   "metadata": {},
   "outputs": [
    {
     "data": {
      "text/html": [
       "<div>\n",
       "<style scoped>\n",
       "    .dataframe tbody tr th:only-of-type {\n",
       "        vertical-align: middle;\n",
       "    }\n",
       "\n",
       "    .dataframe tbody tr th {\n",
       "        vertical-align: top;\n",
       "    }\n",
       "\n",
       "    .dataframe thead th {\n",
       "        text-align: right;\n",
       "    }\n",
       "</style>\n",
       "<table border=\"1\" class=\"dataframe\">\n",
       "  <thead>\n",
       "    <tr style=\"text-align: right;\">\n",
       "      <th></th>\n",
       "      <th>0</th>\n",
       "      <th>1</th>\n",
       "      <th>2</th>\n",
       "      <th>3</th>\n",
       "    </tr>\n",
       "  </thead>\n",
       "  <tbody>\n",
       "    <tr>\n",
       "      <th>0</th>\n",
       "      <td>NaN</td>\n",
       "      <td>NaN</td>\n",
       "      <td>NaN</td>\n",
       "      <td>NaN</td>\n",
       "    </tr>\n",
       "    <tr>\n",
       "      <th>1</th>\n",
       "      <td>NaN</td>\n",
       "      <td>1.000000</td>\n",
       "      <td>0.967944</td>\n",
       "      <td>1.000000</td>\n",
       "    </tr>\n",
       "    <tr>\n",
       "      <th>2</th>\n",
       "      <td>NaN</td>\n",
       "      <td>0.967944</td>\n",
       "      <td>1.000000</td>\n",
       "      <td>0.967944</td>\n",
       "    </tr>\n",
       "    <tr>\n",
       "      <th>3</th>\n",
       "      <td>NaN</td>\n",
       "      <td>1.000000</td>\n",
       "      <td>0.967944</td>\n",
       "      <td>1.000000</td>\n",
       "    </tr>\n",
       "  </tbody>\n",
       "</table>\n",
       "</div>"
      ],
      "text/plain": [
       "    0         1         2         3\n",
       "0 NaN       NaN       NaN       NaN\n",
       "1 NaN  1.000000  0.967944  1.000000\n",
       "2 NaN  0.967944  1.000000  0.967944\n",
       "3 NaN  1.000000  0.967944  1.000000"
      ]
     },
     "execution_count": 21,
     "metadata": {},
     "output_type": "execute_result"
    }
   ],
   "source": [
    "# add a linearly dependent column to X\n",
    "X_colinear = np.column_stack((X, X[:,1] + 2))\n",
    "#calculate correlation matrix to show perfect correlation between columns 1 and 3\n",
    "pd.DataFrame(X_colinear).corr()"
   ]
  },
  {
   "cell_type": "code",
   "execution_count": 22,
   "metadata": {},
   "outputs": [],
   "source": [
    "X_colinear_T = np.transpose(X_colinear)\n",
    "normal_matrix_colinear = np.dot(X_colinear_T, X_colinear)"
   ]
  },
  {
   "cell_type": "code",
   "execution_count": 23,
   "metadata": {},
   "outputs": [],
   "source": [
    "def singular_matrix_test(X):\n",
    "    '''\n",
    "    Numpy will invert singular matrices containing floating points due to rounding errors, so we'll\n",
    "    test if the condition of the matrix (the ratio of the largest singular value of that matrix \n",
    "    to the smallest singular value) is less than 1/np.finfo(X.dtype).eps, where the denominator is \n",
    "    has the precision of the array's dtype, which may differ from sys.float_info.epsilon.\n",
    "    \n",
    "    '''\n",
    "    if np.linalg.cond(X) < 1/np.finfo(X.dtype).eps:\n",
    "        i = np.linalg.inv(X)\n",
    "    else:\n",
    "        print(\"likely singular\")\n",
    "        return\n",
    "        \n",
    "    return i"
   ]
  },
  {
   "cell_type": "code",
   "execution_count": 24,
   "metadata": {},
   "outputs": [
    {
     "data": {
      "text/plain": [
       "array([[ 4.41118664e-02, -1.76003399e-02,  1.46301906e-03],\n",
       "       [-1.76003399e-02,  9.41647814e-03, -8.82244829e-04],\n",
       "       [ 1.46301906e-03, -8.82244829e-04,  8.82244829e-05]])"
      ]
     },
     "execution_count": 24,
     "metadata": {},
     "output_type": "execute_result"
    }
   ],
   "source": [
    "singular_matrix_test(normal_matrix)"
   ]
  },
  {
   "cell_type": "code",
   "execution_count": 25,
   "metadata": {},
   "outputs": [
    {
     "name": "stdout",
     "output_type": "stream",
     "text": [
      "likely singular\n"
     ]
    }
   ],
   "source": [
    "singular_matrix_test(normal_matrix_colinear)"
   ]
  },
  {
   "cell_type": "markdown",
   "metadata": {},
   "source": [
    "Because of floating point precision, we can still calculate $Q$ and create an OLS model. To see why we shouldn't do that, we'll run 1,000 trials where we keep creating OLS models where one random observation has been dropped until the parameters we get are within 1% of the values we found when including all observations. This will demonstrate how how singular (and nearly singular) matrices can unbpredictably influence the regression coefficients. "
   ]
  },
  {
   "cell_type": "code",
   "execution_count": 140,
   "metadata": {},
   "outputs": [
    {
     "name": "stdout",
     "output_type": "stream",
     "text": [
      "After 1000 trials, OLS parameter conversion occurred after an average of 40.938 iterations.\n"
     ]
    }
   ],
   "source": [
    "def compute_ci(data, confidence = 0.95):\n",
    "    n = len(data)\n",
    "    m = np.mean(data)\n",
    "    std_err = sem(data)\n",
    "    h = std_err * t.ppf((1 + confidence) / 2, n - 1)\n",
    "    start = m - h\n",
    "    end = m + h\n",
    "    \n",
    "    return start, end\n",
    "\n",
    "\n",
    "\n",
    "def fit_random_ols_models_until_conversion(X, y, params, n_drop = 1, alpha = .01, n_iter = 1000):\n",
    "    \n",
    "    counters = []\n",
    "    for i in range(n_iter):\n",
    "        #fit OLS on orginal colinear data\n",
    "        ols = sm.OLS(y, X).fit()\n",
    "        params = ols.params\n",
    "\n",
    "        params_list = []\n",
    "        converged = False\n",
    "        counter = 0\n",
    "        while not converged:\n",
    "            counter += 1\n",
    "            rows_to_drop = np.random.choice(y.shape[0], y.shape[0]-n_drop, replace=True)\n",
    "            #randomly drop n_drop rows from y\n",
    "            _y = y[rows_to_drop]\n",
    "            #randomly drop n_drop rows from X\n",
    "            _X = X[rows_to_drop, :]\n",
    "            _ols = sm.OLS(_y, _X).fit()\n",
    "            _params = _ols.params\n",
    "            params_list.append(_params)\n",
    "            param_df = pd.DataFrame(params_list)\n",
    "            is_converged = []\n",
    "            for i, param in enumerate(params):\n",
    "                if i == 0:\n",
    "                    #this is the intercept\n",
    "                    continue\n",
    "                random_params_mean = param_df[i].mean()\n",
    "                percent_diff = np.abs(param-random_params_mean) / param\n",
    "                if percent_diff < alpha:\n",
    "                    is_converged.append(True)\n",
    "                else:\n",
    "                    is_converged.append(False)\n",
    "            converged = True if all(is_converged) else False\n",
    "        counters.append(counter)\n",
    "    mean_counter = np.mean(counters)\n",
    "    print(f\"After {n_iter} trials, OLS parameter conversion occurred after an average of {mean_counter} iterations.\")\n",
    "\n",
    "fit_random_ols_models_until_conversion(X_colinear, y, params)\n"
   ]
  },
  {
   "cell_type": "markdown",
   "metadata": {},
   "source": [
    "The expirment above was designed to show how susceptible parameter estimation is to multicolinearity.\n",
    "\n",
    "Even so, near multicollinearity isn't necessarily a problem. The more important thing to **focus on is the standard errors of the coefficients of the variables you suspect of being involved in the multicollinearity.** If those standard errors are small enough to give you the degree of precision in coefficient estimates that you need for the purposes of your analysis, then there is nothing more to say. If they don't, then you have a problem, but one that you cannot solve short of getting an entirely different data set! "
   ]
  },
  {
   "cell_type": "markdown",
   "metadata": {},
   "source": [
    "### Measuring Multicolinearity\n",
    "\n",
    "There are two common measures of multicolinearity:  the **variance inflation factor (VIF)** and the **condition number**\n",
    "\n",
    "#### Variance Inflation Factor\n",
    "The variance inflation factor is the ratio of variance in a model with multiple terms, divided by the variance of a model with one term alone. It quantifies the severity of multicollinearity in an ordinary least squares regression analysis. It provides an index that measures how much the variance (the square of the estimate's standard deviation) of an estimated regression coefficient is increased because of collinearity.\n",
    "\n",
    "We can calculate the VIF for each of our regressors like this:"
   ]
  },
  {
   "cell_type": "code",
   "execution_count": 44,
   "metadata": {},
   "outputs": [
    {
     "name": "stdout",
     "output_type": "stream",
     "text": [
      "[15.851860186018582, 15.85186018601861]\n"
     ]
    }
   ],
   "source": [
    "#note that variance_inflation_factor expects the presence of a constant in the matrix of explanatory variables\n",
    "vif = [variance_inflation_factor(X, i) for i in range(1, X.shape[1])]\n",
    "print(vif)"
   ]
  },
  {
   "cell_type": "code",
   "execution_count": 45,
   "metadata": {},
   "outputs": [
    {
     "name": "stdout",
     "output_type": "stream",
     "text": [
      "[inf, 15.85186018601861]\n"
     ]
    }
   ],
   "source": [
    "#and with the perfectly colinear data, which will return infinity!\n",
    "vif = [variance_inflation_factor(X_colinear, i) for i in range(1, X.shape[1])]\n",
    "print(vif)"
   ]
  },
  {
   "cell_type": "markdown",
   "metadata": {},
   "source": [
    "Above, a VIF of $15$ means that the variance (a measure of imprecision) of the estimated coefficient is $15$ times higher because of correlation between the two independent variables. \n",
    "\n",
    "\n",
    "#### When is multicollinearity a problem?\n",
    "Testing for the signs of multicollinearity becomes important when you want to interpet the impact of a single independent variable by looking at its coefficient $\\beta$. When we test whether a coefficient $\\beta_i$ is significant, we're performing a statistical hypothesis test\n",
    "\n",
    "$$\n",
    "𝐻_0:\\beta_𝑖=0$ versus $𝐻_1:\\beta_𝑖≠0\n",
    "$$\n",
    "\n",
    "If $𝐻_0$ is true, then the estimator $\\hat{\\beta}_i$ follows a normal distribution with mean $0$, i.e. if $𝐻_0$ is true then $\\hat{\\beta}_i \\sim N(0;\\sigma_{\\hat{\\beta}_i})$.\n",
    "\n",
    "The value for $\\beta_i$ that we compute from our sample comes from this distribution, therefore $\\frac{|\\bar{\\beta}_i - 0|}{\\sigma_{\\hat{\\beta}_i}}$ is an outcome of a standard normal random variable. So for a significance level $\\alpha$ we will reject the $𝐻_0$ whenever $\\frac{|\\bar{\\beta}_i | }{\\sigma_{\\hat{\\beta}_i}} \\ge z_{\\frac{\\alpha}{2}}$\n",
    "\n",
    "If there is correlation between your independent variables $𝑥_1$ and $𝑥_2$ then it can be shown that $\\sigma_{\\hat{\\beta}_i}$ will be larger than when $𝑥_1$ and $𝑥_2$ are uncorrelated. That's because $x_1$ and $x_2$ 'move together' when they are strongly correlated. What linear regression tries to do is to 'assign' a change in the dependent variable $𝑦$ to either $𝑥_1$ or $𝑥_2$. Obviously, if both 'move together' (because of high correlation) then it will be difficult to 'decide' which of the $𝑥$'s is 'responsible' for the change in $𝑦$ (because they both change). Therefore the estimates of the $𝛽_𝑖$ coefficients will be less precise. Therefore, if $𝑥_1$ and $𝑥_2$ are correlated, the null hypothesis will be 'more difficult to reject' because of the higher denominator.\n",
    "\n",
    "The Variance Inflating Factor (VIF) tells you how much higher the variance $\\sigma_{\\hat{\\beta}_i}$ are when $𝑥_1$ and $𝑥_2$ are correlated compared to when they are uncorrelated. \n",
    "\n",
    "\n",
    "All of this isn't a problem if your goal is to make predictions, as the precision/accuracy of those won't be affected. But if you want to analyse the impact of a single independent variable, then there may be a problem because the estimates of the coefficients are imprecise (i.e. if you would estimate them with another sample then they may change a lot)."
   ]
  },
  {
   "cell_type": "markdown",
   "metadata": {},
   "source": [
    "#### Condition Number\n",
    "\n",
    "The condition number associated with the linear equation $Ax = b$ gives a bound on how inaccurate the solution $x$ will be after approximation. Note that this is before the effects of round-off error are taken into account; conditioning is a property of the matrix, not the algorithm or floating point accuracy of the computer used to solve the corresponding system. \n",
    "\n",
    "Very roughly, the condition number is the rate at which the solution, $x$, will change with respect to a change in $b$. Thus, if the condition number is large, even a small error in $b$ may cause a large error in $x$. On the other hand, if the condition number is small then the error in $x$ will not be much bigger than the error in $b$.\n",
    "More precisely, the condition number is the maximum ratio of the relative error in x to the relative error in b. We used it above in comparison with our machine's floating point precision to determine that our perfeclty colinear matrix was in fact singular. \n",
    "\n",
    "As a rule of thumb, if the condition number $\\kappa(A) = 10^k$, then you may lose up to $k$ digits of accuracy on top of what would be lost to the numerical method due to loss of precision from arithmetic methods. However, the condition number does not give the exact value of the maximum inaccuracy that may occur in the algorithm. It generally just bounds it with an estimate (whose computed value depends on the choice of the norm to measure the inaccuracy).\n",
    "\n",
    "If we use `statsmodels` to run an OLS with data that has multicolinearity issues, it'll let you know by adding an error about either the conidtion number being to high or the smallest eigenvalue being too small:"
   ]
  },
  {
   "cell_type": "code",
   "execution_count": 30,
   "metadata": {},
   "outputs": [
    {
     "data": {
      "text/html": [
       "<table class=\"simpletable\">\n",
       "<caption>OLS Regression Results</caption>\n",
       "<tr>\n",
       "  <th>Dep. Variable:</th>            <td>y</td>        <th>  R-squared:         </th> <td>   1.000</td> \n",
       "</tr>\n",
       "<tr>\n",
       "  <th>Model:</th>                   <td>OLS</td>       <th>  Adj. R-squared:    </th> <td>   1.000</td> \n",
       "</tr>\n",
       "<tr>\n",
       "  <th>Method:</th>             <td>Least Squares</td>  <th>  F-statistic:       </th> <td>8.067e+06</td>\n",
       "</tr>\n",
       "<tr>\n",
       "  <th>Date:</th>             <td>Fri, 19 Apr 2019</td> <th>  Prob (F-statistic):</th>  <td>  0.00</td>  \n",
       "</tr>\n",
       "<tr>\n",
       "  <th>Time:</th>                 <td>08:03:45</td>     <th>  Log-Likelihood:    </th> <td> -293.19</td> \n",
       "</tr>\n",
       "<tr>\n",
       "  <th>No. Observations:</th>      <td>   200</td>      <th>  AIC:               </th> <td>   592.4</td> \n",
       "</tr>\n",
       "<tr>\n",
       "  <th>Df Residuals:</th>          <td>   197</td>      <th>  BIC:               </th> <td>   602.3</td> \n",
       "</tr>\n",
       "<tr>\n",
       "  <th>Df Model:</th>              <td>     2</td>      <th>                     </th>     <td> </td>    \n",
       "</tr>\n",
       "<tr>\n",
       "  <th>Covariance Type:</th>      <td>nonrobust</td>    <th>                     </th>     <td> </td>    \n",
       "</tr>\n",
       "</table>\n",
       "<table class=\"simpletable\">\n",
       "<tr>\n",
       "    <td></td>       <th>coef</th>     <th>std err</th>      <th>t</th>      <th>P>|t|</th>  <th>[0.025</th>    <th>0.975]</th>  \n",
       "</tr>\n",
       "<tr>\n",
       "  <th>const</th> <td>    0.2351</td> <td>    0.105</td> <td>    2.242</td> <td> 0.026</td> <td>    0.028</td> <td>    0.442</td>\n",
       "</tr>\n",
       "<tr>\n",
       "  <th>x1</th>    <td>   -0.1380</td> <td>    0.154</td> <td>   -0.897</td> <td> 0.371</td> <td>   -0.441</td> <td>    0.165</td>\n",
       "</tr>\n",
       "<tr>\n",
       "  <th>x2</th>    <td>    9.9890</td> <td>    0.010</td> <td> 1006.994</td> <td> 0.000</td> <td>    9.969</td> <td>   10.009</td>\n",
       "</tr>\n",
       "<tr>\n",
       "  <th>x3</th>    <td>    0.3323</td> <td>    0.060</td> <td>    5.556</td> <td> 0.000</td> <td>    0.214</td> <td>    0.450</td>\n",
       "</tr>\n",
       "</table>\n",
       "<table class=\"simpletable\">\n",
       "<tr>\n",
       "  <th>Omnibus:</th>       <td> 0.456</td> <th>  Durbin-Watson:     </th> <td>   1.950</td>\n",
       "</tr>\n",
       "<tr>\n",
       "  <th>Prob(Omnibus):</th> <td> 0.796</td> <th>  Jarque-Bera (JB):  </th> <td>   0.514</td>\n",
       "</tr>\n",
       "<tr>\n",
       "  <th>Skew:</th>          <td>-0.112</td> <th>  Prob(JB):          </th> <td>   0.774</td>\n",
       "</tr>\n",
       "<tr>\n",
       "  <th>Kurtosis:</th>      <td> 2.894</td> <th>  Cond. No.          </th> <td>5.05e+16</td>\n",
       "</tr>\n",
       "</table><br/><br/>Warnings:<br/>[1] Standard Errors assume that the covariance matrix of the errors is correctly specified.<br/>[2] The smallest eigenvalue is 1.64e-28. This might indicate that there are<br/>strong multicollinearity problems or that the design matrix is singular."
      ],
      "text/plain": [
       "<class 'statsmodels.iolib.summary.Summary'>\n",
       "\"\"\"\n",
       "                            OLS Regression Results                            \n",
       "==============================================================================\n",
       "Dep. Variable:                      y   R-squared:                       1.000\n",
       "Model:                            OLS   Adj. R-squared:                  1.000\n",
       "Method:                 Least Squares   F-statistic:                 8.067e+06\n",
       "Date:                Fri, 19 Apr 2019   Prob (F-statistic):               0.00\n",
       "Time:                        08:03:45   Log-Likelihood:                -293.19\n",
       "No. Observations:                 200   AIC:                             592.4\n",
       "Df Residuals:                     197   BIC:                             602.3\n",
       "Df Model:                           2                                         \n",
       "Covariance Type:            nonrobust                                         \n",
       "==============================================================================\n",
       "                 coef    std err          t      P>|t|      [0.025      0.975]\n",
       "------------------------------------------------------------------------------\n",
       "const          0.2351      0.105      2.242      0.026       0.028       0.442\n",
       "x1            -0.1380      0.154     -0.897      0.371      -0.441       0.165\n",
       "x2             9.9890      0.010   1006.994      0.000       9.969      10.009\n",
       "x3             0.3323      0.060      5.556      0.000       0.214       0.450\n",
       "==============================================================================\n",
       "Omnibus:                        0.456   Durbin-Watson:                   1.950\n",
       "Prob(Omnibus):                  0.796   Jarque-Bera (JB):                0.514\n",
       "Skew:                          -0.112   Prob(JB):                        0.774\n",
       "Kurtosis:                       2.894   Cond. No.                     5.05e+16\n",
       "==============================================================================\n",
       "\n",
       "Warnings:\n",
       "[1] Standard Errors assume that the covariance matrix of the errors is correctly specified.\n",
       "[2] The smallest eigenvalue is 1.64e-28. This might indicate that there are\n",
       "strong multicollinearity problems or that the design matrix is singular.\n",
       "\"\"\""
      ]
     },
     "execution_count": 30,
     "metadata": {},
     "output_type": "execute_result"
    }
   ],
   "source": [
    "col_ols = sm.OLS(y, X_colinear).fit()\n",
    "col_ols.summary()"
   ]
  },
  {
   "cell_type": "markdown",
   "metadata": {},
   "source": [
    "### 7. Normality\n",
    "It is sometimes additionally assumed that the errors have normal distribution conditional on the regressors: $$\\varepsilon \\mid X\\sim \\mathcal{N}(0, \\sigma^2I_n)$$ This assumption is not needed for the validity of the OLS method, although certain additional finite-sample properties can be established in case when it does (especially in the area of hypotheses testing). Also when the errors are normal, the OLS estimator is equivalent to the maximum likelihood estimator (MLE), and therefore it is asymptotically efficient in the class of all regular estimators. Importantly, the normality assumption applies only to the error terms; contrary to a popular misconception, the response (dependent) variable is not required to be normally distributed.\n",
    "\n",
    "We can visually inspect this assumption with a Q-Q Plot:"
   ]
  },
  {
   "cell_type": "code",
   "execution_count": 142,
   "metadata": {},
   "outputs": [
    {
     "data": {
      "image/png": "[encoded data removed]",
      "text/plain": [
       "<Figure size 432x288 with 1 Axes>"
      ]
     },
     "metadata": {
      "needs_background": "light"
     },
     "output_type": "display_data"
    }
   ],
   "source": [
    "QQ = ProbPlot(model_norm_residuals)\n",
    "plot_lm_2 = QQ.qqplot(line='45', alpha=0.5, color='#4C72B0', lw=1)\n",
    "plot_lm_2.axes[0].set_title('Normal Q-Q')\n",
    "plot_lm_2.axes[0].set_xlabel('Theoretical Quantiles')\n",
    "plot_lm_2.axes[0].set_ylabel('Standardized Residuals');\n",
    "# annotations\n",
    "abs_norm_resid = np.flip(np.argsort(np.abs(model_norm_residuals)), 0)\n",
    "abs_norm_resid_top_3 = abs_norm_resid[:3]\n",
    "for r, i in enumerate(abs_norm_resid_top_3):\n",
    "    plot_lm_2.axes[0].annotate(i,\n",
    "                               xy=(np.flip(QQ.theoretical_quantiles, 0)[r],\n",
    "                                   model_norm_residuals[i]));"
   ]
  },
  {
   "cell_type": "markdown",
   "metadata": {},
   "source": [
    "A good normal QQ plot has all of the residuals lying on or close to the red line."
   ]
  },
  {
   "cell_type": "markdown",
   "metadata": {},
   "source": [
    "## OLS Properties\n",
    "When assumptions 1-6 are satisfied, we can say that our OLS model has the following properties:\n",
    "\n",
    "1. **Linear** - OLS estimators are linear functions of the values of $Y$ (the dependent variable) which are linearly combined using weights that are a non-linear function of the values of $X$ (the regressors or explanatory variables). So the OLS estimator is a \"linear\" estimator with respect to how it uses the values of the dependent variable only, and irrespective of how it uses the values of the regressors.\n",
    "2. **Unbiased** - Suppose that the *population* size is $100$. We use samples of size $10$ to estimate the $\\alpha$  and $\\beta$ of the population. Everytime we use a different sample (a different set of $10$ unique parts of the population), we will get a different $\\alpha$ and $\\beta$. If our assumptions are met, the mean parameter values of repeated resampling and OLS estimations will give you the population values for $\\alpha$ and $\\beta$. That is, $\\operatorname{E}(\\hat{\\boldsymbol{\\beta}}) = (\\beta)$.\n",
    "3. **Efficient** - This means OLS has the minimum variance of all other approaches. (Variance is a measure of how far the different $\\alpha$ and $\\beta$ are from their true population mean.)\n",
    " - An estimator that is unbiased but does not have the minimum variance is not good.\n",
    " - An estimator that has the minimum variance but is biased is not good\n",
    " - An estimator that is unbiased and has the minimum variance of all other estimators is the best (efficient).\n",
    "4. **Consistent** - A consistent estimator is one which approaches the real value of the parameter in the population as the size of the sample, $n$, increases."
   ]
  },
  {
   "cell_type": "markdown",
   "metadata": {},
   "source": [
    "## Outliers, Influence and Leverage\n",
    "All of the OLS assumptions can be met, but you may still end up with a error-laden model if your sample data contains problematic points:\n",
    "\n",
    " - **Outliers**: an outlier is defined as an observation that has a large residual. In other words, the observed value for the point is very different from that predicted by the regression model.\n",
    " - **Leverage points**: A leverage point is defined as an observation that has a value of x that is far away from the mean of x. \n",
    " - **Influential observations**: An influential observation is defined as an observation that changes the slope of the line. Thus, influential points have a large influence on the fit of the model. One method to find influential points is to compare the fit of the model with and without each observation.\n",
    "\n",
    "\n",
    "### Leverage\n",
    "The matrix formulation of our OLS regression can be written as:\n",
    "\n",
    "$$\n",
    "Y=X\\beta+\\epsilon\n",
    "$$\n",
    "\n",
    "Therefore, the predicted responses can be represented in matrix notation as:\n",
    "\n",
    "$$\n",
    "\\hat{y}=Xb\n",
    "$$\n",
    "\n",
    "And the estimated coefficients are represented in matrix notation as:\n",
    "\n",
    "$$\n",
    "b = (X^{'}X)^{-1}X^{'}y\n",
    "$$\n",
    "\n",
    "Thus the predicted responses can be alternatively written as:\n",
    "\n",
    "$$\n",
    "\\hat{y}=X(X^{'}X)^{-1}X^{'}y\n",
    "$$\n",
    "\n",
    "That is, the predicted responses can be obtained by pre-multiplying the $n × 1$ column vector, $y$, containing the observed responses by the $n × n$ matrix $H$:\n",
    "\n",
    "$$\n",
    "H=X(X^{'}X)^{-1}X^{'}\n",
    "$$\n",
    "\n",
    "That is,\n",
    "\n",
    "$$\n",
    "\\hat{y}=Hy\n",
    "$$\n",
    "\n",
    "Again, statisticians often call this $n × n$ matrix $H$ \"the hat matrix\" because it's the matrix that puts the hat ($ˆ$) on the observed response vector $y$ to get the predicted response vector $\\hat{y}$. **This is important for calculating leverage because $H$ contains the \"leverages\" that help us identify extreme $x$ values.**\n",
    "\n",
    "If we actually perform the matrix multiplication on the right side of this equation:\n",
    "\n",
    "$$\n",
    "\\hat{y}=Hy\n",
    "$$\n",
    "\n",
    "we can see that the predicted response for observation $i$ can be written as a linear combination of the $n$ observed responses $y_1$, $y_2$, ..., $y_n$:\n",
    "\n",
    "$$\n",
    "\\hat{y}_i=h_{i1}y_1+h_{i2}y_2+...+h_{ii}y_i+ ... + h_{in}y_n  \\;\\;\\;\\;\\; \\text{ for } i=1, ..., n\n",
    "$$\n",
    "\n",
    "Above, the weights $h_{i1}, h_{i2}, ..., h_{ii}, ..., h_{in}$ depend only on the predictor values. That is:\n",
    "\n",
    "$$\n",
    "\\hat{y}_1=h_{11}y_1+h_{12}y_2+\\cdots+h_{1n}y_n\n",
    "$$\n",
    "$$\n",
    "\\hat{y}_2=h_{21}y_1+h_{22}y_2+\\cdots+h_{2n}y_n\n",
    "$$\n",
    "<br>\n",
    "$$\n",
    "\\hat{y}_n=h_{n1}y_1+h_{n2}y_2+\\cdots+h_{nn}y_n\n",
    "$$\n",
    "\n",
    "Because the predicted response can be written as:\n",
    "\n",
    "$$\n",
    "\\hat{y}_i=h_{i1}y_1+h_{i2}y_2+...+h_{ii}y_i+ ... + h_{in}y_n  \\;\\;\\;\\;\\; \\text{ for } i=1, ..., n\n",
    "$$\n",
    "\n",
    "the leverage, $h_{ii}$, quantifies the influence that the observed response $y_i$ has on its predicted value $\\hat{y_i}$. That is, if ${h_ii}$ is small, then the observed response $y_i$ plays only a small role in the value of the predicted response $\\hat{y_i}$. On the other hand, if $h_{ii}$ is large, then the observed response $y_i$ plays a large role in the value of the predicted response $\\hat{y_i}$. It's for this reason that the hii are called the \"leverages.\"\n",
    "\n",
    "How do we know when a leverage value is too large? A common rule is to flag any observation whose leverage value, $h_{ii}$, is more than $3$ times larger than the mean leverage value:\n",
    "\n",
    "$$\n",
    "\\bar{h}=\\frac{\\sum_{i=1}^{n}h_{ii}}{n}=\\frac{p}{n}\n",
    "$$\n",
    "\n",
    "That is, if:\n",
    "\n",
    "$$\n",
    "h_{ii} >3\\left( \\frac{p}{n}\\right)\n",
    "$$\n",
    "\n",
    "Then we should flag the observation as a leverage point.\n",
    "\n",
    "We'll work this out with some toy data that actually contains a leverage point."
   ]
  },
  {
   "cell_type": "code",
   "execution_count": 135,
   "metadata": {},
   "outputs": [
    {
     "name": "stderr",
     "output_type": "stream",
     "text": [
      "/Users/charlessmcallister/.local/share/virtualenvs/learning-data-science-Oygx0A85/lib/python3.7/site-packages/numpy/core/fromnumeric.py:2389: FutureWarning: Method .ptp is deprecated and will be removed in a future version. Use numpy.ptp instead.\n",
      "  return ptp(axis=axis, out=out, **kwargs)\n"
     ]
    },
    {
     "data": {
      "text/plain": [
       "<matplotlib.collections.PathCollection at 0x120465390>"
      ]
     },
     "execution_count": 135,
     "metadata": {},
     "output_type": "execute_result"
    },
    {
     "data": {
      "image/png": "[encoded data removed]",
      "text/plain": [
       "<Figure size 432x288 with 1 Axes>"
      ]
     },
     "metadata": {
      "needs_background": "light"
     },
     "output_type": "display_data"
    }
   ],
   "source": [
    "df = pd.read_csv('assets/leverage.txt',\n",
    "                 delim_whitespace=True, \n",
    "                 names=('Row', 'x', 'y')).iloc[1:]\n",
    "df = df.astype(float)\n",
    "df = sm.add_constant(df)\n",
    "plt.scatter(df['x'], df['y'])"
   ]
  },
  {
   "cell_type": "markdown",
   "metadata": {},
   "source": [
    "We can see our levarage point way off to the right there $(x = 18, y = 20)$. \n",
    "There are $n = 21$ data points and $p = 2$ parameters (with intercept $\\beta_0$ and slope $\\beta_1$). Therefore:\n",
    "\n",
    "$$\n",
    "3\\left( \\frac{p}{n}\\right)=3\\left( \\frac{2}{21}\\right)=0.286\n",
    "$$\n",
    "\n",
    "Any observation with a leverage greater than $0.286$ would be a leverage point. In order to calculate our leverage, let's fit a model and then access that method on the OLS object:"
   ]
  },
  {
   "cell_type": "code",
   "execution_count": 137,
   "metadata": {},
   "outputs": [
    {
     "data": {
      "text/plain": [
       "(array([20]),)"
      ]
     },
     "execution_count": 137,
     "metadata": {},
     "output_type": "execute_result"
    }
   ],
   "source": [
    "lev_model = sm.OLS(df['y'], df[['const', 'x']]).fit()\n",
    "# we can get the leverage for each observation like this\n",
    "model_leverage = lev_model.get_influence().hat_matrix_diag\n",
    "np.where(model_leverage > 0.286)"
   ]
  },
  {
   "cell_type": "markdown",
   "metadata": {},
   "source": [
    "### Outliers\n",
    "Ordinary residuals are defined for each observation, $i = 1, ..., n$ as the difference between the observed and predicted responses:\n",
    "\n",
    "$$\n",
    "e_i=y_i-\\hat{y}_i\n",
    "$$\n",
    "\n",
    "A major problem with interpreting residuals is that their magnitude depends on the units of measurement, thereby making it difficult to use the residuals as a way of detecting unusual $y$ values. We can eliminate the units of measurement by dividing the residuals by an estimate of their standard deviation, thereby obtaining what are known as **studentized residuals** (also called internally studentized residuals).\n",
    "\n",
    "#### Studentized residuals (or internally studentized residuals)\n",
    "Studentized residuals (or internally studentized residuals) are defined for each observation, $i = 1, ..., n$ as an ordinary residual divided by an estimate of its standard deviation:\n",
    "\n",
    "$$\n",
    "r_{i}=\\frac{e_{i}}{s(e_{i})}=\\frac{e_{i}}{\\sqrt{MSE(1-h_{ii})}}\n",
    "$$\n",
    "\n",
    "Here, we see that the internally studentized residual for a given data point depends not only on the ordinary residual, but also the size of the mean square error (MSE) and the leverage $h_{ii}$.\n",
    "\n",
    "As a result, studentized residuals quantify how large the residuals are in standard deviation units, and therefore can be easily used to identify outliers:\n",
    "\n",
    " - An observation with an internally studentized residual that is larger than 3 (in absolute value) is generally deemed an outlier. Sometimes, the term \"outlier\" is reserved for an observation with an *externally* studentized residual that is larger than 3 in absolute value (we'll consider externally studentized residuals in the next section).\n",
    "\n",
    "To see the outliers in the leverage data we imported, we can again use the influence instance:"
   ]
  },
  {
   "cell_type": "code",
   "execution_count": 138,
   "metadata": {},
   "outputs": [
    {
     "data": {
      "text/plain": [
       "(array([20]),)"
      ]
     },
     "execution_count": 138,
     "metadata": {},
     "output_type": "execute_result"
    }
   ],
   "source": [
    "np.where(np.abs(infl.resid_studentized_internal) > 3)"
   ]
  },
  {
   "cell_type": "markdown",
   "metadata": {},
   "source": [
    "#### Why should we care about outliers?\n",
    "The easiest way to understand the impact of outliers is to analyze a data set twice — once with and once without the outlier—and to observe differences in the results.\n",
    "\n",
    "If we regress $y$ on $x$ using the data set without the outlier, we obtain:"
   ]
  },
  {
   "cell_type": "code",
   "execution_count": 140,
   "metadata": {},
   "outputs": [
    {
     "data": {
      "text/html": [
       "<table class=\"simpletable\">\n",
       "<caption>OLS Regression Results</caption>\n",
       "<tr>\n",
       "  <th>Dep. Variable:</th>            <td>y</td>        <th>  R-squared:         </th> <td>   0.973</td>\n",
       "</tr>\n",
       "<tr>\n",
       "  <th>Model:</th>                   <td>OLS</td>       <th>  Adj. R-squared:    </th> <td>   0.972</td>\n",
       "</tr>\n",
       "<tr>\n",
       "  <th>Method:</th>             <td>Least Squares</td>  <th>  F-statistic:       </th> <td>   652.8</td>\n",
       "</tr>\n",
       "<tr>\n",
       "  <th>Date:</th>             <td>Fri, 19 Apr 2019</td> <th>  Prob (F-statistic):</th> <td>1.35e-15</td>\n",
       "</tr>\n",
       "<tr>\n",
       "  <th>Time:</th>                 <td>15:06:53</td>     <th>  Log-Likelihood:    </th> <td> -46.374</td>\n",
       "</tr>\n",
       "<tr>\n",
       "  <th>No. Observations:</th>      <td>    20</td>      <th>  AIC:               </th> <td>   96.75</td>\n",
       "</tr>\n",
       "<tr>\n",
       "  <th>Df Residuals:</th>          <td>    18</td>      <th>  BIC:               </th> <td>   98.74</td>\n",
       "</tr>\n",
       "<tr>\n",
       "  <th>Df Model:</th>              <td>     1</td>      <th>                     </th>     <td> </td>   \n",
       "</tr>\n",
       "<tr>\n",
       "  <th>Covariance Type:</th>      <td>nonrobust</td>    <th>                     </th>     <td> </td>   \n",
       "</tr>\n",
       "</table>\n",
       "<table class=\"simpletable\">\n",
       "<tr>\n",
       "    <td></td>       <th>coef</th>     <th>std err</th>      <th>t</th>      <th>P>|t|</th>  <th>[0.025</th>    <th>0.975]</th>  \n",
       "</tr>\n",
       "<tr>\n",
       "  <th>const</th> <td>    1.7322</td> <td>    1.121</td> <td>    1.546</td> <td> 0.140</td> <td>   -0.622</td> <td>    4.086</td>\n",
       "</tr>\n",
       "<tr>\n",
       "  <th>x</th>     <td>    5.1169</td> <td>    0.200</td> <td>   25.551</td> <td> 0.000</td> <td>    4.696</td> <td>    5.538</td>\n",
       "</tr>\n",
       "</table>\n",
       "<table class=\"simpletable\">\n",
       "<tr>\n",
       "  <th>Omnibus:</th>       <td> 0.394</td> <th>  Durbin-Watson:     </th> <td>   2.066</td>\n",
       "</tr>\n",
       "<tr>\n",
       "  <th>Prob(Omnibus):</th> <td> 0.821</td> <th>  Jarque-Bera (JB):  </th> <td>   0.287</td>\n",
       "</tr>\n",
       "<tr>\n",
       "  <th>Skew:</th>          <td> 0.259</td> <th>  Prob(JB):          </th> <td>   0.866</td>\n",
       "</tr>\n",
       "<tr>\n",
       "  <th>Kurtosis:</th>      <td> 2.723</td> <th>  Cond. No.          </th> <td>    11.1</td>\n",
       "</tr>\n",
       "</table><br/><br/>Warnings:<br/>[1] Standard Errors assume that the covariance matrix of the errors is correctly specified."
      ],
      "text/plain": [
       "<class 'statsmodels.iolib.summary.Summary'>\n",
       "\"\"\"\n",
       "                            OLS Regression Results                            \n",
       "==============================================================================\n",
       "Dep. Variable:                      y   R-squared:                       0.973\n",
       "Model:                            OLS   Adj. R-squared:                  0.972\n",
       "Method:                 Least Squares   F-statistic:                     652.8\n",
       "Date:                Fri, 19 Apr 2019   Prob (F-statistic):           1.35e-15\n",
       "Time:                        15:06:53   Log-Likelihood:                -46.374\n",
       "No. Observations:                  20   AIC:                             96.75\n",
       "Df Residuals:                      18   BIC:                             98.74\n",
       "Df Model:                           1                                         \n",
       "Covariance Type:            nonrobust                                         \n",
       "==============================================================================\n",
       "                 coef    std err          t      P>|t|      [0.025      0.975]\n",
       "------------------------------------------------------------------------------\n",
       "const          1.7322      1.121      1.546      0.140      -0.622       4.086\n",
       "x              5.1169      0.200     25.551      0.000       4.696       5.538\n",
       "==============================================================================\n",
       "Omnibus:                        0.394   Durbin-Watson:                   2.066\n",
       "Prob(Omnibus):                  0.821   Jarque-Bera (JB):                0.287\n",
       "Skew:                           0.259   Prob(JB):                        0.866\n",
       "Kurtosis:                       2.723   Cond. No.                         11.1\n",
       "==============================================================================\n",
       "\n",
       "Warnings:\n",
       "[1] Standard Errors assume that the covariance matrix of the errors is correctly specified.\n",
       "\"\"\""
      ]
     },
     "execution_count": 140,
     "metadata": {},
     "output_type": "execute_result"
    }
   ],
   "source": [
    "model_no_outlier = sm.OLS(df['y'].iloc[:-1], \n",
    "                          df[['const', 'x']].iloc[:-1]).fit()\n",
    "model_no_outlier.summary()"
   ]
  },
  {
   "cell_type": "markdown",
   "metadata": {},
   "source": [
    "And if we regress $y$ on $x$ using the full data set with the outlier, we obtain:"
   ]
  },
  {
   "cell_type": "code",
   "execution_count": 141,
   "metadata": {},
   "outputs": [
    {
     "data": {
      "text/html": [
       "<table class=\"simpletable\">\n",
       "<caption>OLS Regression Results</caption>\n",
       "<tr>\n",
       "  <th>Dep. Variable:</th>            <td>y</td>        <th>  R-squared:         </th> <td>   0.400</td>\n",
       "</tr>\n",
       "<tr>\n",
       "  <th>Model:</th>                   <td>OLS</td>       <th>  Adj. R-squared:    </th> <td>   0.368</td>\n",
       "</tr>\n",
       "<tr>\n",
       "  <th>Method:</th>             <td>Least Squares</td>  <th>  F-statistic:       </th> <td>   12.66</td>\n",
       "</tr>\n",
       "<tr>\n",
       "  <th>Date:</th>             <td>Fri, 19 Apr 2019</td> <th>  Prob (F-statistic):</th>  <td>0.00210</td>\n",
       "</tr>\n",
       "<tr>\n",
       "  <th>Time:</th>                 <td>15:07:09</td>     <th>  Log-Likelihood:    </th> <td> -80.895</td>\n",
       "</tr>\n",
       "<tr>\n",
       "  <th>No. Observations:</th>      <td>    21</td>      <th>  AIC:               </th> <td>   165.8</td>\n",
       "</tr>\n",
       "<tr>\n",
       "  <th>Df Residuals:</th>          <td>    19</td>      <th>  BIC:               </th> <td>   167.9</td>\n",
       "</tr>\n",
       "<tr>\n",
       "  <th>Df Model:</th>              <td>     1</td>      <th>                     </th>     <td> </td>   \n",
       "</tr>\n",
       "<tr>\n",
       "  <th>Covariance Type:</th>      <td>nonrobust</td>    <th>                     </th>     <td> </td>   \n",
       "</tr>\n",
       "</table>\n",
       "<table class=\"simpletable\">\n",
       "<tr>\n",
       "    <td></td>       <th>coef</th>     <th>std err</th>      <th>t</th>      <th>P>|t|</th>  <th>[0.025</th>    <th>0.975]</th>  \n",
       "</tr>\n",
       "<tr>\n",
       "  <th>const</th> <td>   13.2969</td> <td>    4.411</td> <td>    3.014</td> <td> 0.007</td> <td>    4.065</td> <td>   22.529</td>\n",
       "</tr>\n",
       "<tr>\n",
       "  <th>x</th>     <td>    2.3333</td> <td>    0.656</td> <td>    3.558</td> <td> 0.002</td> <td>    0.961</td> <td>    3.706</td>\n",
       "</tr>\n",
       "</table>\n",
       "<table class=\"simpletable\">\n",
       "<tr>\n",
       "  <th>Omnibus:</th>       <td>10.455</td> <th>  Durbin-Watson:     </th> <td>   0.898</td>\n",
       "</tr>\n",
       "<tr>\n",
       "  <th>Prob(Omnibus):</th> <td> 0.005</td> <th>  Jarque-Bera (JB):  </th> <td>   8.352</td>\n",
       "</tr>\n",
       "<tr>\n",
       "  <th>Skew:</th>          <td>-1.158</td> <th>  Prob(JB):          </th> <td>  0.0154</td>\n",
       "</tr>\n",
       "<tr>\n",
       "  <th>Kurtosis:</th>      <td> 5.044</td> <th>  Cond. No.          </th> <td>    11.5</td>\n",
       "</tr>\n",
       "</table><br/><br/>Warnings:<br/>[1] Standard Errors assume that the covariance matrix of the errors is correctly specified."
      ],
      "text/plain": [
       "<class 'statsmodels.iolib.summary.Summary'>\n",
       "\"\"\"\n",
       "                            OLS Regression Results                            \n",
       "==============================================================================\n",
       "Dep. Variable:                      y   R-squared:                       0.400\n",
       "Model:                            OLS   Adj. R-squared:                  0.368\n",
       "Method:                 Least Squares   F-statistic:                     12.66\n",
       "Date:                Fri, 19 Apr 2019   Prob (F-statistic):            0.00210\n",
       "Time:                        15:07:09   Log-Likelihood:                -80.895\n",
       "No. Observations:                  21   AIC:                             165.8\n",
       "Df Residuals:                      19   BIC:                             167.9\n",
       "Df Model:                           1                                         \n",
       "Covariance Type:            nonrobust                                         \n",
       "==============================================================================\n",
       "                 coef    std err          t      P>|t|      [0.025      0.975]\n",
       "------------------------------------------------------------------------------\n",
       "const         13.2969      4.411      3.014      0.007       4.065      22.529\n",
       "x              2.3333      0.656      3.558      0.002       0.961       3.706\n",
       "==============================================================================\n",
       "Omnibus:                       10.455   Durbin-Watson:                   0.898\n",
       "Prob(Omnibus):                  0.005   Jarque-Bera (JB):                8.352\n",
       "Skew:                          -1.158   Prob(JB):                       0.0154\n",
       "Kurtosis:                       5.044   Cond. No.                         11.5\n",
       "==============================================================================\n",
       "\n",
       "Warnings:\n",
       "[1] Standard Errors assume that the covariance matrix of the errors is correctly specified.\n",
       "\"\"\""
      ]
     },
     "execution_count": 141,
     "metadata": {},
     "output_type": "execute_result"
    }
   ],
   "source": [
    "lev_model.summary()"
   ]
  },
  {
   "cell_type": "markdown",
   "metadata": {},
   "source": [
    "The presence of the outlier did a few things, but the biggest effect is on the models' mean squared errors (this is the sum of squared residuals divided by the residual degrees of freedom). "
   ]
  },
  {
   "cell_type": "code",
   "execution_count": 142,
   "metadata": {},
   "outputs": [
    {
     "data": {
      "text/plain": [
       "6.71840030424511"
      ]
     },
     "execution_count": 142,
     "metadata": {},
     "output_type": "execute_result"
    }
   ],
   "source": [
    "model_no_outlier.mse_resid"
   ]
  },
  {
   "cell_type": "code",
   "execution_count": 143,
   "metadata": {},
   "outputs": [
    {
     "data": {
      "text/plain": [
       "143.527963946104"
      ]
     },
     "execution_count": 143,
     "metadata": {},
     "output_type": "execute_result"
    }
   ],
   "source": [
    "lev_model.mse_resid"
   ]
  },
  {
   "cell_type": "markdown",
   "metadata": {},
   "source": [
    "The [mean square error (MSE)](https://en.wikipedia.org/wiki/Mean_squared_error) is substantially inflated from $6.72$ to $143.53$ by the presence of the outlier. Recalling that MSE appears in all of our confidence and prediction interval formulas, the inflated size of MSE would thereby cause a detrimental increase in the width of all of our confidence and prediction intervals.\n",
    "\n",
    "Although including the outlier substantially inflated our coefficent's standard error from $0.107$ to $0.461$ (and the coefficient itself is also quite different), the predicted responses, estimated slope coefficients, and hypothesis test results are not necessarily affected by the inclusion of an outlier. \n",
    "\n",
    "In fact, an outlier can sometimes be so extreme that its influence on the regression model is so great that the estimated regression function is \"pulled\" towards the potential outlier, so that it isn't flagged as an outlier using the standardized residual criterion. To address this issue, **deleted residuals** offer an alternative criterion for identifying outliers. The basic idea is to delete the observations one at a time, each time refitting the regression model on the remaining n–1 observations. Then, we compare the observed response values to their fitted values based on the models with the ith observation deleted. This produces **(unstandardized) deleted residuals**. Standardizing the deleted residuals produces **studentized deleted residuals**, also known as **externally studentized residuals**.\n",
    "\n",
    "#### (Unstandardized) deleted residuals\n",
    "If we let:\n",
    "\n",
    " - $y_i$ denote the observed response for the $i^{th}$ observation, and\n",
    " - $\\hat{y}_{(i)}$ denote the predicted response for the $i^{th}$ observation based on the estimated model with the $i^{th}$ observation deleted\n",
    " \n",
    "then the $i^{th} (unstandardized) deleted residual is defined as:\n",
    "\n",
    "$$\n",
    "d_i=y_i-\\hat{y}_{(i)}\n",
    "$$\n",
    "\n",
    "Data point $i$ being influential implies that the data point \"pulls\" the estimated regression line towards itself. In that case, the observed response would be close to the predicted response. But, if you removed the influential data point from the data set, then the estimated regression line would \"bounce back\" away from the observed response, thereby resulting in a large deleted residual. That is, a data point having a large deleted residual suggests that the data point is influential.\n",
    "\n",
    "In general, **externally studentized residuals are going to be more effective for detecting outlying $Y$ observations than internally studentized residuals.** If an observation has an externally studentized residual that is larger than $3$ (in absolute value) we can call it an outlier.\n",
    "\n",
    "We can access the **externally studentized residuals** with `statsmodels` like this:"
   ]
  },
  {
   "cell_type": "code",
   "execution_count": 144,
   "metadata": {},
   "outputs": [
    {
     "data": {
      "text/plain": [
       "(array([20]),)"
      ]
     },
     "execution_count": 144,
     "metadata": {},
     "output_type": "execute_result"
    }
   ],
   "source": [
    "np.where(np.abs(infl.get_resid_studentized_external()) > 3)"
   ]
  },
  {
   "cell_type": "markdown",
   "metadata": {},
   "source": [
    "#### Leverage vs Influence\n",
    "\n",
    "Outliers and high leverage data points have the potential to be influential, but we generally have to investigate further to determine whether or not they are actually influential. That is, does it unduly influence any part of a regression analysis, such as the predicted responses, the estimated slope coefficients, or the hypothesis test results. \n",
    "\n",
    "This is an important distinction because the leverage merely quantifies the potential for a data point to exert strong influence on the regression analysis. The leverage depends only on the predictor values. Whether the data point is **influential** or not also depends on the observed value of the reponse $y_i$.\n",
    "\n",
    "### Influence\n",
    "\n",
    "Here we'll discuss two measures for identifying influential data points:\n",
    "\n",
    " - Difference in fits (DFFITS)\n",
    " - Cook's distance\n",
    " \n",
    "The basic idea behind each of these measures is the same, namely to delete the observations one at a time, each time refitting the regression model on the remaining $n–1$ observations. Then, we compare the results using all $n$ observations to the results with the $i^{th}$ observation deleted to see how much influence the observation has on the analysis. Analyzed as such, we are able to assess the potential impact each data point has on the regression analysis.\n",
    "\n",
    "#### Difference in Fits (DFFITS)\n",
    "The difference in fits for observation i, denoted $DFFITS_i$, is defined as:\n",
    "\n",
    "$$\n",
    "DFFITS_i=\\frac{\\hat{y}_i-\\hat{y}_{(i)}}{\\sqrt{MSE_{(i)}h_{ii}}}\n",
    "$$\n",
    "\n",
    "As you can see, the numerator measures the difference in the predicted responses obtained when the $i_{th}$ data point is included and excluded from the analysis. The denominator is the estimated standard deviation of the difference in the predicted responses. Therefore, the difference in fits quantifies the number of standard deviations that the fitted value changes when the $i_{th}$ data point is omitted.\n",
    "\n",
    "An observation is deemed influential if the absolute value of its DFFITS value is greater than:\n",
    "\n",
    "$$\n",
    "2\\sqrt{\\frac{p+1}{n-p-1}}\n",
    "$$\n",
    "\n",
    "where as always $n$ = the number of observations and $$ = the number of parameters including the intercept.\n",
    "\n",
    "Using this guideline, we can deem a data point as being influential if the absolute value of its DFFITS value is greater than:\n",
    "\n",
    "$$\n",
    "2\\sqrt{\\frac{p+1}{n-p-1}}=2\\sqrt{\\frac{2+1}{21-2-1}}=0.82\n",
    "$$"
   ]
  },
  {
   "cell_type": "code",
   "execution_count": 145,
   "metadata": {},
   "outputs": [
    {
     "data": {
      "text/plain": [
       "(array([20]),)"
      ]
     },
     "execution_count": 145,
     "metadata": {},
     "output_type": "execute_result"
    }
   ],
   "source": [
    "np.where(np.abs(infl.dffits[0]) > .82)"
   ]
  },
  {
   "cell_type": "markdown",
   "metadata": {},
   "source": [
    "Above, we found our outlier that has high leverage to be an influential observation. But what to do with this observation comes down to recognizing that all of these outlier/leverage/influence measures are just tools that *flag* potentially influential data points for the data analyst. In the end, it's up to the analyst to decide if they should analyze the data set twice — once with and once without the flagged data points. If the data points significantly alter the outcome of the regression analysis, then the researcher should report the results of both analyses."
   ]
  },
  {
   "cell_type": "markdown",
   "metadata": {},
   "source": [
    "#### Cook's Distance\n",
    "[Cook's distance] is defined as:\n",
    "\n",
    "$$\n",
    "D_i=\\frac{(y_i-\\hat{y}_i)^2}{p \\times MSE}\\left[ \\frac{h_{ii}}{(1-h_{ii})^2}\\right]\n",
    "$$\n",
    "\n",
    "The main thing to recognize is that Cook's $D_i$ depends on both the residual, $e_i$ (in the first term), and the leverage, $h_{ii}$ (in the second term). That is, both the $x$ value and the $y$ value of the data point play a role in the calculation of Cook's distance.\n",
    "\n",
    "In short:\n",
    "\n",
    " - $D_i$ directly summarizes how much all of the fitted values change when the $i^{th}$ observation is deleted.\n",
    " - A data point having a large $D_i$ indicates that the data point strongly influences the fitted values.\n",
    " \n",
    "When we regressed $y$ on $x$ using all $n = 20$ data points, we determined that the estimated intercept coefficient $b_0 = 13.296921$ and the estimated slope coefficient $b_1 = 2.333275$:"
   ]
  },
  {
   "cell_type": "code",
   "execution_count": 148,
   "metadata": {},
   "outputs": [
    {
     "data": {
      "text/plain": [
       "const    13.296921\n",
       "x         2.333275\n",
       "dtype: float64"
      ]
     },
     "execution_count": 148,
     "metadata": {},
     "output_type": "execute_result"
    }
   ],
   "source": [
    "lev_model.params"
   ]
  },
  {
   "cell_type": "markdown",
   "metadata": {},
   "source": [
    "If we remove the first data point from the data set, and regress $y$ on $x$ using the remaining $n = 19$ data points, the estimated intercept coefficient $b_0$ and estimated slope coefficient $b_1$ should remain about the same:"
   ]
  },
  {
   "cell_type": "code",
   "execution_count": 161,
   "metadata": {},
   "outputs": [
    {
     "data": {
      "text/plain": [
       "const    15.396664\n",
       "x         2.083496\n",
       "dtype: float64"
      ]
     },
     "execution_count": 161,
     "metadata": {},
     "output_type": "execute_result"
    }
   ],
   "source": [
    "model_minus_first = sm.OLS(df['y'].iloc[1:], \n",
    "                           df[['const', 'x']].iloc[1:]).fit()\n",
    "model_minus_first.params"
   ]
  },
  {
   "cell_type": "markdown",
   "metadata": {},
   "source": [
    "As we would hope and expect, the estimates don't change all that much when removing the one data point. Continuing this process of removing each data point one at a time, and plotting the resulting estimated slopes ($b_1$) versus estimated intercepts ($b_0$), we obtain:"
   ]
  },
  {
   "cell_type": "code",
   "execution_count": 165,
   "metadata": {},
   "outputs": [
    {
     "data": {
      "text/plain": [
       "<matplotlib.collections.PathCollection at 0x12208eda0>"
      ]
     },
     "execution_count": 165,
     "metadata": {},
     "output_type": "execute_result"
    },
    {
     "data": {
      "image/png": "[encoded data removed]",
      "text/plain": [
       "<Figure size 432x288 with 1 Axes>"
      ]
     },
     "metadata": {
      "needs_background": "light"
     },
     "output_type": "display_data"
    }
   ],
   "source": [
    "consts = []\n",
    "slopes = []\n",
    "for i in range(1, df.shape[0]+1):\n",
    "    _df = df.drop([i])\n",
    "    _model = sm.OLS(_df['y'], \n",
    "                    _df[['const', 'x']]).fit()\n",
    "    _params = _model.params\n",
    "    consts.append(_params[0])\n",
    "    slopes.append(_params[1])\n",
    "    \n",
    "plt.scatter(consts, slopes)"
   ]
  },
  {
   "cell_type": "markdown",
   "metadata": {},
   "source": [
    "As you can see, the estimated coefficients are *not* all bunched together regardless of which data point is removed. This suggests the presence of an influential observation. Let's see the model's parameters when we remove just the outlier we've identified previously:"
   ]
  },
  {
   "cell_type": "code",
   "execution_count": 166,
   "metadata": {},
   "outputs": [
    {
     "data": {
      "text/plain": [
       "const    1.732178\n",
       "x        5.116869\n",
       "dtype: float64"
      ]
     },
     "execution_count": 166,
     "metadata": {},
     "output_type": "execute_result"
    }
   ],
   "source": [
    "model_no_outlier.params"
   ]
  },
  {
   "cell_type": "markdown",
   "metadata": {},
   "source": [
    "Wow! The constant here is estimated to be $1.73$ when it was previously estimated to be $13.296921$. And the slope is not estimated to be $5.12$ when it was previously estimated to be $2.33$. In this case, we would expect the Cook's distance measure, $D_i$, for the outlier to be large and the Cook's distance measures, $D_i$, for the remaining data points to be small. But how big is too big?\n",
    "\n",
    "Here are the guidelines commonly used:\n",
    "\n",
    " - If $D_i$ is greater than $0.5$, then the $i_{th}$ data point is worthy of further investigation as it may be influential.\n",
    " - If $D_i$ is greater than $1$, then the $i_th$ data point is quite likely to be influential.\n",
    " \n",
    "> An alternative method for interpreting Cook's distance that is sometimes used is to relate the measure to the $F(p, n–p)$ distribution and to find the corresponding percentile value. If this percentile is less than about $10$ or $20$ percent, then the case has little apparent influence on the fitted values. On the other hand, if it is near $50$ percent or even higher, then the case has a major influence. "
   ]
  },
  {
   "cell_type": "markdown",
   "metadata": {},
   "source": [
    "### Visualizing Influence\n",
    "We can visually identify influencers with a Residuals vs Leverage plot (also called an influence plot):"
   ]
  },
  {
   "cell_type": "code",
   "execution_count": 167,
   "metadata": {},
   "outputs": [
    {
     "data": {
      "image/png": "[encoded data removed]",
      "text/plain": [
       "<Figure size 864x576 with 1 Axes>"
      ]
     },
     "metadata": {
      "needs_background": "light"
     },
     "output_type": "display_data"
    }
   ],
   "source": [
    "fig, ax = plt.subplots(figsize=(12,8))\n",
    "fig = sm.graphics.influence_plot(lev_model, ax=ax, criterion=\"cooks\")"
   ]
  },
  {
   "cell_type": "markdown",
   "metadata": {},
   "source": [
    "And what we saw above is confirmed in this plot."
   ]
  }
 ],
 "metadata": {
  "kernelspec": {
   "display_name": "learning-data-science",
   "language": "python",
   "name": "learning-data-science"
  },
  "language_info": {
   "codemirror_mode": {
    "name": "ipython",
    "version": 3
   },
   "file_extension": ".py",
   "mimetype": "text/x-python",
   "name": "python",
   "nbconvert_exporter": "python",
   "pygments_lexer": "ipython3",
   "version": "3.7.2"
  }
 },
 "nbformat": 4,
 "nbformat_minor": 2
}
