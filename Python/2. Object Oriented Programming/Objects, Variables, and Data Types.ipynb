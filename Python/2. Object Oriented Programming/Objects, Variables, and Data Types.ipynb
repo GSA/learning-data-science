{
 "cells": [
  {
   "cell_type": "markdown",
   "metadata": {},
   "source": [
    "# Objects, Variables, and Data Types"
   ]
  },
  {
   "cell_type": "markdown",
   "metadata": {},
   "source": [
    " - [Object Oriented Programming](#Part1)\n",
    " - [Variables](#Part2)\n",
    " - [Python's Built-In Data Types](#Part3)\n",
    " - [What's Next](#next)"
   ]
  },
  {
   "cell_type": "markdown",
   "metadata": {},
   "source": [
    "## Lesson Objectives\n",
    "By the end of this lesson, you'll be able to:\n",
    "- Understand Object Oriented Programming\n",
    "- Create your own variables (objects)\n",
    "- Understand the key differences between Python's most common built-in data types"
   ]
  },
  {
   "cell_type": "markdown",
   "metadata": {},
   "source": [
    "<a id='Part1'></a>\n",
    "## Object-Oriented Programming\n",
    "The first programming languages were all about writing logic to define how data would be processed. In this [procedural](https://en.wikipedia.org/wiki/Procedural_programming) framework, a program was viewed as a logical sequence that takes input, processes it, and produces output. \n",
    "\n",
    "[Object-Oriented Programming (OOP)](https://en.wikipedia.org/wiki/Object-oriented_programming) takes the view that we should define our data so that the logic writes itself. In other words, OOP is about programming the objects we want to manipulate rather than the logic required to manipulate them. "
   ]
  },
  {
   "cell_type": "markdown",
   "metadata": {},
   "source": [
    "In Python, this means that data (also knows as **attributes**) and their **methods** (the things you can do with the data) are bundled together into **instances** of an object type. The **type** of an object refers to the ruleset that constrains the nature of the data and methods within the object. In other words, an object's type determines which data can be stored within an instance of the object as well as the methods that can be applied to the data therein.\n",
    "\n",
    "This diagram depicts a simplified relationship between objects.\n",
    "\n",
    "<img src=\"assets/OOP_diagram.png\" height = 600 width = 600>\n",
    "\n",
    "\n",
    "\n",
    "First, there's an object/class called `Human`. This class possesses 5 attributes and 4 methods. We create two instances of this class called `Bob` and `Sue` and hypothetically give them different values for each of their attributes.\n",
    "\n",
    "Take `Bob`. To understand the relationship between his attributes and, say, the `Eat` method, consider how a human's appetite is in part a function of `Weight` and `Height`. That is, the data in `Weight` and `Height` could be variables in the `Eat` method if `Eat` were a mathematical function.\n",
    "\n",
    "But a human has to have something to eat, so we have to pass an \"edible\" object to the `Eat` method or else `Bob` will go hungry. \n",
    "\n",
    "Enter the `Fruit` class. An instance of the `Fruit` class, e.g. `Apple`, could be passed to the `Eat` method of `Bob`. Once `Bob` \"eats\" the `Apple`, the `Nutrition` attribute of the `Apple` object could result in a change in the `Weight` attribute of the `Human`.\n",
    "\n",
    "Although this is a highly simplified example, it elucidates the basics."
   ]
  },
  {
   "cell_type": "markdown",
   "metadata": {},
   "source": [
    "### Why OOP?\n",
    "OOP helps programmers recognize and exploit common data structures.\n",
    "\n",
    "For example, consider your desktop. It's got a bunch of windows running, each with its own individualized data, but each window shares some common functionality, such as minimizing, maximizing, and closing.\n",
    "\n",
    "In OOP, these individual windows would be created as separate instanaces of a `window` type object. The common functionalities of closing, minimizing, and maximizing could then be implemented as methods of this `window` type."
   ]
  },
  {
   "cell_type": "markdown",
   "metadata": {},
   "source": [
    "<a id='Part2'></a>\n",
    "## Variables\n",
    "As the name implies, a variable is something that can change. \n",
    "\n",
    "In programming, a variable is really a reference to a memory address. \n",
    "\n",
    "In the language of OOP, a variable is an instance of an object. And in Python, everything is an object. \n",
    "\n",
    "The variable name is therefore a symbolic name for the physical address of an object instance. \n",
    "\n",
    "When you assign a value, such as the integer 1, to a variable, you're placing that value - and all of the constraints inherited by its object type - at a particular address. Let's see that in action:"
   ]
  },
  {
   "cell_type": "code",
   "execution_count": 24,
   "metadata": {
    "collapsed": true
   },
   "outputs": [],
   "source": [
    "x = 1"
   ]
  },
  {
   "cell_type": "markdown",
   "metadata": {},
   "source": [
    "Our variable `x` can be seen as a container for the value `1`. \n",
    "\n",
    "In the language of OOP, `x` is an instance of the `int` class containing the value 1 as an attribute. We'll delve into the `int` class and other built-in Python data types in the next lesson.\n",
    "\n",
    "For now, note that, while our program is running, we can access and even change the value of this `x`: "
   ]
  },
  {
   "cell_type": "code",
   "execution_count": 25,
   "metadata": {
    "collapsed": false
   },
   "outputs": [
    {
     "data": {
      "text/plain": [
       "1"
      ]
     },
     "execution_count": 25,
     "metadata": {},
     "output_type": "execute_result"
    }
   ],
   "source": [
    "x #access the value"
   ]
  },
  {
   "cell_type": "code",
   "execution_count": 26,
   "metadata": {
    "collapsed": false
   },
   "outputs": [
    {
     "data": {
      "text/plain": [
       "2"
      ]
     },
     "execution_count": 26,
     "metadata": {},
     "output_type": "execute_result"
    }
   ],
   "source": [
    "x = 2 #change the value\n",
    "x #access again to verify the change"
   ]
  },
  {
   "cell_type": "markdown",
   "metadata": {},
   "source": [
    "When naming a variable in Python, we have to follow a few rules:\n",
    " - Names must start with an underscore \"_\" or a letter (Variable names with a leading underscore have a [special meaning](https://docs.python.org/3/tutorial/classes.html#private-variables) in Python)\n",
    " - Subsequent letters can be an underscore, letter, or digit\n",
    " - Names are case-sensitive\n",
    " - Names cannot be any of the Python keywords (see code below)"
   ]
  },
  {
   "cell_type": "code",
   "execution_count": 1,
   "metadata": {
    "collapsed": false
   },
   "outputs": [
    {
     "name": "stdout",
     "output_type": "stream",
     "text": [
      "['False', 'None', 'True', 'and', 'as', 'assert', 'break', 'class', 'continue', 'def', 'del', 'elif', 'else', 'except', 'finally', 'for', 'from', 'global', 'if', 'import', 'in', 'is', 'lambda', 'nonlocal', 'not', 'or', 'pass', 'raise', 'return', 'try', 'while', 'with', 'yield']\n"
     ]
    }
   ],
   "source": [
    "import keyword\n",
    "print(keyword.kwlist) #print the list of Python keywords"
   ]
  },
  {
   "cell_type": "markdown",
   "metadata": {},
   "source": [
    "So what's actually happening when we assign a value to a variable? Let's run through the following code:"
   ]
  },
  {
   "cell_type": "code",
   "execution_count": null,
   "metadata": {
    "collapsed": true
   },
   "outputs": [],
   "source": [
    "x = 1\n",
    "y = x\n",
    "y = 2"
   ]
  },
  {
   "cell_type": "markdown",
   "metadata": {},
   "source": [
    "`x = 1`\n",
    "<br>Python chooses a memory location for x and stores the integer value 1 there. \n",
    "\n",
    "`y = x`\n",
    "<br>You might be tempted to think that Python will choose a new memory location and store the integer value 1 there. But since both variables have the same value after assignment, Python points `y` to the memory location of `x`.\n",
    "\n",
    "`y = 2`\n",
    "<br>`y` will be set to the integer value 2. Since `x` and `y` no longer share the same value, `y` gets its own memory address, containing 2, while `x` retains the 1.\n",
    "\n",
    "If you want to prove this to yourself, you can use the built-in `id()` function. This function returns the memory location of an object:"
   ]
  },
  {
   "cell_type": "code",
   "execution_count": 7,
   "metadata": {
    "collapsed": false
   },
   "outputs": [
    {
     "name": "stdout",
     "output_type": "stream",
     "text": [
      "when x=1, x is located at 4550178640\n",
      "when y=x, y is also located at 4550178640\n",
      "when y=2, y is now located at 4550178672\n",
      "when y=2, x is still located at 4550178640\n"
     ]
    }
   ],
   "source": [
    "x = 1\n",
    "print(\"when x=1, x is located at\",id(x))\n",
    "\n",
    "y = x\n",
    "print(\"when y=x, y is also located at\",id(y))\n",
    "\n",
    "y = 2\n",
    "print(\"when y=2, y is now located at\",id(y))\n",
    "\n",
    "print(\"when y=2, x is still located at\",id(x))"
   ]
  },
  {
   "cell_type": "markdown",
   "metadata": {},
   "source": [
    "As you can see, the new memory address isn't used until the third assigment, `y = 2`"
   ]
  },
  {
   "cell_type": "markdown",
   "metadata": {},
   "source": [
    "<a id='Part3'></a>\n",
    "## Python's Built-In Data Types\n",
    "Now that you know that variables are just instances of objects, it's time to learn about Python's main object types.\n",
    "\n",
    "The table provides an overview of the most frequently used built-in data types:\n",
    "\n",
    "<table>\n",
    "<tr class=\"row-odd\"><th class=\"head\">Type</th>\n",
    "<th class=\"head\">Example</th>\n",
    "<th class=\"head\">Usage comment</th>\n",
    "</tr>\n",
    "<tbody valign=\"top\">\n",
    "<tr class=\"row-even\"><td><tt class=\"docutils literal\"><span class=\"pre\">bool</span></tt></td>\n",
    "<td><tt class=\"docutils literal\"><span class=\"pre\">sky_is_blue</span> <span class=\"pre\">=</span> <span class=\"pre\">True</span></tt></td>\n",
    "<td>True & False values</td>\n",
    "</tr>\n",
    "<tr class=\"row-odd\"><td><tt class=\"docutils literal\"><span class=\"pre\">int</span></tt> <tt class=\"docutils literal\">\n",
    "<td><tt class=\"docutils literal\"><span class=\"pre\">year</span> <span class=\"pre\">=</span> <span class=\"pre\">2018</span></tt></td>\n",
    "<td>integers</td>\n",
    "</tr>\n",
    "<tr class=\"row-even\"><td><tt class=\"docutils literal\"><span class=\"pre\">float</span></tt></td>\n",
    "<td><tt class=\"docutils literal\"><span class=\"pre\">pi</span> <span class=\"pre\">=</span> <span class=\"pre\">3.14159265359</span></tt></td>\n",
    "<td>numbers with decimals</td>\n",
    "</tr>\n",
    "<tr class=\"row-odd\"><td><tt class=\"docutils literal\"><span class=\"pre\">str</span></tt></td>\n",
    "<td><tt class=\"docutils literal\"><span class=\"pre\">foo</span> <span class=\"pre\">=</span> <span class=\"pre\">&quot;bar&quot;</span></tt></td>\n",
    "<td>any text (note the quotations)</td>\n",
    "</tr>\n",
    "<tr class=\"row-even\"><td><tt class=\"docutils literal\"><span class=\"pre\">None</span></tt></td>\n",
    "<td><tt class=\"docutils literal\"><span class=\"pre\">limits</span> <span class=\"pre\">=</span> <span class=\"pre\">None</span></tt></td>\n",
    "<td>empty variable without any meaningful value</td>\n",
    "</tr>\n",
    "</tbody>\n",
    "</table>"
   ]
  },
  {
   "cell_type": "markdown",
   "metadata": {},
   "source": [
    "<a id='next'></a>\n",
    "## What's Next\n",
    "In this lesson, you've learned how to:\n",
    "- Describe object oriented programming in Python\n",
    "- Create your own variables\n",
    "- Differentiate between Python's most common built-in data types\n",
    "\n",
    "We'll explore each of these types in the next two lessons, starting with the numeric types `int`, `bool`, and `float`."
   ]
  }
 ],
 "metadata": {
  "kernelspec": {
   "display_name": "Python 3",
   "language": "python",
   "name": "python3"
  },
  "language_info": {
   "codemirror_mode": {
    "name": "ipython",
    "version": 3
   },
   "file_extension": ".py",
   "mimetype": "text/x-python",
   "name": "python",
   "nbconvert_exporter": "python",
   "pygments_lexer": "ipython3",
   "version": "3.6.0"
  }
 },
 "nbformat": 4,
 "nbformat_minor": 2
}
