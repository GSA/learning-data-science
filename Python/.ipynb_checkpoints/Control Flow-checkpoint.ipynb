{
 "cells": [
  {
   "cell_type": "markdown",
   "metadata": {},
   "source": [
    "# Control Flow"
   ]
  },
  {
   "cell_type": "markdown",
   "metadata": {},
   "source": [
    "## Lesson Objectives\n",
    "By the end of this lesson, you will be able to:\n",
    "- Use iterators and generators as light-weight data containers\n",
    "- Work with file input/output\n",
    "- Understand more about Python classes"
   ]
  },
  {
   "cell_type": "markdown",
   "metadata": {},
   "source": [
    "<a id='iter'></a>\n",
    "## Iterables and Iterators\n",
    "**Iteration** is moving from one object to another within a container, usually until some sort of condition is met.\n",
    "\n",
    "In Python, there's a subtle yet important difference between **iterables**, like containers we've been working with above, and **iterators**, which are objects that produce values from iterables. Consider this code:"
   ]
  },
  {
   "cell_type": "code",
   "execution_count": 2,
   "metadata": {
    "collapsed": false
   },
   "outputs": [
    {
     "name": "stdout",
     "output_type": "stream",
     "text": [
      "object a is <class 'list'>\n",
      "object b is <class 'list_iterator'>\n"
     ]
    }
   ],
   "source": [
    "a = [1,2,3,4,5]\n",
    "b = iter(a)\n",
    "\n",
    "print('object a is',type(a))\n",
    "print('object b is',type(b))"
   ]
  },
  {
   "cell_type": "markdown",
   "metadata": {},
   "source": [
    "Above, `a` is the iterable while `b` is an instance of an iterator that will produce values from the iterable `a`. The built-in function `next()` will show how an iterator produces values from an iterable:"
   ]
  },
  {
   "cell_type": "code",
   "execution_count": 3,
   "metadata": {
    "collapsed": false
   },
   "outputs": [
    {
     "name": "stdout",
     "output_type": "stream",
     "text": [
      "1\n",
      "2\n",
      "3\n",
      "4\n",
      "5\n"
     ]
    },
    {
     "ename": "StopIteration",
     "evalue": "",
     "output_type": "error",
     "traceback": [
      "\u001b[0;31m---------------------------------------------------------------------------\u001b[0m",
      "\u001b[0;31mStopIteration\u001b[0m                             Traceback (most recent call last)",
      "\u001b[0;32m<ipython-input-3-a54ec549c5ab>\u001b[0m in \u001b[0;36m<module>\u001b[0;34m()\u001b[0m\n\u001b[1;32m      4\u001b[0m \u001b[0mprint\u001b[0m\u001b[0;34m(\u001b[0m\u001b[0mnext\u001b[0m\u001b[0;34m(\u001b[0m\u001b[0mb\u001b[0m\u001b[0;34m)\u001b[0m\u001b[0;34m)\u001b[0m \u001b[0;31m#print the next value from a\u001b[0m\u001b[0;34m\u001b[0m\u001b[0m\n\u001b[1;32m      5\u001b[0m \u001b[0mprint\u001b[0m\u001b[0;34m(\u001b[0m\u001b[0mnext\u001b[0m\u001b[0;34m(\u001b[0m\u001b[0mb\u001b[0m\u001b[0;34m)\u001b[0m\u001b[0;34m)\u001b[0m \u001b[0;31m#print the next value from a\u001b[0m\u001b[0;34m\u001b[0m\u001b[0m\n\u001b[0;32m----> 6\u001b[0;31m \u001b[0mprint\u001b[0m\u001b[0;34m(\u001b[0m\u001b[0mnext\u001b[0m\u001b[0;34m(\u001b[0m\u001b[0mb\u001b[0m\u001b[0;34m)\u001b[0m\u001b[0;34m)\u001b[0m \u001b[0;31m#try to print the next value, but since we're at the end, you'll get a StopIteration error\u001b[0m\u001b[0;34m\u001b[0m\u001b[0m\n\u001b[0m",
      "\u001b[0;31mStopIteration\u001b[0m: "
     ]
    }
   ],
   "source": [
    "print(next(b)) #print the next value from a\n",
    "print(next(b)) #print the next value from a\n",
    "print(next(b)) #print the next value from a\n",
    "print(next(b)) #print the next value from a\n",
    "print(next(b)) #print the next value from a\n",
    "print(next(b)) #try to print the next value, but since we're at the end, you'll get a StopIteration error"
   ]
  },
  {
   "cell_type": "markdown",
   "metadata": {},
   "source": [
    "To put the above into context, consider your `for` loop:\n",
    "\n",
    "<br>`a = [1, 2, 3]`\n",
    "<br>`for i in x:`\n",
    "<br>&nbsp;&nbsp;&nbsp;&nbsp;&nbsp;&nbsp;`do something`"
   ]
  },
  {
   "cell_type": "markdown",
   "metadata": {},
   "source": [
    "Behind the scenes, `iter(a)` and `next(a)` is happening. You can see this by using the [dis](https://docs.python.org/2/library/dis.html) module to disassemble the lower-level [bytecode](https://docs.python.org/2/glossary.html#term-bytecode) of the `for` loop."
   ]
  },
  {
   "cell_type": "code",
   "execution_count": null,
   "metadata": {
    "collapsed": true
   },
   "outputs": [],
   "source": [
    "import dis\n",
    "a = [1, 2, 3]\n",
    "dis.dis('for _ in a: pass')"
   ]
  },
  {
   "cell_type": "markdown",
   "metadata": {},
   "source": [
    "The call to `GET_ITER` is essentially `iter(x)` while `FOR_ITER` is essentially `next()`."
   ]
  },
  {
   "cell_type": "markdown",
   "metadata": {},
   "source": [
    "### Iterators\n",
    "So why should I care about iterators? An iterator is basically a light-weight value factory. This means they make for highly efficient looping. \n",
    "\n",
    "Consider the challenge of counting to potentially infinity. Here's how you can quickly do that with a tool from the [`itertools`](https://docs.python.org/3.6/library/itertools.html) module:"
   ]
  },
  {
   "cell_type": "code",
   "execution_count": null,
   "metadata": {
    "collapsed": true
   },
   "outputs": [],
   "source": [
    "from itertools import count\n",
    "counter = count(start=1)\n",
    "print(next(counter))\n",
    "print(next(counter))\n",
    "print(next(counter)) #and we could go on and on"
   ]
  },
  {
   "cell_type": "markdown",
   "metadata": {},
   "source": [
    "Or consider the challenge of producing an infinite sequence from a finite sequence:"
   ]
  },
  {
   "cell_type": "code",
   "execution_count": null,
   "metadata": {
    "collapsed": true
   },
   "outputs": [],
   "source": [
    "from itertools import cycle\n",
    "students = cycle(['Larry', 'Moe', 'Curly']) #an infinite sequence\n",
    "print(next(students))\n",
    "print(next(students))\n",
    "print(next(students)) #and we could go on and on"
   ]
  },
  {
   "cell_type": "markdown",
   "metadata": {},
   "source": [
    "Or the challenge of making a finite sequence from an infinite one:"
   ]
  },
  {
   "cell_type": "code",
   "execution_count": null,
   "metadata": {
    "collapsed": true
   },
   "outputs": [],
   "source": [
    "from itertools import islice\n",
    "students = cycle(['Larry', 'Moe', 'Curly']) #an infinite sequence\n",
    "four_students = islice(students, 0, 4)      #a finite slice\n",
    "for student in four_students:               #now we can loop with this finite slice without worrying about infinity\n",
    "    print(student)"
   ]
  },
  {
   "cell_type": "markdown",
   "metadata": {},
   "source": [
    "Python also has a class of iterator objects called [generators](https://docs.python.org/3/reference/expressions.html#yieldexpr). They allow you to work with streams of data while using fewer intermediate variables and data structures. They are also more memory efficient and tend to require fewer lines of code. Read more about their use [here](https://www.python.org/dev/peps/pep-0255/)."
   ]
  },
  {
   "cell_type": "code",
   "execution_count": null,
   "metadata": {
    "collapsed": true
   },
   "outputs": [],
   "source": []
  },
  {
   "cell_type": "markdown",
   "metadata": {
    "collapsed": true
   },
   "source": [
    "### Namespaces and Scope\n",
    "> Remember that everything in Python is an object. To keep track of the names of all these objects, Python uses a name-to-object mapping, with the names as keys and the objects as values, much like the dictionaries we've been working with. In large programs, there's always a chance that one name might be applied to more than one object - just like in a large classroom there might be more than one John, Joe, or Sally. Python prevents name clashing with something called **namespaces**. When you have multiple namespaces, you can use the same name but map it to a different object. Here are a few examples of namespaces:\n",
    "   - **Local Namespace:** The inside a function, created when a function is called, and only lasts until the function returns.\n",
    "       - For example:  `n` in incrementer above\n",
    "   - **Global Namespace:** The names from any imported modules.\n",
    "       - For example:  `sqrt` from the `math` module\n",
    "   - **Built-in Namespace:** Python's built-in functions and exception names.\n",
    "       - For example:  `len()`\n",
    "       \n",
    "Let's concretize this with an example:"
   ]
  },
  {
   "cell_type": "code",
   "execution_count": null,
   "metadata": {
    "collapsed": true
   },
   "outputs": [],
   "source": [
    "abs # the name `abs` is a built-in function that returns the absolute value of a number"
   ]
  },
  {
   "cell_type": "code",
   "execution_count": null,
   "metadata": {
    "collapsed": true
   },
   "outputs": [],
   "source": [
    "def local_abs():\n",
    "    abs = 'local abs' #although abs is a built-in, you can make it something else locally (not recommended practice!)\n",
    "    print(abs)\n",
    "    \n",
    "local_abs()"
   ]
  },
  {
   "cell_type": "code",
   "execution_count": null,
   "metadata": {
    "collapsed": true
   },
   "outputs": [],
   "source": [
    "abs #but outside the function abs is still the built-in function"
   ]
  },
  {
   "cell_type": "code",
   "execution_count": null,
   "metadata": {
    "collapsed": true
   },
   "outputs": [],
   "source": [
    "from math import fabs #the math module also has an absolute value function, but they call it fabs to avoid a name clash\n",
    "fabs"
   ]
  },
  {
   "cell_type": "markdown",
   "metadata": {
    "collapsed": true
   },
   "source": [
    "> Although namespaces help us identify all of the names inside our program, we still can't use a variable name anywhere we want. A name also has a **scope**, which refers to the region of a program where that name can be directly accessed. During program execution scopes are checked for a name in the following order:\n",
    "<br><br>**Local -> Enclosed -> Global -> Built-in**\n",
    "> - **Local:** local names within a function\n",
    "  - **Enclosed:** local names of enclosed/encapsulated functions\n",
    "  - the next-to-last scope contains the current module's global names\n",
    "  - the outermost scope, which is searched last, is the namespace containing the built-in names"
   ]
  },
  {
   "cell_type": "code",
   "execution_count": null,
   "metadata": {
    "collapsed": true
   },
   "outputs": [],
   "source": []
  },
  {
   "cell_type": "code",
   "execution_count": null,
   "metadata": {
    "collapsed": true
   },
   "outputs": [],
   "source": []
  },
  {
   "cell_type": "code",
   "execution_count": null,
   "metadata": {
    "collapsed": true
   },
   "outputs": [],
   "source": []
  },
  {
   "cell_type": "code",
   "execution_count": null,
   "metadata": {
    "collapsed": true
   },
   "outputs": [],
   "source": []
  },
  {
   "cell_type": "markdown",
   "metadata": {},
   "source": [
    "<a id='exercise1'></a>\n",
    "### Exercise 1 - The Caesar Cipher\n",
    "1) The [Caesar cipher](https://en.wikipedia.org/wiki/Caesar_cipher) is one of the simplest and most widely known encryption techniques. It is a type of substitution cipher in which each letter in the plaintext is replaced by a letter some fixed number of positions down the alphabet. For example, with a left shift of 2, E would be replaced by B, D would become A, and so on. The method is named after Julius Caesar, who used it in his private correspondence."
   ]
  },
  {
   "cell_type": "code",
   "execution_count": 7,
   "metadata": {
    "collapsed": false
   },
   "outputs": [
    {
     "data": {
      "text/html": [
       "<img src=\"https://upload.wikimedia.org/wikipedia/commons/thumb/4/4a/Caesar_cipher_left_shift_of_3.svg/856px-Caesar_cipher_left_shift_of_3.svg.png\"/>"
      ],
      "text/plain": [
       "<IPython.core.display.Image object>"
      ]
     },
     "execution_count": 7,
     "metadata": {},
     "output_type": "execute_result"
    }
   ],
   "source": [
    "from IPython.display import Image\n",
    "from IPython.core.display import HTML \n",
    "Image(url= \"https://upload.wikimedia.org/wikipedia/commons/thumb/4/4a/Caesar_cipher_left_shift_of_3.svg/856px-Caesar_cipher_left_shift_of_3.svg.png\")"
   ]
  },
  {
   "cell_type": "markdown",
   "metadata": {},
   "source": [
    "Write a function called *rotateChar* that takes a single string character and an integer as arguments and returns a new string character that has been rotated by the integer.\n",
    "                \n",
    "\n",
    "Hint:  you might want to use ord() and chr(). \n",
    "\n",
    "Hint: Lowercase characters and uppercase characters are ordered differently. To see this, try using a for loop to print each character of the alphabet, both uppercase and lowercase, along with its order from ord(). Remember that there's a method from the string module that will return the alphabet. Also think about how you'd check to see if a charcter is upper- or lowercase."
   ]
  },
  {
   "cell_type": "code",
   "execution_count": 8,
   "metadata": {
    "collapsed": true
   },
   "outputs": [],
   "source": [
    "#try your for loop here\n"
   ]
  },
  {
   "cell_type": "code",
   "execution_count": 9,
   "metadata": {
    "collapsed": true
   },
   "outputs": [],
   "source": [
    "#define your function here"
   ]
  },
  {
   "cell_type": "markdown",
   "metadata": {},
   "source": [
    "Now that you can roatate a character, write a more general function that will rotate each character of an entire word.\n",
    "\n",
    "Hint:  You can write this new function from scratch, or you can use the function you wrote above within this function. This process is known as [refactoring](https://en.wikipedia.org/wiki/Code_refactoring)."
   ]
  },
  {
   "cell_type": "code",
   "execution_count": 10,
   "metadata": {
    "collapsed": true
   },
   "outputs": [],
   "source": [
    "#define your function here\n"
   ]
  },
  {
   "cell_type": "markdown",
   "metadata": {},
   "source": [
    "### Binary Number Conversion\n",
    "Binary is important in computer science since all values stored within a computer exist as a series of 0s and 1s. If we had just 2 fingers instead of 10, we might count the same way. But alas we don't. This means it's useful to have a quick system for converting base-2 (binary) numbers to the the base-10 (decimal) numbers that we're used to (and vice versa).\n",
    "\n",
    "\n",
    "Although we already know that the bin() function will convert an integer to binary and that the int() function can convert binary to base-10, a good exercise is to write functions that will do these conversions for us. Before we do that, we'll need to understand how we'd do this conversion by hand."
   ]
  },
  {
   "cell_type": "markdown",
   "metadata": {},
   "source": [
    "### Binary to Decimal\n",
    "For binary number with n digits (d):\n",
    "$$d_{n-1} ... d_3, d_2, d_1, d_0$$\n",
    "the decimal number is equal to:\n",
    "$$d_0×2^0 + d_1×2^1 + d_2×2^2 + ...$$\n",
    "<p>For example, to find the decimal value of 100001<sub>2</sub>:</p>\n",
    "<table class=\"dtable\">\n",
    "\t<tr>\n",
    "\t\t<th>binary number:</th>\n",
    "\t\t<td>1</td>\n",
    "\t\t<td>0</td>\n",
    "\t\t<td>0</td>\n",
    "\t\t<td>0</td>\n",
    "\t\t<td>0</td>\n",
    "\t\t<td>1</td>\n",
    "\t</tr>\n",
    "\t<tr>\n",
    "\t\t<th>power of 2:</th>\n",
    "\t\t<td>2<sup>5</sup></td>\n",
    "\t\t<td>2<sup>4</sup></td>\n",
    "\t\t<td>2<sup>3</sup></td>\n",
    "\t\t<td>2<sup>2</sup></td>\n",
    "\t\t<td>2<sup>1</sup></td>\n",
    "\t\t<td>2<sup>0</sup></td>\n",
    "\t</tr>\n",
    "    <tr>\n",
    "        <th>formula:</th>\n",
    "        <td>2<sup>5</sup> x 1</td>\n",
    "\t\t<td>2<sup>4</sup> x 0</td>\n",
    "\t\t<td>2<sup>3</sup> x 0</td>\n",
    "\t\t<td>2<sup>2</sup> x 0</td>\n",
    "\t\t<td>2<sup>1</sup> x 0</td>\n",
    "\t\t<td>2<sup>0</sup> x 1</td>\n",
    "    </tr>\n",
    "    <tr>\n",
    "        <th>product:</th>\n",
    "        <td>32 + </td>\n",
    "\t\t<td>0 + </td>\n",
    "\t\t<td>0 + </td>\n",
    "\t\t<td>0 + </td>\n",
    "\t\t<td>0 + </td>\n",
    "\t\t<td>1  =</td>\n",
    "        <td><b>33</b></td>\n",
    "</table>"
   ]
  },
  {
   "cell_type": "markdown",
   "metadata": {},
   "source": [
    "Let's confirm the above:"
   ]
  },
  {
   "cell_type": "code",
   "execution_count": 11,
   "metadata": {
    "collapsed": false
   },
   "outputs": [
    {
     "data": {
      "text/plain": [
       "33"
      ]
     },
     "execution_count": 11,
     "metadata": {},
     "output_type": "execute_result"
    }
   ],
   "source": [
    "int('100001',2)"
   ]
  },
  {
   "cell_type": "markdown",
   "metadata": {},
   "source": [
    "Now let's write a function called `bin_to_dec` to do the above. The function should accept a binary number and return the base-10 number:"
   ]
  },
  {
   "cell_type": "code",
   "execution_count": null,
   "metadata": {
    "collapsed": true
   },
   "outputs": [],
   "source": []
  },
  {
   "cell_type": "code",
   "execution_count": null,
   "metadata": {
    "collapsed": true
   },
   "outputs": [],
   "source": [
    "#test your function here\n"
   ]
  },
  {
   "cell_type": "markdown",
   "metadata": {},
   "source": [
    "### Decimal to Binary\n",
    "Many ancient numeral systems used ten and its powers for representing numbers, probably because there are ten fingers on two hands and people started counting by using their fingers:\n",
    "<img src='https://upload.wikimedia.org/wikipedia/commons/1/1b/Two_hand%2C_ten_fingers.jpg'>"
   ]
  },
  {
   "cell_type": "markdown",
   "metadata": {},
   "source": [
    "How do Decimal Numbers work?<br>\n",
    "The decimal system is called base-10 because because it is based on the following numbers:\n",
    "$$0, 1, 2, 3, 4, 5, 6, 7, 8, 9$$\n",
    "You count \"0,1,2,3,4,5,6,7,8,9,...\" but then you run out of symbols! So you add 1 on the left and then start again at 0: 10,11,12, ...\n",
    "<br>Because of this, every digit in a decimal number has a \"position\" based on its distance from the decimal point.\n",
    "<img src='http://www.mathsisfun.com/numbers/images/decimal.svg'>\n",
    "The position just to the left of the point is the \"Ones\" position. If we see a \"7\" there we know it means 7 ones.\n",
    "\n",
    "Every position further to the left is 10 times bigger, and every position further to the right is 10 times smaller. So when we see 11 we can say there are ten ones and one one, which makes eleven."
   ]
  },
  {
   "cell_type": "markdown",
   "metadata": {},
   "source": [
    "<p>How to convert decimal to binary</p>\n",
    "<ol>\n",
    "  <li>Divide the number by 2.</li>\n",
    "  <li>Save the integer quotient for the next iteration.</li>\n",
    "  <li>Assign the remainder as the right-most digit for the binary number.</li>\n",
    "  <li>Repeat the steps above until the quotient is equal to 0.</li>\n",
    "</ol>"
   ]
  },
  {
   "cell_type": "markdown",
   "metadata": {},
   "source": [
    "Example:\n",
    "<p>Converting 13<sub>10</sub> to binary:</p>\n",
    "\t<table class=\"ntable\">\n",
    "\t\t<tr>\n",
    "\t\t\t<th>Division<br>by 2</th>\n",
    "\t\t\t<th>Quotient</th>\n",
    "\t\t\t<th>Remainder</th>\n",
    "\t\t\t<th>Bit #</th>\n",
    "\t\t</tr>\n",
    "\t\t<tr>\n",
    "\t\t\t<td>13/2</td>\n",
    "\t\t\t<td>6</td>\n",
    "\t\t\t<td>1</td>\n",
    "\t\t\t<td>0</td>\n",
    "\t\t</tr>\n",
    "\t\t<tr>\n",
    "\t\t\t<td>6/2</td>\n",
    "\t\t\t<td>3</td>\n",
    "\t\t\t<td>0</td>\n",
    "\t\t\t<td>1</td>\n",
    "\t\t</tr>\n",
    "\t\t<tr>\n",
    "\t\t\t<td>3/2</td>\n",
    "\t\t\t<td>1</td>\n",
    "\t\t\t<td>1</td>\n",
    "\t\t\t<td>2</td>\n",
    "\t\t</tr>\n",
    "\t\t<tr>\n",
    "\t\t\t<td>1/2</td>\n",
    "\t\t\t<td>0</td>\n",
    "\t\t\t<td>1</td>\n",
    "\t\t\t<td>3</td>\n",
    "\t\t</tr>\n",
    "\t</table>\n"
   ]
  },
  {
   "cell_type": "code",
   "execution_count": 12,
   "metadata": {
    "collapsed": false
   },
   "outputs": [
    {
     "ename": "SyntaxError",
     "evalue": "invalid syntax (<ipython-input-12-724916a2aad9>, line 1)",
     "output_type": "error",
     "traceback": [
      "\u001b[0;36m  File \u001b[0;32m\"<ipython-input-12-724916a2aad9>\"\u001b[0;36m, line \u001b[0;32m1\u001b[0m\n\u001b[0;31m    Now write a function named `dec_to_bin` that converts an integer to binary:\u001b[0m\n\u001b[0m            ^\u001b[0m\n\u001b[0;31mSyntaxError\u001b[0m\u001b[0;31m:\u001b[0m invalid syntax\n"
     ]
    }
   ],
   "source": [
    "Now write a function named `dec_to_bin` that converts an integer to binary:"
   ]
  },
  {
   "cell_type": "markdown",
   "metadata": {
    "collapsed": true
   },
   "source": [
    "<a id='twitter'></a>\n",
    "## Twitter's Firehose"
   ]
  },
  {
   "cell_type": "code",
   "execution_count": null,
   "metadata": {
    "collapsed": true
   },
   "outputs": [],
   "source": [
    "import tweepy\n",
    "import json\n",
    "import re\n",
    "import os.path\n",
    "import datetime\n",
    "import io"
   ]
  },
  {
   "cell_type": "code",
   "execution_count": null,
   "metadata": {
    "collapsed": true
   },
   "outputs": [],
   "source": [
    "consumer_key = 'kTgBLFZvlbJBnJb4qXTauWm96'\n",
    "consumer_secret = 'on5lY00hHvcgKOgROqwokaWhRD81UlQm758XXpKuBhurYkfKKy'\n",
    "access_token = '2974003547-ERfEgxC8SCW4AmoKXZGicuL9LkE3aEVEVNCUFm6'\n",
    "access_secret = 'gzmKmjndegJ7UigaqSnGJ8oS739penb6gMfMoDPu0cCpt'\n",
    "\n",
    "auth = tweepy.OAuthHandler(consumer_key, consumer_secret)\n",
    "auth.set_access_token(access_token, access_secret)\n",
    "api = tweepy.API(auth)"
   ]
  },
  {
   "cell_type": "code",
   "execution_count": null,
   "metadata": {
    "collapsed": true
   },
   "outputs": [],
   "source": [
    "class MyStreamListener(tweepy.StreamListener):\n",
    "    \"\"\" limit: int, number of tweets to capture\n",
    "        print_output: bool, whether to print the tweet to screen\n",
    "        save_output: bool, whether to save the tweet data to a csv file\n",
    "        filename: str, the filename to name the saved output, by default it's file.csv\n",
    "        include_rts: bool, whether to capture retweets\n",
    "        strict_text_search: bool, ocasionally, stream will capture a tweet that doesn't actually include the search query\n",
    "            set to True to filter out these \"accidental\" tweets\n",
    "        search_terms: str or array, pass in the search query or an array of terms you want to use for filtering\n",
    "            if strict_text_search = True. Script checks and turns any string into array of strings\n",
    "    \"\"\"\n",
    "    def __init__(self,limit=20,\n",
    "                 filename='file.json',\n",
    "                 include_rts=True,\n",
    "                 search_terms=None):\n",
    "        self.limit = limit\n",
    "        self.counter = 0\n",
    "        self.filename=filename\n",
    "        self.search_terms = search_terms\n",
    "        self.tweet_data = []\n",
    "\n",
    "    def on_data(self, data):\n",
    "         \n",
    "        saveFile = io.open(filename, 'a', encoding='utf-8')\n",
    "        \n",
    "        if self.counter <= self.limit:\n",
    "            self.tweet_data.append(data)\n",
    "            self.counter+=1\n",
    "            return False\n",
    "        else:\n",
    "            return True\n",
    "        \n",
    "        saveFile = io.open(filename, 'w', encoding='utf-8')\n",
    "        saveFile.write(u'[\\n')\n",
    "        saveFile.write(','.join(self.tweet_data))\n",
    "        saveFile.write(u'\\n]')\n",
    "        saveFile.close()\n",
    "   \n",
    "    def on_error(self, status_code):\n",
    "        if status_code == 420:\n",
    "            return False\n",
    "        \n",
    "    def on_disconnect(self, notice):\n",
    "        print(\"disconnecting due to \" + str(notice))"
   ]
  },
  {
   "cell_type": "code",
   "execution_count": null,
   "metadata": {
    "collapsed": true
   },
   "outputs": [],
   "source": [
    "search_query = 'NBA'\n",
    "filename = os.path.join('assets','raw_tweets.json')\n",
    "myStreamListener = MyStreamListener(limit=5,\n",
    "                                    filename=filename,\n",
    "                                    search_terms=search_query)\n",
    "myStream = tweepy.Stream(auth, listener=myStreamListener)\n",
    "myStream.filter(track=[search_query])"
   ]
  }
 ],
 "metadata": {
  "kernelspec": {
   "display_name": "Python 3",
   "language": "python",
   "name": "python3"
  },
  "language_info": {
   "codemirror_mode": {
    "name": "ipython",
    "version": 3
   },
   "file_extension": ".py",
   "mimetype": "text/x-python",
   "name": "python",
   "nbconvert_exporter": "python",
   "pygments_lexer": "ipython3",
   "version": "3.6.0"
  }
 },
 "nbformat": 4,
 "nbformat_minor": 2
}
