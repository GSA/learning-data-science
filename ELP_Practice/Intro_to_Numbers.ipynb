{
 "cells": [
  {
   "cell_type": "markdown",
   "metadata": {},
   "source": [
    "# Intro to Numerics\n",
    "Python supports three numerical types:\n",
    "\n",
    " - [int](https://docs.python.org/3/library/functions.html#int) (signed integers)\n",
    "     - The **integers** are the set of real numbers consisting of the natural numbers, their additive inverses and zero:<br>{...,−5,−4,−3,−2,−1,0,1,2,3,4,5,...}.<br> The sum, product, and difference of any two integers is also an integer. But this is not true for division!\n",
    "     - The booleans True and False are a subclass of integers in python.\n",
    "\n",
    " - [float](https://docs.python.org/3/library/functions.html#float) (floating point real values)\n",
    "      - Floats are [formulaic representations](https://en.wikipedia.org/wiki/Floating-point_arithmetic) of real numbers that approximate a number with a decimal in it. Because computers cannot compute infinitely, floats make a trade-off between range and precision to represent decimal numbers.\n",
    "\n",
    " - [complex](https://docs.python.org/3/library/functions.html#complex) (complex numbers)\n",
    "      - Complex numbers are the set {a + bi | a and b are real numbers}, where i is the imaginary unit, $\\sqrt{-1}$. Read more [here](https://en.wikipedia.org/wiki/Imaginary_number).\n",
    "\n",
    "You create numbers in python with typing in numeric literals or as the result of built-in functions and operators.\n",
    "\n",
    "Python fully supports mixed arithmetic: when a binary arithmetic operator has operands of different numeric types, the operand with the “narrower” type is widened to that of the other, where integer is narrower than floating point, which is narrower than complex. Comparisons between numbers of mixed type use the same rule.\n",
    "\n",
    "Here are examples of each number type:\n",
    "<html>\n",
    "<head>\n",
    "<style>\n",
    "table {\n",
    "    font-family: arial, sans-serif;\n",
    "    border-collapse: collapse;\n",
    "    width: 100%;\n",
    "}\n",
    "\n",
    "td, th {\n",
    "    border: 1px solid #dddddd;\n",
    "    text-align: left;\n",
    "    padding: 8px;\n",
    "}\n",
    "\n",
    "tr:nth-child(even) {\n",
    "    background-color: #dddddd;\n",
    "}\n",
    "</style>\n",
    "</head>\n",
    "<body>\n",
    "\n",
    "<table>\n",
    "  <tr>\n",
    "    <th>int</th>\n",
    "    <th>float</th>\n",
    "    <th>complex</th>\n",
    "  </tr>\n",
    "  <tr>\n",
    "    <td>1</td>\n",
    "    <td>15.20</td>\n",
    "    <td>45.j</td>\n",
    "  </tr>\n",
    "  <tr>\n",
    "    <td>10000</td>\n",
    "    <td>0.0</td>\n",
    "    <td>3.14j</td>\n",
    "  </tr>\n",
    "  <tr>\n",
    "    <td>0x260</td>\n",
    "    <td>-32.54e100</td>\n",
    "    <td>3e+26J</td>\n",
    "  </tr>\n",
    "</table>\n",
    "\n",
    "</body>\n",
    "</html>"
   ]
  },
  {
   "cell_type": "markdown",
   "metadata": {},
   "source": [
    "## Table of Contents\n",
    " - [Constructing Numbers](#constructingNumbers)\n",
    "      - [Integer](#int)\n",
    "      - [Float](#float)\n",
    "      - [Complex](#complex)\n",
    " - [Arithmetic Operators](#arithmetic)\n",
    " - [Assignment Operators](#assignmentOperators)\n",
    " - [Comparison Operators](#comparisonOperators)\n",
    " - [Logical Operators](#logicalOperators)\n",
    " - [Bitwise Operators](#bitwiseOperators)\n",
    " - [Identity Operators](#identityOperators)\n",
    " - [More Calculations](#mathematicalCalculations)\n",
    " - [Random Number Functions](#random)\n",
    " - [Mathematical Constants](#constants)\n",
    " - [Excercises](#exercises)"
   ]
  },
  {
   "cell_type": "markdown",
   "metadata": {},
   "source": [
    "<a id='constructingNumbers'></a>\n",
    "## Constructing Numbers\n",
    "Python automatically decides a number's type, but you can also use the constructors int(), float(), and complex() to create numbers of that respective type."
   ]
  },
  {
   "cell_type": "markdown",
   "metadata": {},
   "source": [
    "<a id='int'></a>\n",
    "## Integer"
   ]
  },
  {
   "cell_type": "code",
   "execution_count": 2,
   "metadata": {
    "collapsed": true
   },
   "outputs": [],
   "source": [
    "# Store the integer 1 in a variable called anInteger\n",
    "anInteger = 1"
   ]
  },
  {
   "cell_type": "code",
   "execution_count": 3,
   "metadata": {
    "collapsed": false
   },
   "outputs": [
    {
     "data": {
      "text/plain": [
       "1"
      ]
     },
     "execution_count": 3,
     "metadata": {},
     "output_type": "execute_result"
    }
   ],
   "source": [
    "# Whenever you call this variable, it will return the integer you stored in it.\n",
    "anInteger"
   ]
  },
  {
   "cell_type": "code",
   "execution_count": 4,
   "metadata": {
    "collapsed": false
   },
   "outputs": [
    {
     "data": {
      "text/plain": [
       "1"
      ]
     },
     "execution_count": 4,
     "metadata": {},
     "output_type": "execute_result"
    }
   ],
   "source": [
    "# Overwrite the value in anInteger using the int() contstructor on 1.9\n",
    "anInteger = int(1.9)\n",
    "anInteger"
   ]
  },
  {
   "cell_type": "markdown",
   "metadata": {},
   "source": [
    "Note how the .9 was dropped when converting 1.9 to an integer."
   ]
  },
  {
   "cell_type": "markdown",
   "metadata": {},
   "source": [
    "The int() constructor has an optional argument that allows you to specify the base you are converting from. A handy feature of Jupyter Notebooks is that you can see quickly read the python documentation for something like the int() constructor by clicking anywhere within the parentheses and then typing Shift + Tab once to open a preview of the documention or twice to open the window."
   ]
  },
  {
   "cell_type": "code",
   "execution_count": 5,
   "metadata": {
    "collapsed": false
   },
   "outputs": [
    {
     "data": {
      "text/plain": [
       "255"
      ]
     },
     "execution_count": 5,
     "metadata": {},
     "output_type": "execute_result"
    }
   ],
   "source": [
    "int('11111111', 2) #convert a binary number to a base-10 number"
   ]
  },
  {
   "cell_type": "markdown",
   "metadata": {},
   "source": [
    "### Booleans\n",
    "The booleans True and False are a subclass of the integer type. You can declare these by just typing True or False:"
   ]
  },
  {
   "cell_type": "code",
   "execution_count": 52,
   "metadata": {
    "collapsed": false
   },
   "outputs": [
    {
     "data": {
      "text/plain": [
       "True"
      ]
     },
     "execution_count": 52,
     "metadata": {},
     "output_type": "execute_result"
    }
   ],
   "source": [
    "True #True returns True"
   ]
  },
  {
   "cell_type": "markdown",
   "metadata": {},
   "source": [
    "Behind the scense, True contains an int value of 1. False contains an int value of 0:"
   ]
  },
  {
   "cell_type": "code",
   "execution_count": 7,
   "metadata": {
    "collapsed": false
   },
   "outputs": [
    {
     "data": {
      "text/plain": [
       "1"
      ]
     },
     "execution_count": 7,
     "metadata": {},
     "output_type": "execute_result"
    }
   ],
   "source": [
    "int(True)"
   ]
  },
  {
   "cell_type": "code",
   "execution_count": 8,
   "metadata": {
    "collapsed": false
   },
   "outputs": [
    {
     "data": {
      "text/plain": [
       "0"
      ]
     },
     "execution_count": 8,
     "metadata": {},
     "output_type": "execute_result"
    }
   ],
   "source": [
    "int(False)"
   ]
  },
  {
   "cell_type": "markdown",
   "metadata": {},
   "source": [
    "So it seems like True  equals 1 and False equals 0. But look what happens when we use the *is* operator."
   ]
  },
  {
   "cell_type": "code",
   "execution_count": 9,
   "metadata": {
    "collapsed": false
   },
   "outputs": [
    {
     "data": {
      "text/plain": [
       "False"
      ]
     },
     "execution_count": 9,
     "metadata": {},
     "output_type": "execute_result"
    }
   ],
   "source": [
    "0 is False"
   ]
  },
  {
   "cell_type": "code",
   "execution_count": 10,
   "metadata": {
    "collapsed": false
   },
   "outputs": [
    {
     "data": {
      "text/plain": [
       "False"
      ]
     },
     "execution_count": 10,
     "metadata": {},
     "output_type": "execute_result"
    }
   ],
   "source": [
    "1 is True"
   ]
  },
  {
   "cell_type": "markdown",
   "metadata": {},
   "source": [
    "The *is* operator tests if two variables point the same object, not if two variables have the same value. This quirk speaks to the object-oriented nature of python."
   ]
  },
  {
   "cell_type": "markdown",
   "metadata": {},
   "source": [
    "We'll do more with booleans in the Logical Operators section."
   ]
  },
  {
   "cell_type": "markdown",
   "metadata": {},
   "source": [
    "<a id='float'></a>\n",
    "## Float"
   ]
  },
  {
   "cell_type": "code",
   "execution_count": 12,
   "metadata": {
    "collapsed": true
   },
   "outputs": [],
   "source": [
    "# each of the following assigns a float value to an object\n",
    "aFloat = 1.0\n",
    "anotherFloat = float(1)\n",
    "yetAnotherFloat = float(int(1))"
   ]
  },
  {
   "cell_type": "markdown",
   "metadata": {},
   "source": [
    "Check the types of each object above using the built-in type() function:"
   ]
  },
  {
   "cell_type": "code",
   "execution_count": null,
   "metadata": {
    "collapsed": true
   },
   "outputs": [],
   "source": [
    "type()"
   ]
  },
  {
   "cell_type": "code",
   "execution_count": null,
   "metadata": {
    "collapsed": true
   },
   "outputs": [],
   "source": [
    "type()"
   ]
  },
  {
   "cell_type": "code",
   "execution_count": null,
   "metadata": {
    "collapsed": true
   },
   "outputs": [],
   "source": [
    "type()"
   ]
  },
  {
   "cell_type": "markdown",
   "metadata": {},
   "source": [
    "Floating point arithmetic is often imprecise because computers represent floats as binary (base 2) fractions. This [reference](https://docs.python.org/3/tutorial/floatingpoint.html) discusses the issues and limitations of floating point numbers and the [decimal module](https://docs.python.org/3/library/decimal.html) provides support handling these issues."
   ]
  },
  {
   "cell_type": "markdown",
   "metadata": {},
   "source": [
    "<a id='complex'></a>\n",
    "## Complex\n",
    "Complex numbers in python are created by putting a 'j’ or ‘J’ after a number instead of the *i* that mathematicians use."
   ]
  },
  {
   "cell_type": "code",
   "execution_count": 28,
   "metadata": {
    "collapsed": false
   },
   "outputs": [
    {
     "data": {
      "text/plain": [
       "complex"
      ]
     },
     "execution_count": 28,
     "metadata": {},
     "output_type": "execute_result"
    }
   ],
   "source": [
    "type(1j)"
   ]
  },
  {
   "cell_type": "code",
   "execution_count": 29,
   "metadata": {
    "collapsed": false
   },
   "outputs": [
    {
     "data": {
      "text/plain": [
       "(-1+0j)"
      ]
     },
     "execution_count": 29,
     "metadata": {},
     "output_type": "execute_result"
    }
   ],
   "source": [
    "1j * 1j"
   ]
  },
  {
   "cell_type": "code",
   "execution_count": 31,
   "metadata": {
    "collapsed": false
   },
   "outputs": [
    {
     "data": {
      "text/plain": [
       "(1+100j)"
      ]
     },
     "execution_count": 31,
     "metadata": {},
     "output_type": "execute_result"
    }
   ],
   "source": [
    "complex(1,100)"
   ]
  },
  {
   "cell_type": "markdown",
   "metadata": {},
   "source": [
    "Complex numbers also have some built-in methods:"
   ]
  },
  {
   "cell_type": "code",
   "execution_count": 37,
   "metadata": {
    "collapsed": false
   },
   "outputs": [
    {
     "data": {
      "text/plain": [
       "1.0"
      ]
     },
     "execution_count": 37,
     "metadata": {},
     "output_type": "execute_result"
    }
   ],
   "source": [
    "z = 1+2j\n",
    "z.real"
   ]
  },
  {
   "cell_type": "code",
   "execution_count": 38,
   "metadata": {
    "collapsed": false
   },
   "outputs": [
    {
     "data": {
      "text/plain": [
       "2.0"
      ]
     },
     "execution_count": 38,
     "metadata": {},
     "output_type": "execute_result"
    }
   ],
   "source": [
    "z.imag"
   ]
  },
  {
   "cell_type": "code",
   "execution_count": 39,
   "metadata": {
    "collapsed": false
   },
   "outputs": [
    {
     "data": {
      "text/plain": [
       "(1-2j)"
      ]
     },
     "execution_count": 39,
     "metadata": {},
     "output_type": "execute_result"
    }
   ],
   "source": [
    "z.conjugate()"
   ]
  },
  {
   "cell_type": "markdown",
   "metadata": {},
   "source": [
    "Math with complex numbers can be a different than math with real numbers. The [cmath module](https://docs.python.org/3/library/cmath.html) has a lot of functions for working with complex numbers."
   ]
  },
  {
   "cell_type": "markdown",
   "metadata": {},
   "source": [
    "<a id='arithmetic'></a>\n",
    "## Arithmetic Operators\n",
    "\n",
    "<table class=\"table table-bordered\">\n",
    "<tr>\n",
    "<th style=\"text-align:center; width:21%\">Operator</th>\n",
    "<th style=\"text-align:center; width:45%\">Description</th>\n",
    "</tr>\n",
    "<tr>\n",
    "<td style=\"text-align:center; vertical-align:middle;\">&plus; Addition</td>\n",
    "<td>Adds values on either side of the operator.</td>\n",
    "</tr>\n",
    "<tr>\n",
    "<td style=\"text-align:center; vertical-align:middle;\">- Subtraction</td>\n",
    "<td>Subtracts right hand operand from left hand operand.</td>\n",
    "</tr>\n",
    "<tr>\n",
    "<td style=\"text-align:center; vertical-align:middle;\">`*` Multiplication</td>\n",
    "<td>Multiplies values on either side of the operator</td>\n",
    "</tr>\n",
    "<tr>\n",
    "<td style=\"text-align:center; vertical-align:middle;\">/ Division</td>\n",
    "<td>Divides left hand operand by right hand operand</td>\n",
    "</tr>\n",
    "<tr>\n",
    "<td style=\"text-align:center; vertical-align:middle;\">% Modulus</td>\n",
    "<td>Divides left hand operand by right hand operand and returns remainder</td>\n",
    "</tr>\n",
    "<tr>\n",
    "<td style=\"text-align:center; vertical-align:middle;\">`**` Exponent</td>\n",
    "<td>Performs exponential (power) calculation on operators</td>\n",
    "</tr>\n",
    "<tr>\n",
    "<td style=\"text-align:center; vertical-align:middle;\">//</td>\n",
    "<td>Floor Division - The division of operands where the result is the quotient in which the digits after the decimal point are removed. But if one of the operands is negative, the result is floored, i.e., rounded away from zero (towards negative infinity):</td>\n",
    "</tr>\n",
    "</table>"
   ]
  },
  {
   "cell_type": "code",
   "execution_count": 14,
   "metadata": {
    "collapsed": true
   },
   "outputs": [],
   "source": [
    "a, b = 2, 4 # you can store multiple values in multiple variables with a comma"
   ]
  },
  {
   "cell_type": "code",
   "execution_count": 15,
   "metadata": {
    "collapsed": false
   },
   "outputs": [],
   "source": [
    "#add a and b\n"
   ]
  },
  {
   "cell_type": "code",
   "execution_count": 16,
   "metadata": {
    "collapsed": false
   },
   "outputs": [],
   "source": [
    "#subtract b from a\n"
   ]
  },
  {
   "cell_type": "code",
   "execution_count": 17,
   "metadata": {
    "collapsed": true
   },
   "outputs": [],
   "source": [
    "# raise b to the a power\n"
   ]
  },
  {
   "cell_type": "markdown",
   "metadata": {},
   "source": [
    "These operators can be strung together, following the order of operations, so that we can calculate $\\frac{a^{b}}{a+b}$ like this:"
   ]
  },
  {
   "cell_type": "code",
   "execution_count": 18,
   "metadata": {
    "collapsed": false
   },
   "outputs": [
    {
     "data": {
      "text/plain": [
       "12.0"
      ]
     },
     "execution_count": 18,
     "metadata": {},
     "output_type": "execute_result"
    }
   ],
   "source": [
    "a**b / a + b"
   ]
  },
  {
   "cell_type": "markdown",
   "metadata": {},
   "source": [
    "*Note how the result of that equation is a float although the inputs were int*"
   ]
  },
  {
   "cell_type": "markdown",
   "metadata": {},
   "source": [
    "If we wanted to be able to replicate that calculation whenever we wanted without typing out all of those opearators again and again, we could write a **function** that contains those operations.\n",
    "\n",
    "**Functions**, along with classes, are the building blocks of any python program."
   ]
  },
  {
   "cell_type": "code",
   "execution_count": 22,
   "metadata": {
    "collapsed": true
   },
   "outputs": [],
   "source": [
    "def our_formula(a,b):\n",
    "    \"\"\"return a**b / a + b\n",
    "    \n",
    "    parameters: a, b (numeric type)\"\"\"\n",
    "    \n",
    "    return a**b / a + b"
   ]
  },
  {
   "cell_type": "markdown",
   "metadata": {},
   "source": [
    "<p>Before we *call* this function, let's outline the function-creation process:</p>\n",
    "<ol>\n",
    "  <li>Declare the function using the keyword **def** followed by the function name.</li>\n",
    "  <t> - Function names should be lowercase, with words separated by underscores as necessary to improve readability.</t>\n",
    "  <li>Write the argument(s) inside the opening and closing parentheses of the function, and end the declaration with a colon. The argument names ('a' and 'b' in our case) are completely arbitary, but it's good practice to name them something meaningful because you'll reference them throughout the body of the function.</li>\n",
    "  <li>Write a docstring using triple quotes (not mandatory, but helpful and good practice)</li>\n",
    "  <li>Write program statements.</li>\n",
    "  <li>End the function with/without a *return* statement (there are other statements that will exit the function as well).</li>\n",
    "</ol>"
   ]
  },
  {
   "cell_type": "markdown",
   "metadata": {},
   "source": [
    "And then we can call the function by passing some integers into it:"
   ]
  },
  {
   "cell_type": "code",
   "execution_count": 23,
   "metadata": {
    "collapsed": false
   },
   "outputs": [
    {
     "data": {
      "text/plain": [
       "12.0"
      ]
     },
     "execution_count": 23,
     "metadata": {},
     "output_type": "execute_result"
    }
   ],
   "source": [
    "our_formula(2,4)"
   ]
  },
  {
   "cell_type": "markdown",
   "metadata": {},
   "source": [
    "### Exercise 1\n",
    "Now it's your turn to write a function that calculates the how many diagonals are in a polygon of *n* sides.\n",
    "The **diagonal** of a polygon is a line segment linking two non-adjacent vertices:"
   ]
  },
  {
   "cell_type": "markdown",
   "metadata": {},
   "source": [
    "<img src=\"http://www.mathopenref.com/images/polygons/diagsillusion.gif\" >"
   ]
  },
  {
   "cell_type": "markdown",
   "metadata": {},
   "source": [
    "This means there are three less diagonals than there are vertices. Algebraically: $$\\frac{n(n-3)}{2}$$\n",
    "\n",
    "Write a function called diagonal_count that accepts an integer for the numer of sides to a polygon and returns the the number of diagonals:"
   ]
  },
  {
   "cell_type": "code",
   "execution_count": null,
   "metadata": {
    "collapsed": true
   },
   "outputs": [],
   "source": [
    "#write your function here:\n"
   ]
  },
  {
   "cell_type": "markdown",
   "metadata": {},
   "source": [
    "### Exercise 2\n",
    "The Pythagorean Theorem states that the square of the hypotenuse of a right triangle is equal to the sum of the squares of the other two sides. The theorem can be written as an equation relating the lengths of the sides a, b and c, where c represents the length of the hypotenuse and a and b the lengths of the triangle's other two sides:$$a^2+b^2=c^2$$\n",
    "\n",
    "Write a function called get_hypo that accepts a and b as parameters and returns c, the hypotenuse:"
   ]
  },
  {
   "cell_type": "code",
   "execution_count": null,
   "metadata": {
    "collapsed": true
   },
   "outputs": [],
   "source": [
    "#write your function here:\n"
   ]
  },
  {
   "cell_type": "markdown",
   "metadata": {},
   "source": [
    "### Exercise 3\n",
    "Normal arithmetic isn't used for recording the time of the day (unless you're in the military). Four hours after 10 o'clock isn't 14 o'clock but 2 o'clock. Arithmetic in our system of time works like this:$$10 + 4 = 2$$\n",
    "Similarly, 4 hours before 3 o'clock is 11 o'clock:$$3 - 4 = 11$$\n",
    "\n",
    "The idea inherent to this system is that numbers are equal if they differ by twelve or a multiple of twelve. Thus:$$27 = 3$$ because $$27 - 3 = 12 * 12$$"
   ]
  },
  {
   "cell_type": "markdown",
   "metadata": {},
   "source": [
    "Another way of writing the above is $27 \\equiv 3, modulo 12$ (*$\\equiv$ signifies congruence rather than equality*).\n",
    "<br>Let's test the above using the modulus operator: %"
   ]
  },
  {
   "cell_type": "code",
   "execution_count": 24,
   "metadata": {
    "collapsed": false
   },
   "outputs": [
    {
     "data": {
      "text/plain": [
       "3"
      ]
     },
     "execution_count": 24,
     "metadata": {},
     "output_type": "execute_result"
    }
   ],
   "source": [
    "27 % 12"
   ]
  },
  {
   "cell_type": "markdown",
   "metadata": {},
   "source": [
    "Thus modulo 12 can convert any number of hours to the correct clock hour.\n",
    "\n",
    "Write a function called *get_hour* that accepts two integers as parameters - the first, parameter *a*, being an integer number of hours after midnight and the second, parameter *b*, being an integer number of hours that will pass - and returns the clock hour *b* hours after *a* o'clock:"
   ]
  },
  {
   "cell_type": "code",
   "execution_count": 26,
   "metadata": {
    "collapsed": true
   },
   "outputs": [],
   "source": [
    "#write your function here"
   ]
  },
  {
   "cell_type": "code",
   "execution_count": null,
   "metadata": {
    "collapsed": false
   },
   "outputs": [],
   "source": []
  },
  {
   "cell_type": "markdown",
   "metadata": {},
   "source": [
    "<a id='assignmentOperators'></a>\n",
    "## Assignment Operators\n",
    "<p>These operators perform the arithmetic operators above and then assign the result to the left operand.</p>\n",
    "<table class=\"table table-bordered\">\n",
    "<tr>\n",
    "<th style=\"text-align:center; width:21%\">Operator</th>\n",
    "<th style=\"text-align:center; width:45%\">Description</th>\n",
    "<th style=\"text-align:center;\">Example</th>\n",
    "</tr>\n",
    "<tr>\n",
    "<td style=\"text-align:center; vertical-align:middle;\">=</td>\n",
    "<td>Assigns the value of the right operand to the left operand</td>\n",
    "<td style=\"text-align:center; vertical-align:middle;\">c = a &plus; b (assigns value of a &plus; b into c)</td>\n",
    "</tr>\n",
    "<tr>\n",
    "<td style=\"text-align:center; vertical-align:middle;\">&plus;=</td>\n",
    "<td>Assigns the sum of the right and left operands to the left operand</td>\n",
    "<td style=\"text-align:center; vertical-align:middle;\">c &plus;= a is equivalent to c = c &plus; a</td>\n",
    "</tr>\n",
    "<tr>\n",
    "<td style=\"text-align:center; vertical-align:middle;\">-=</td>\n",
    "<td>Assigns the difference of the right and left operands to the left operand</td>\n",
    "<td style=\"text-align:center; vertical-align:middle;\">c -= a is equivalent to c = c - a</td>\n",
    "</tr>\n",
    "<tr>\n",
    "<td style=\"text-align:center; vertical-align:middle;\">*=</td>\n",
    "<td>Assigns the product of the right and left operands to the left operand</td>\n",
    "<td style=\"text-align:center; vertical-align:middle;\">c *= a is equivalent to c = c * a</td>\n",
    "</tr>\n",
    "<tr>\n",
    "<td style=\"text-align:center; vertical-align:middle;\">/=</td>\n",
    "<td>Assigns the quotient of the right and left operands to the left operand</td>\n",
    "<td style=\"text-align:center; vertical-align:middle;\">c /= a is equivalent to c = c / ac /= a is equivalent to c = c / a</td>\n",
    "</tr>\n",
    "<tr>\n",
    "<td style=\"text-align:center; vertical-align:middle;\">%=</td>\n",
    "<td>Assigns the modulus of the right and left operands to the left operand</td>\n",
    "<td style=\"text-align:center; vertical-align:middle;\">c %= a is equivalent to c = c % a</td>\n",
    "</tr>\n",
    "<tr>\n",
    "<td style=\"text-align:center; vertical-align:middle;\">**=</td>\n",
    "<td>Assigns the exponentiation of the left operand by the right operand to the left operand</td>\n",
    "<td style=\"text-align:center; vertical-align:middle;\">c **= a is equivalent to c = c ** a</td>\n",
    "</tr>\n",
    "<tr>\n",
    "<td style=\"text-align:center; vertical-align:middle;\">//=</td>\n",
    "<td>Assigns floor division quotient to the left operand</td>\n",
    "<td style=\"text-align:center; vertical-align:middle;\">c //= a is equivalent to c = c // a</td>\n",
    "</tr>\n",
    "</table>"
   ]
  },
  {
   "cell_type": "markdown",
   "metadata": {},
   "source": [
    "The += (read:  add and) operator is very useful. For example, you can use it to create a counter inside of a while loop that you can then use to exit the while loop:"
   ]
  },
  {
   "cell_type": "code",
   "execution_count": 81,
   "metadata": {
    "collapsed": false
   },
   "outputs": [
    {
     "name": "stdout",
     "output_type": "stream",
     "text": [
      "1\n",
      "2\n",
      "3\n",
      "4\n",
      "5\n",
      "6\n",
      "7\n",
      "8\n",
      "9\n",
      "10\n"
     ]
    }
   ],
   "source": [
    "i = 0\n",
    "while i < 10:\n",
    "    i+=1\n",
    "    print(i)"
   ]
  },
  {
   "cell_type": "markdown",
   "metadata": {},
   "source": [
    "<a id='comparisonOperators'></a>\n",
    "## Comparison Operators\n",
    "<p>These operators compare the values on either side of them and return a boolean.</p>\n",
    "<p>Assume $a=1$ and $b=2$</p>\n",
    "<table class=\"table table-bordered\">\n",
    "<tr>\n",
    "<th style=\"text-align:center; width:21%\">Operator</th><th style=\"text-align:center; width:45%\">Description</th><th style=\"text-align:center;\">Example</th>\n",
    "</tr>\n",
    "<tr>\n",
    "<td style=\"text-align:center; vertical-align:middle;\">==</td>\n",
    "<td>Equal to.</td>\n",
    "<td style=\"text-align:center; vertical-align:middle;\">(a == b) is not true.</td>\n",
    "</tr>\n",
    "<tr>\n",
    "<td style=\"text-align:center; vertical-align:middle;\">!=</td>\n",
    "<td>Not equal to</td>\n",
    "<td style=\"text-align:center; vertical-align:middle;\">(a!= b) is true. </td>\n",
    "</tr>\n",
    "<tr>\n",
    "<td style=\"text-align:center; vertical-align:middle;\">&gt;</td>\n",
    "<td>Greater than</td>\n",
    "<td style=\"text-align:center; vertical-align:middle;\">(a &gt; b) is not true.</td>\n",
    "</tr>\n",
    "<tr>\n",
    "<td style=\"text-align:center; vertical-align:middle;\">&lt;</td>\n",
    "<td>Less than</td>\n",
    "<td style=\"text-align:center; vertical-align:middle;\">(a &lt; b) is true.</td>\n",
    "</tr>\n",
    "<tr>\n",
    "<td style=\"text-align:center; vertical-align:middle;\">&gt;=</td>\n",
    "<td>Greater than or equal to.</td>\n",
    "<td style=\"text-align:center; vertical-align:middle;\">(a &gt;= b) is not true. </td>\n",
    "</tr>\n",
    "<tr>\n",
    "<td style=\"text-align:center; vertical-align:middle;\">&lt;=</td>\n",
    "<td>Less than or equal to.</td>\n",
    "<td style=\"text-align:center; vertical-align:middle;\">(a &lt;= b) is true. </td>\n",
    "</tr>\n",
    "</table>\n"
   ]
  },
  {
   "cell_type": "markdown",
   "metadata": {},
   "source": [
    "Comparison operators play a large role in writing functions with *if statements*. If statements are a way to tell a function to do something based on the data you're feeding it. To see an example, look at the following function:"
   ]
  },
  {
   "cell_type": "code",
   "execution_count": 55,
   "metadata": {
    "collapsed": true
   },
   "outputs": [],
   "source": [
    "def positive_test(n):\n",
    "    \"\"\"Return a print statement indicating whether an integer is positive or negative.\n",
    "    \n",
    "    paramter: n, an integer or float number\"\"\"\n",
    "    if n > 0:\n",
    "        print('%s is a positive number.' % n)\n",
    "    elif n < 0:\n",
    "        print('%s is a negative number.' % n)\n",
    "    else:\n",
    "        return"
   ]
  },
  {
   "cell_type": "markdown",
   "metadata": {},
   "source": [
    "### Exercise 1\n",
    "The function above accepts *n* as a parameter, assuming that *n* is an integer or float. The first if statement evaluates the boolean test: $n > 0$. If that's True, the print() statement indented below executes. If that first if statement if False, then the next if statement is evaluated. Subsequent if statements use the *elif* keyword, which stands for *else if*. Finally there's the *else* keyword, which is reached if all of the previous conditions evaluated to False. \n",
    "\n",
    "What number would cause this function to execute the return statement in the else clause? Try calling the function on that integer below:"
   ]
  },
  {
   "cell_type": "code",
   "execution_count": null,
   "metadata": {
    "collapsed": false
   },
   "outputs": [],
   "source": []
  },
  {
   "cell_type": "markdown",
   "metadata": {},
   "source": [
    "Rewrite the funtion to handle this case:"
   ]
  },
  {
   "cell_type": "code",
   "execution_count": null,
   "metadata": {
    "collapsed": true
   },
   "outputs": [],
   "source": [
    "#write your function here:\n"
   ]
  },
  {
   "cell_type": "code",
   "execution_count": null,
   "metadata": {
    "collapsed": true
   },
   "outputs": [],
   "source": [
    "# test your rewritten function below:\n"
   ]
  },
  {
   "cell_type": "markdown",
   "metadata": {},
   "source": [
    "### Exercise 2\n",
    "As we saw, the modulus operator (%) returns the remainder of divison. Write a function called odd_test that accepts an integer as a parameter and returns a boolean for whether or not that integer is odd:"
   ]
  },
  {
   "cell_type": "code",
   "execution_count": null,
   "metadata": {
    "collapsed": true
   },
   "outputs": [],
   "source": []
  },
  {
   "cell_type": "markdown",
   "metadata": {},
   "source": [
    "<a id='logicalOperators'></a>\n",
    "## Logical Operators\n",
    "Assume $a=True, b=False$:\n",
    "<table class=\"table table-bordered\">\n",
    "<tr>\n",
    "<th style=\"text-align:center; width:21%\">Operator</th><th style=\"text-align:center; width:45%\">Description</th><th style=\"text-align:center;\">Example</th>\n",
    "</tr>\n",
    "<tr>\n",
    "<td style=\"text-align:center; vertical-align:middle;\">AND</td>\n",
    "<td>If both the operands are true, then condition is true.</td>\n",
    "<td style=\"text-align:center; vertical-align:middle;\">a AND b = False</td>\n",
    "</tr>\n",
    "<tr>\n",
    "<td style=\"text-align:center; vertical-align:middle;\">OR</td>\n",
    "<td>If either of the operands are True (or nonzero), then the condition is True</td>\n",
    "<td style=\"text-align:center; vertical-align:middle;\"> a OR b = True</td>\n",
    "</tr>\n",
    "<tr>\n",
    "<td style=\"text-align:center; vertical-align:middle;\">NOT</td>\n",
    "<td>Used with the above, it will return the opposite</td>\n",
    "<td style=\"text-align:center; vertical-align:middle;\">NOT(a AND b) = True. </td>\n",
    "</tr>\n",
    "</table>"
   ]
  },
  {
   "cell_type": "markdown",
   "metadata": {
    "collapsed": true
   },
   "source": [
    "### Exercise\n",
    "Write a function that returns True if an integer is both positive and even.\n"
   ]
  },
  {
   "cell_type": "code",
   "execution_count": null,
   "metadata": {
    "collapsed": true
   },
   "outputs": [],
   "source": [
    "#write your function here:\n"
   ]
  },
  {
   "cell_type": "markdown",
   "metadata": {},
   "source": [
    "<a id='bitwiseOperators'></a>\n",
    "## Bitwise Operators\n",
    "<p>Bitwise operators perform bit-by-bit operations on multi-bit values</p>\n",
    "<p>Here are the Bitwise Operators:</p>\n",
    "<table class=\"table table-bordered\">\n",
    "<tr>\n",
    "<th style=\"text-align:center; width:21%\">Operator</th>\n",
    "<th style=\"text-align:center; width:45%\">Description</th>\n",
    "</tr>\n",
    "<tr>\n",
    "<td style=\"text-align:center; vertical-align:middle;\">&amp; Binary AND</td>\n",
    "<td>Returns bits from the left operand if they exist in the same position in the right operand.</td>\n",
    "</tr>\n",
    "<tr>\n",
    "<td style=\"text-align:center; vertical-align:middle;\">| Binary OR</td>\n",
    "<td>Returns bits from the left operand if they exist in th</td>\n",
    "</tr>\n",
    "<tr>\n",
    "<td style=\"text-align:center; vertical-align:middle;\">^ Binary XOR</td>\n",
    "<td>It copies the bit, if it is set in one operand but not both.</td>\n",
    "</tr>\n",
    "<tr>\n",
    "<td style=\"text-align:center; vertical-align:middle;\">~ Binary Ones Complement</td>\n",
    "<td>It is unary and has the effect of 'flipping' bits.</td>\n",
    "</tr>\n",
    "<tr>\n",
    "<td style=\"text-align:center; vertical-align:middle;\">&lt;&lt; Binary Left Shift</td>\n",
    "<td>The left operand's value is moved left by the number of bits specified by the right operand.</td>\n",
    "</tr>\n",
    "<tr>\n",
    "<td style=\"text-align:center; vertical-align:middle;\">&gt;&gt; Binary Right Shift</td>\n",
    "<td>The left operand's value is moved right by the number of bits specified by the right operand.</td>\n",
    "</tr>\n",
    "</table>\n",
    "<p>Python's built-in function bin() can be used to obtain binary representation of an integer number. </p>"
   ]
  },
  {
   "cell_type": "code",
   "execution_count": 32,
   "metadata": {
    "collapsed": false
   },
   "outputs": [
    {
     "name": "stdout",
     "output_type": "stream",
     "text": [
      "a= 4 : 0b100 b= 5 : 0b101\n",
      "result of AND is  4 : 0b100\n",
      "result of OR is  5 : 0b101\n",
      "result of EXOR is  1 : 0b1\n",
      "result of COMPLEMENT is  -5 : -0b101\n",
      "result of LEFT SHIFT is  16 : 0b10000\n",
      "result of RIGHT SHIFT is  1 : 0b1\n"
     ]
    }
   ],
   "source": [
    "a = 4            # 4 = 100\n",
    "b = 5            # 5 = 101\n",
    "print ('a=',a,':',bin(a),'b=',b,':',bin(b))\n",
    "c = 0\n",
    "\n",
    "c = a & b;        \n",
    "print (\"result of AND is \", c,':',bin(c))\n",
    "\n",
    "c = a | b;        \n",
    "print (\"result of OR is \", c,':',bin(c))\n",
    "\n",
    "c = a ^ b;        \n",
    "print (\"result of EXOR is \", c,':',bin(c))\n",
    "\n",
    "c = ~a;           \n",
    "print (\"result of COMPLEMENT is \", c,':',bin(c))\n",
    "\n",
    "c = a << 2;       \n",
    "print (\"result of LEFT SHIFT is \", c,':',bin(c))\n",
    "\n",
    "c = a >> 2;       \n",
    "print (\"result of RIGHT SHIFT is \", c,':',bin(c))"
   ]
  },
  {
   "cell_type": "markdown",
   "metadata": {},
   "source": [
    "Why on earth would you want to use bitwise operators? One application is to parse [hexadecimal colors] (http://htmlcolorcodes.com/). There are a lot of colors out there, so computers often use hexadecimal counting (base 16) to represent all of these colors. Within this hexadecimal digit is the red, green and blueness of the color. The function below will get the red, green and blueness of a hexadecimal color:"
   ]
  },
  {
   "cell_type": "code",
   "execution_count": 36,
   "metadata": {
    "collapsed": true
   },
   "outputs": [],
   "source": [
    "def hex_to_rgb(value):\n",
    "    # Convert the hex string to a hexadecimal number\n",
    "    num = (int(value.lstrip(\"#\"), 16))\n",
    "\n",
    "    # Shift 16 bits to the right, and then binary AND to obtain 8 bits representing red\n",
    "    r = ((num >> 16) & 0xFF) # the 0xFF will mask(make zero) all but the lowest 8 bits\n",
    "\n",
    "    # Shift 8 bits to the right, and then binary AND to obtain 8 bits representing green\n",
    "    g = ((num >> 8) & 0xFF)\n",
    "\n",
    "    # Simply binary AND to obtain 8 bits representing blue\n",
    "    b = (num & 0xFF)\n",
    "    return (r, g, b)"
   ]
  },
  {
   "cell_type": "code",
   "execution_count": 37,
   "metadata": {
    "collapsed": false
   },
   "outputs": [
    {
     "data": {
      "text/plain": [
       "(41, 142, 57)"
      ]
     },
     "execution_count": 37,
     "metadata": {},
     "output_type": "execute_result"
    }
   ],
   "source": [
    "hexToRgb('298E39')"
   ]
  },
  {
   "cell_type": "markdown",
   "metadata": {},
   "source": [
    "<a id='identityOperators'></a>\n",
    "## Identity Operators\n",
    "<p>Identity operators compare the memory locations of two objects.</p>\n",
    "<table class=\"table table-bordered\">\n",
    "<tr>\n",
    "<th style=\"text-align:center; width:21%\">Operator</th><th style=\"text-align:center; width:45%\">Description</th><th style=\"text-align:center;\">Example</th>\n",
    "</tr>\n",
    "<tr>\n",
    "<td style=\"text-align:center; vertical-align:middle;\">is</td><td>Evaluates to true if the variables on either side of the operator point to the same object and false otherwise.</td><td style=\"text-align:center; vertical-align:middle;\"> x is y, here <b>is</b> results in 1 if id(x) equals id(y).</td>\n",
    "</tr>\n",
    "<tr>\n",
    "<td style=\"text-align:center; vertical-align:middle;\">is not</td><td>Evaluates to false if the variables on either side of the operator point to the same object and true otherwise.</td><td style=\"text-align:center; vertical-align:middle;\"> x is not y, here <b>is not</b> results in 1 if id(x) is not equal to id(y).</td>\n",
    "</tr>\n",
    "</table>\n"
   ]
  },
  {
   "cell_type": "markdown",
   "metadata": {},
   "source": [
    "<a id='moreCalculations'></a>\n",
    "## More Calculations\n",
    "<p>Here's a sampling of functions that perform common mathematical calculations. The functions that start with \"math.\" are from the math module, which you'd need to import.</p>\n",
    "<table class=\"table table-bordered\">\n",
    "<tr>\n",
    "<th style=\"width:25%;\">Function</th><th>Returns ( description )</th></tr>\n",
    "<tr><td><p><a href=\"https://docs.python.org/3/library/functions.html#abs\">abs(x)</a></p></td>\n",
    "<td>The absolute value of x: the (positive) distance between x and zero.</td></tr>\n",
    "<tr><td><p><a href=\"https://docs.python.org/3/library/math.html#math.ceil\">math.ceil(x) </a></p></td>\n",
    "<td>The ceiling of x: the smallest integer not less than x</td></tr>\n",
    "<tr><td><p><a href=\"https://docs.python.org/2/library/math.html#power-and-logarithmic-functions\">math.exp(x) </a></p></td><td>The exponential of x: e<sup>x</sup> </td></tr>\n",
    "<tr><td><p><a href=\"https://docs.python.org/3/library/functions.html#abs\">abs(x)</a></p></td><td>The absolute value of x.</td></tr>\n",
    "<tr><td><p><a href=\"https://docs.python.org/3/library/math.html#math.floor\">math.floor(x) </a></p></td><td>The floor of x: the largest integer not greater than x</td></tr>\n",
    "<tr><td><p><a href=\"https://docs.python.org/2/library/math.html#power-and-logarithmic-functions\">math.log(x) </a></p></td><td>The natural logarithm of x, for x&gt; 0 </td></tr>\n",
    "<tr><td><p><a href=\"https://docs.python.org/2/library/math.html#power-and-logarithmic-functions\">math.log10(x) </a></p></td><td>The base-10 logarithm of x for x&gt; 0 .</td></tr>\n",
    "<tr><td><p><a href=\"https://docs.python.org/2/library/math.html#power-and-logarithmic-functions\">math.modf(x) </a></p></td>\n",
    "<td>The fractional and integer parts of x in a two-item tuple. Both parts have the same sign as x. The integer part is returned as a float.</td></tr>\n",
    "<tr><td><p><a href=\"https://docs.python.org/3/library/functions.html#pow\">pow(x, y)</a></p></td><td>The value of x**y.</td></tr>\n",
    "<tr><td><p><a href=\"https://docs.python.org/3/library/functions.html#round\">round(x [,n])</a></p></td><td>x rounded to n digits from the decimal point. Python rounds away from zero as a tie-breaker: round(0.5) is 1.0 and round(-0.5) is -1.0.</td></tr>\n",
    "<tr><td><p><a href=\"https://docs.python.org/2/library/math.html#power-and-logarithmic-functions\">math.sqrt(x) </a></p></td><td>The square root of x for x &gt; 0</td></tr>\n",
    "</table>"
   ]
  },
  {
   "cell_type": "code",
   "execution_count": 51,
   "metadata": {
    "collapsed": true
   },
   "outputs": [],
   "source": [
    "# this is how you import the math module\n",
    "import math"
   ]
  },
  {
   "cell_type": "code",
   "execution_count": null,
   "metadata": {
    "collapsed": true
   },
   "outputs": [],
   "source": [
    "# calculate the absolute value of a number\n"
   ]
  },
  {
   "cell_type": "code",
   "execution_count": null,
   "metadata": {
    "collapsed": true
   },
   "outputs": [],
   "source": [
    "# round 3.14159265359 to 3 decimal places\n"
   ]
  },
  {
   "cell_type": "code",
   "execution_count": null,
   "metadata": {
    "collapsed": true
   },
   "outputs": [],
   "source": [
    "# square 2 and then take the square root of it\n"
   ]
  },
  {
   "cell_type": "code",
   "execution_count": 49,
   "metadata": {
    "collapsed": false
   },
   "outputs": [],
   "source": [
    "# approximate the value of e (hint: math.exp(x) contains the value for e)\n"
   ]
  },
  {
   "cell_type": "markdown",
   "metadata": {},
   "source": [
    "<a id='random'></a>\n",
    "## Random Number Functions\n",
    "<p>The random module includes a lot of methods for randomization. The [numpy module](https://docs.scipy.org/doc/numpy-1.13.0/reference/routines.random.html) also has a lot of random number functions.</p>\n",
    "<table class=\"table table-bordered\">\n",
    "<tr>\n",
    "<th style=\"width:25%;\">Function</th><th>Description</th></tr>\n",
    "<tr><td><p><a href=\"https://docs.python.org/2/library/random.html\">random.randint(a, b)</a></p></td>\n",
    "<td>Return a random integer N such that a <= N <= b.</td></tr>\n",
    "<tr><td><p><a href=\"https://docs.python.org/2/library/random.html\">randrange ([start,] stop [,step]) </a></p></td>\n",
    "<td>A randomly selected element from range(start, stop, step)</td></tr>\n",
    "<tr><td><p><a href=\"https://docs.python.org/2/library/random.html\">random.random() </a></p></td>\n",
    "<td>A random float r, such that 0 is less than or equal to r and r is less than 1</td></tr>\n",
    "<tr><td><p><a href=\"https://docs.python.org/3/library/random.html#bookkeeping-functions\">random.seed([x]) </a></p></td>\n",
    "<td>Initialize the random number generator. If a is omitted or None, the current system time is used.</td></tr>\n",
    "<tr>\n",
    "<tr><td><p><a href=\"/python/number_uniform.htm\">random.uniform(x, y)</a></p></td>\n",
    "<td>Return a random floating point number N such that x <= N <= y for x <= y and y <= N <= x for y < x.</td></tr>\n",
    "</table>"
   ]
  },
  {
   "cell_type": "code",
   "execution_count": 50,
   "metadata": {
    "collapsed": true
   },
   "outputs": [],
   "source": [
    "# import the random module\n",
    "import random"
   ]
  },
  {
   "cell_type": "markdown",
   "metadata": {},
   "source": [
    "Let's see how we can use the random.seed function. Since random numbers are generated based on the internal clock of your machine - and since most computers measure time using [unix time](https://en.wikipedia.org/wiki/Unix_time) - setting a random seed is a way for people to be able to reproduce randomness. This is important in machine learning when randomness is used to re(sample) observations to yield a result."
   ]
  },
  {
   "cell_type": "code",
   "execution_count": 61,
   "metadata": {
    "collapsed": false
   },
   "outputs": [
    {
     "data": {
      "text/plain": [
       "7028124"
      ]
     },
     "execution_count": 61,
     "metadata": {},
     "output_type": "execute_result"
    }
   ],
   "source": [
    "random.seed(123) #set the seed\n",
    "random.randint(1,100000000) #calculate a random number between 1 and 100,000,000"
   ]
  },
  {
   "cell_type": "code",
   "execution_count": 65,
   "metadata": {
    "collapsed": false
   },
   "outputs": [
    {
     "data": {
      "text/plain": [
       "7028124"
      ]
     },
     "execution_count": 65,
     "metadata": {},
     "output_type": "execute_result"
    }
   ],
   "source": [
    "# let's try the above again\n",
    "random.seed(123)\n",
    "random.randint(1,100000000)"
   ]
  },
  {
   "cell_type": "markdown",
   "metadata": {},
   "source": [
    "Change the seed above and re-run the cell. See how the number changes. Change it back and run the cell again."
   ]
  },
  {
   "cell_type": "code",
   "execution_count": 60,
   "metadata": {
    "collapsed": false
   },
   "outputs": [
    {
     "data": {
      "text/plain": [
       "35927022"
      ]
     },
     "execution_count": 60,
     "metadata": {},
     "output_type": "execute_result"
    }
   ],
   "source": []
  },
  {
   "cell_type": "markdown",
   "metadata": {},
   "source": [
    "Now calculate a random integer between 1 and 2 (inclusive) 10 times (hint: use a while loop with a counter):"
   ]
  },
  {
   "cell_type": "code",
   "execution_count": null,
   "metadata": {
    "collapsed": false
   },
   "outputs": [],
   "source": []
  },
  {
   "cell_type": "markdown",
   "metadata": {},
   "source": [
    "### Exercise 1\n",
    "Now write a function called coin_toss that accepts as a parameter the number of times you'd like to 'flip the coin'. Make the function return the number of occurences for each result in a tuple, assuming a 1 is heads and a 2 is tails. "
   ]
  },
  {
   "cell_type": "code",
   "execution_count": 83,
   "metadata": {
    "collapsed": true
   },
   "outputs": [],
   "source": [
    "#Write your function here:\n"
   ]
  },
  {
   "cell_type": "code",
   "execution_count": 14,
   "metadata": {
    "collapsed": false
   },
   "outputs": [],
   "source": [
    "# run the function here to test the result of 1,000 flips\n"
   ]
  },
  {
   "cell_type": "markdown",
   "metadata": {},
   "source": [
    "Write a new function called coin_toss_percent that takes accepts the same parameter as coin_toss but returns as a tuple the percentage of tosses that were heads and tails."
   ]
  },
  {
   "cell_type": "code",
   "execution_count": 85,
   "metadata": {
    "collapsed": true
   },
   "outputs": [],
   "source": [
    "#Write your function here:\n"
   ]
  },
  {
   "cell_type": "code",
   "execution_count": 70,
   "metadata": {
    "collapsed": false
   },
   "outputs": [],
   "source": [
    "#Test your function here:\n"
   ]
  },
  {
   "cell_type": "markdown",
   "metadata": {},
   "source": [
    "<a id='constants'></a>\n",
    "## Mathematical Constants\n",
    "The math module also defines two mathematical constants:"
   ]
  },
  {
   "cell_type": "code",
   "execution_count": 66,
   "metadata": {
    "collapsed": false
   },
   "outputs": [
    {
     "data": {
      "text/plain": [
       "3.141592653589793"
      ]
     },
     "execution_count": 66,
     "metadata": {},
     "output_type": "execute_result"
    }
   ],
   "source": [
    "math.pi"
   ]
  },
  {
   "cell_type": "code",
   "execution_count": 67,
   "metadata": {
    "collapsed": false
   },
   "outputs": [
    {
     "data": {
      "text/plain": [
       "2.718281828459045"
      ]
     },
     "execution_count": 67,
     "metadata": {},
     "output_type": "execute_result"
    }
   ],
   "source": [
    "math.e"
   ]
  },
  {
   "cell_type": "markdown",
   "metadata": {
    "collapsed": true
   },
   "source": [
    "Write a function called circumference that accepts the radius of a circle as a parameter and returns its circumference. The formula for the circumference of a circle is $2\\pi r$"
   ]
  },
  {
   "cell_type": "code",
   "execution_count": null,
   "metadata": {
    "collapsed": true
   },
   "outputs": [],
   "source": [
    "#write your function here:\n"
   ]
  },
  {
   "cell_type": "markdown",
   "metadata": {},
   "source": [
    "Now write a new function that accepts two arguments - the radius of a circle and a string charater, 'c' or 'a', which will indicate circumference or area. If you pass 'c' into the function, make it return the circumference of the circle, if you pass 'a', make it return the area."
   ]
  },
  {
   "cell_type": "code",
   "execution_count": 78,
   "metadata": {
    "collapsed": true
   },
   "outputs": [],
   "source": [
    "#write your function here:\n"
   ]
  },
  {
   "cell_type": "markdown",
   "metadata": {},
   "source": [
    "<a id='exercises'></a>\n",
    "## Exercises"
   ]
  },
  {
   "cell_type": "markdown",
   "metadata": {},
   "source": [
    "### Binary Number Conversion\n",
    "Binary is important in computer science since all values stored within a computer exist as a series of 0s and 1s. If we had just 2 fingers instead of 10, we might count the same way. But we don't. This means it's useful to have a quick system for converting base-2 (binary) numbers to the the base-10 (decimal) numbers that we're used to (and vice versa).\n",
    "\n",
    "\n",
    "Although we already know that the bin() function will convert an integer to binary and that the int() function can convert binary to base-10, a good exercise is to write functions that will do these conversions for us. Before we do that, we'll need to understand how we'd do this conversion by hand."
   ]
  },
  {
   "cell_type": "markdown",
   "metadata": {},
   "source": [
    "### Binary to Decimal\n",
    "For binary number with n digits (d):\n",
    "$$d_{n-1} ... d_3, d_2, d_1, d_0$$\n",
    "the decimal number is equal to:\n",
    "$$d_0×2^0 + d_1×2^1 + d_2×2^2 + ...$$\n",
    "<p>For example, to find the decimal value of 100001<sub>2</sub>:</p>\n",
    "<table class=\"dtable\">\n",
    "\t<tr>\n",
    "\t\t<th>binary number:</th>\n",
    "\t\t<td>1</td>\n",
    "\t\t<td>0</td>\n",
    "\t\t<td>0</td>\n",
    "\t\t<td>0</td>\n",
    "\t\t<td>0</td>\n",
    "\t\t<td>1</td>\n",
    "\t</tr>\n",
    "\t<tr>\n",
    "\t\t<th>power of 2:</th>\n",
    "\t\t<td>2<sup>5</sup></td>\n",
    "\t\t<td>2<sup>4</sup></td>\n",
    "\t\t<td>2<sup>3</sup></td>\n",
    "\t\t<td>2<sup>2</sup></td>\n",
    "\t\t<td>2<sup>1</sup></td>\n",
    "\t\t<td>2<sup>0</sup></td>\n",
    "\t</tr>\n",
    "    <tr>\n",
    "        <th>formula:</th>\n",
    "        <td>2<sup>5</sup> x 1</td>\n",
    "\t\t<td>2<sup>4</sup> x 0</td>\n",
    "\t\t<td>2<sup>3</sup> x 0</td>\n",
    "\t\t<td>2<sup>2</sup> x 0</td>\n",
    "\t\t<td>2<sup>1</sup> x 0</td>\n",
    "\t\t<td>2<sup>0</sup> x 1</td>\n",
    "    </tr>\n",
    "    <tr>\n",
    "        <th>product:</th>\n",
    "        <td>32 + </td>\n",
    "\t\t<td>0 + </td>\n",
    "\t\t<td>0 + </td>\n",
    "\t\t<td>0 + </td>\n",
    "\t\t<td>0 + </td>\n",
    "\t\t<td>1  =</td>\n",
    "        <td><b>33</b></td>\n",
    "</table>"
   ]
  },
  {
   "cell_type": "markdown",
   "metadata": {},
   "source": [
    "Let's confirm the above:"
   ]
  },
  {
   "cell_type": "code",
   "execution_count": 90,
   "metadata": {
    "collapsed": false
   },
   "outputs": [
    {
     "data": {
      "text/plain": [
       "33"
      ]
     },
     "execution_count": 90,
     "metadata": {},
     "output_type": "execute_result"
    }
   ],
   "source": [
    "int('100001',2)"
   ]
  },
  {
   "cell_type": "markdown",
   "metadata": {},
   "source": [
    "Now let's write a function called bin_to_dec to do the above. The function should accept a binary number and return the base-10 number:"
   ]
  },
  {
   "cell_type": "code",
   "execution_count": 135,
   "metadata": {
    "collapsed": true
   },
   "outputs": [],
   "source": [
    "#write your function here:\n"
   ]
  },
  {
   "cell_type": "code",
   "execution_count": 47,
   "metadata": {
    "collapsed": false
   },
   "outputs": [],
   "source": [
    "#test your function here:\n"
   ]
  },
  {
   "cell_type": "markdown",
   "metadata": {},
   "source": [
    "### Decimal to Binary\n",
    "Many ancient numeral systems used ten and its powers for representing numbers, probably because there are ten fingers on two hands and people started counting by using their fingers:\n",
    "<img src='https://upload.wikimedia.org/wikipedia/commons/1/1b/Two_hand%2C_ten_fingers.jpg'>"
   ]
  },
  {
   "cell_type": "markdown",
   "metadata": {},
   "source": [
    "How do Decimal Numbers work?<br>\n",
    "The decimal system is called base-10 because because it is based on the following 10 numbers:\n",
    "$$0, 1, 2, 3, 4, 5, 6, 7, 8, 9$$\n",
    "You count \"0,1,2,3,4,5,6,7,8,9,...\" but then you run out of symbols! So you add 1 on the left and then start again at 0: 10,11,12, ...\n",
    "<br>Because of this, every digit in a decimal number has a \"position\" based on its distance from the decimal point.\n",
    "<img src='http://www.mathsisfun.com/numbers/images/decimal.svg'>\n",
    "The position just to the left of the point is the \"Ones\" position. If we see a \"7\" there we know it means 7 ones.\n",
    "\n",
    "Every position further to the left is 10 times bigger, and every position further to the right is 10 times smaller. So when we see 11 we can say there are ten ones and one one, which makes eleven."
   ]
  },
  {
   "cell_type": "markdown",
   "metadata": {},
   "source": [
    "<p>How to convert decimal to binary</p>\n",
    "<ol>\n",
    "  <li>Divide the decimal number by 2.</li>\n",
    "  <li>Save the integer quotient for the next iteration.</li>\n",
    "  <li>Assign the remainder as the right-most digit for the binary number.</li>\n",
    "  <li>Repeat the steps above until the quotient is equal to 0.</li>\n",
    "</ol>"
   ]
  },
  {
   "cell_type": "markdown",
   "metadata": {},
   "source": [
    "Example:\n",
    "<p>Converting 13<sub>10</sub> to binary:</p>\n",
    "\t<table class=\"ntable\">\n",
    "\t\t<tr>\n",
    "\t\t\t<th>Division<br>by 2</th>\n",
    "\t\t\t<th>Quotient</th>\n",
    "\t\t\t<th>Remainder</th>\n",
    "\t\t\t<th>Bit #</th>\n",
    "\t\t</tr>\n",
    "\t\t<tr>\n",
    "\t\t\t<td>13/2</td>\n",
    "\t\t\t<td>6</td>\n",
    "\t\t\t<td>1</td>\n",
    "\t\t\t<td>0</td>\n",
    "\t\t</tr>\n",
    "\t\t<tr>\n",
    "\t\t\t<td>6/2</td>\n",
    "\t\t\t<td>3</td>\n",
    "\t\t\t<td>0</td>\n",
    "\t\t\t<td>1</td>\n",
    "\t\t</tr>\n",
    "\t\t<tr>\n",
    "\t\t\t<td>3/2</td>\n",
    "\t\t\t<td>1</td>\n",
    "\t\t\t<td>1</td>\n",
    "\t\t\t<td>2</td>\n",
    "\t\t</tr>\n",
    "\t\t<tr>\n",
    "\t\t\t<td>1/2</td>\n",
    "\t\t\t<td>0</td>\n",
    "\t\t\t<td>1</td>\n",
    "\t\t\t<td>3</td>\n",
    "\t\t</tr>\n",
    "\t</table>\n",
    "Thus 13<sub>10</sub> = 1101<sub>2</sub>"
   ]
  },
  {
   "cell_type": "code",
   "execution_count": 49,
   "metadata": {
    "collapsed": false
   },
   "outputs": [
    {
     "data": {
      "text/plain": [
       "'0b1101'"
      ]
     },
     "execution_count": 49,
     "metadata": {},
     "output_type": "execute_result"
    }
   ],
   "source": [
    "#check to see that 13 converts to 1101\n",
    "bin(13)"
   ]
  },
  {
   "cell_type": "markdown",
   "metadata": {},
   "source": [
    "Now write a function named dec_to_bin that converts an integer to binary:"
   ]
  },
  {
   "cell_type": "code",
   "execution_count": 50,
   "metadata": {
    "collapsed": false
   },
   "outputs": [],
   "source": [
    "#write your function here:\n"
   ]
  },
  {
   "cell_type": "code",
   "execution_count": 51,
   "metadata": {
    "collapsed": true
   },
   "outputs": [],
   "source": [
    "#test your function here:\n"
   ]
  }
 ],
 "metadata": {
  "kernelspec": {
   "display_name": "Python 3",
   "language": "python",
   "name": "python3"
  },
  "language_info": {
   "codemirror_mode": {
    "name": "ipython",
    "version": 3
   },
   "file_extension": ".py",
   "mimetype": "text/x-python",
   "name": "python",
   "nbconvert_exporter": "python",
   "pygments_lexer": "ipython3",
   "version": "3.6.0"
  }
 },
 "nbformat": 4,
 "nbformat_minor": 2
}
