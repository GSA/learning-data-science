{
 "cells": [
  {
   "cell_type": "markdown",
   "metadata": {},
   "source": [
    "# Intro\n",
    "Welcome to Python for Data Science! This curriculum will cover:\n",
    "- Programming Languages (Python here!\n",
    "- Statistic and probability\n",
    "- Algorithms\n",
    "- Data mining\n",
    "- Machine learning\n",
    "\n",
    "In my experience, folks are always ready to learn, but they don't always like being taught. To counter our inherent stubbornness, we'll learn by doing:  lessons are replete with examples and exercises. We'll also rely on inductive transfer learning, which means everything you learn will help you make more sense of the next thing you'll learn."
   ]
  },
  {
   "cell_type": "code",
   "execution_count": null,
   "metadata": {
    "collapsed": true
   },
   "outputs": [],
   "source": []
  }
 ],
 "metadata": {
  "kernelspec": {
   "display_name": "Python 3",
   "language": "python",
   "name": "python3"
  },
  "language_info": {
   "codemirror_mode": {
    "name": "ipython",
    "version": 3
   },
   "file_extension": ".py",
   "mimetype": "text/x-python",
   "name": "python",
   "nbconvert_exporter": "python",
   "pygments_lexer": "ipython3",
   "version": "3.6.0"
  }
 },
 "nbformat": 4,
 "nbformat_minor": 2
}
