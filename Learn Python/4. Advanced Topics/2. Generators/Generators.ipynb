{
 "cells": [
  {
   "cell_type": "code",
   "execution_count": null,
   "metadata": {
    "collapsed": true
   },
   "outputs": [],
   "source": [
    "# Generators"
   ]
  },
  {
   "cell_type": "code",
   "execution_count": null,
   "metadata": {
    "collapsed": true
   },
   "outputs": [],
   "source": [
    "#9.8. Iterators\n",
    "#By now you have probably noticed that most container objects can be looped over using a for statement:\n",
    "for element in [1, 2, 3]:\n",
    "    print(element)"
   ]
  },
  {
   "cell_type": "code",
   "execution_count": null,
   "metadata": {
    "collapsed": true
   },
   "outputs": [],
   "source": [
    "for key in {'one':1, 'two':2}:\n",
    "    print(key)"
   ]
  },
  {
   "cell_type": "code",
   "execution_count": null,
   "metadata": {
    "collapsed": true
   },
   "outputs": [],
   "source": [
    "for char in \"123\":\n",
    "    print(char)"
   ]
  },
  {
   "cell_type": "code",
   "execution_count": null,
   "metadata": {
    "collapsed": true
   },
   "outputs": [],
   "source": [
    "#This style of access is clear, concise, and convenient. The use of iterators pervades and unifies Python. Behind \n",
    "#the scenes, the for statement calls iter() on the container object. The function returns an iterator object that\n",
    "#defines the method __next__() which accesses elements in the container one at a time. When there are no more \n",
    "#elements, __next__() raises a StopIteration exception which tells the for loop to terminate. You can call \n",
    "#the __next__() method using the next() built-in function; this example shows how it all works:"
   ]
  },
  {
   "cell_type": "code",
   "execution_count": null,
   "metadata": {
    "collapsed": true
   },
   "outputs": [],
   "source": [
    "s = 'abc'\n",
    "it = iter(s)\n",
    "it"
   ]
  },
  {
   "cell_type": "code",
   "execution_count": null,
   "metadata": {
    "collapsed": true
   },
   "outputs": [],
   "source": [
    "next(it)"
   ]
  },
  {
   "cell_type": "code",
   "execution_count": null,
   "metadata": {
    "collapsed": true
   },
   "outputs": [],
   "source": [
    "next(it)"
   ]
  },
  {
   "cell_type": "code",
   "execution_count": null,
   "metadata": {
    "collapsed": true
   },
   "outputs": [],
   "source": [
    "next(it)"
   ]
  },
  {
   "cell_type": "code",
   "execution_count": null,
   "metadata": {
    "collapsed": true
   },
   "outputs": [],
   "source": [
    "next(it)"
   ]
  },
  {
   "cell_type": "code",
   "execution_count": null,
   "metadata": {
    "collapsed": true
   },
   "outputs": [],
   "source": [
    "#Having seen the mechanics behind the iterator protocol, it is easy to add iterator behavior to your classes. \n",
    "#Define an __iter__() method which returns an object with a __next__() method. If the class defines __next__(), \n",
    "#then __iter__() can just return self:\n",
    "class Reverse:\n",
    "    \"\"\"Iterator for looping over a sequence backwards.\"\"\"\n",
    "    def __init__(self, data):\n",
    "        self.data = data\n",
    "        self.index = len(data)\n",
    "\n",
    "    def __iter__(self):\n",
    "        return self\n",
    "\n",
    "    def __next__(self):\n",
    "        if self.index == 0:\n",
    "            raise StopIteration\n",
    "        self.index = self.index - 1\n",
    "        return self.data[self.index]\n",
    "    \n",
    "rev = Reverse('spam')\n",
    "iter(rev)"
   ]
  },
  {
   "cell_type": "code",
   "execution_count": null,
   "metadata": {
    "collapsed": true
   },
   "outputs": [],
   "source": [
    "for char in rev:\n",
    "    print(char)"
   ]
  },
  {
   "cell_type": "code",
   "execution_count": null,
   "metadata": {
    "collapsed": true
   },
   "outputs": [],
   "source": [
    "# 9.9. Generators\n",
    "#Generators are a simple and powerful tool for creating iterators. They are written like regular functions but \n",
    "#use the yield statement whenever they want to return data. Each time next() is called on it, the generator \n",
    "#resumes where it left off (it remembers all the data values and which statement was last executed). An \n",
    "#example shows that generators can be trivially easy to create:\n",
    "def reverse(data):\n",
    "    for index in range(len(data)-1, -1, -1):\n",
    "        yield data[index]"
   ]
  },
  {
   "cell_type": "code",
   "execution_count": null,
   "metadata": {
    "collapsed": true
   },
   "outputs": [],
   "source": [
    "for char in reverse('golf'):\n",
    "    print(char)"
   ]
  },
  {
   "cell_type": "code",
   "execution_count": null,
   "metadata": {
    "collapsed": true
   },
   "outputs": [],
   "source": [
    "#Anything that can be done with generators can also be done with class-based iterators as described in the \n",
    "#previous section. What makes generators so compact is that the __iter__() and __next__() methods are created \n",
    "#automatically.\n",
    "\n",
    "#Another key feature is that the local variables and execution state are automatically saved between calls. This made\n",
    "#the function easier to write and much more clear than an approach using instance variables like self.index and \n",
    "#self.data.\n",
    "\n",
    "#In addition to automatic method creation and saving program state, when generators terminate, they automatically \n",
    "#raise StopIteration. In combination, these features make it easy to create iterators with no more effort \n",
    "#than writing a regular function."
   ]
  },
  {
   "cell_type": "code",
   "execution_count": null,
   "metadata": {
    "collapsed": true
   },
   "outputs": [],
   "source": [
    "# 9.10. Generator Expressions\n",
    "#Some simple generators can be coded succinctly as expressions using a syntax similar to list comprehensions but \n",
    "#with parentheses instead of brackets. These expressions are designed for situations where the generator is used \n",
    "#right away by an enclosing function. Generator expressions are more compact but less versatile than full generator \n",
    "#definitions and tend to be more memory friendly than equivalent list comprehensions. Examples:\n",
    "\n",
    "sum(i*i for i in range(10))    #sum of squares"
   ]
  },
  {
   "cell_type": "code",
   "execution_count": null,
   "metadata": {
    "collapsed": true
   },
   "outputs": [],
   "source": [
    "xvec = [10, 20, 30]\n",
    "yvec = [7, 5, 3]\n",
    "sum(x*y for x,y in zip(xvec, yvec))     #dot product"
   ]
  },
  {
   "cell_type": "markdown",
   "metadata": {},
   "source": [
    "## Generator Functions\n",
    "A generator function is defined like a normal function, but whenever it needs to generate a value, it does so with the yield keyword rather than return. If the body of a def contains yield, the function automatically becomes a generator function (even if it also contains a return statement). generator functions create generator iterators, which are just a special type of iterator."
   ]
  },
  {
   "cell_type": "code",
   "execution_count": null,
   "metadata": {
    "collapsed": true
   },
   "outputs": [],
   "source": [
    "def simple_generator_function():\n",
    ">>>    yield 1\n",
    ">>>    yield 2\n",
    ">>>    yield 3"
   ]
  },
  {
   "cell_type": "code",
   "execution_count": null,
   "metadata": {
    "collapsed": true
   },
   "outputs": [],
   "source": [
    ">>> for value in simple_generator_function():\n",
    ">>>     print(value)\n",
    "1\n",
    "2\n",
    "3\n",
    ">>> our_generator = simple_generator_function()\n",
    ">>> next(our_generator)\n",
    "1\n",
    ">>> next(our_generator)\n",
    "2\n",
    ">>> next(our_generator)\n",
    "3"
   ]
  },
  {
   "cell_type": "markdown",
   "metadata": {},
   "source": [
    "What's the magic part? Glad you asked! When a generator function calls yield, the \"state\" of the generator function is frozen; the values of all variables are saved and the next line of code to be executed is recorded until next() is called again. Once it is, the generator function simply resumes where it left off. If next() is never called again, the state recorded during the yield call is (eventually) discarded.\n",
    "\n",
    "Remember, yield both passes a value to whoever called next(), and saves the \"state\" of the generator function."
   ]
  },
  {
   "cell_type": "code",
   "execution_count": null,
   "metadata": {
    "collapsed": true
   },
   "outputs": [],
   "source": [
    "Remember...\n",
    "There are a few key ideas I hope you take away from this discussion:\n",
    "\n",
    "generators are used to generate a series of values\n",
    "yield is like the return of generator functions\n",
    "The only other thing yield does is save the \"state\" of a generator function\n",
    "A generator is just a special type of iterator\n",
    "Like iterators, we can get the next value from a generator using next()\n",
    "for gets values by calling next() implicitly"
   ]
  }
 ],
 "metadata": {
  "kernelspec": {
   "display_name": "Python 3",
   "language": "python",
   "name": "python3"
  },
  "language_info": {
   "codemirror_mode": {
    "name": "ipython",
    "version": 3
   },
   "file_extension": ".py",
   "mimetype": "text/x-python",
   "name": "python",
   "nbconvert_exporter": "python",
   "pygments_lexer": "ipython3",
   "version": "3.6.0"
  }
 },
 "nbformat": 4,
 "nbformat_minor": 2
}
